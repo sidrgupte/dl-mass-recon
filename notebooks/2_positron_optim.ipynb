{
 "cells": [
  {
   "cell_type": "code",
   "execution_count": 1,
   "id": "8f9e3c66-21ba-4575-ae0b-1b861622744e",
   "metadata": {},
   "outputs": [],
   "source": [
    "import os\n",
    "import numpy as np\n",
    "import pandas as pd\n",
    "import sys\n",
    "import importlib\n",
    "import ipynbname\n",
    "%matplotlib inline"
   ]
  },
  {
   "cell_type": "code",
   "execution_count": 2,
   "id": "0aaccf4f-a967-4298-b750-511fa9bffe2a",
   "metadata": {},
   "outputs": [
    {
     "name": "stdout",
     "output_type": "stream",
     "text": [
      "parent path: /home/sid/coding/mass_recon\n",
      "base path: /home/sid/coding/mass_recon/notebooks\n",
      "filtered data path: /home/sid/coding/mass_recon/data/filtered\n",
      "saved models path: /home/sid/coding/mass_recon/results/trained_models\n"
     ]
    }
   ],
   "source": [
    "base_path = os.path.dirname(ipynbname.path())\n",
    "parent_path = os.path.dirname(base_path)  \n",
    "src_path = parent_path + '/src'\n",
    "filtered_data_path = parent_path + '/data/filtered'\n",
    "saved_models_path = src_path + '/config'\n",
    "\n",
    "print(f\"parent path: {parent_path}\")\n",
    "print(f\"base path: {base_path}\")\n",
    "print(f\"filtered data path: {filtered_data_path}\")\n",
    "print(f\"saved models path: {saved_models_path}\")"
   ]
  },
  {
   "cell_type": "code",
   "execution_count": 3,
   "id": "c7e6abc8-9fd7-43ca-af6b-7af5ffd2689d",
   "metadata": {},
   "outputs": [
    {
     "name": "stderr",
     "output_type": "stream",
     "text": [
      "/home/sid/.local/lib/python3.13/site-packages/tqdm/auto.py:21: TqdmWarning: IProgress not found. Please update jupyter and ipywidgets. See https://ipywidgets.readthedocs.io/en/stable/user_install.html\n",
      "  from .autonotebook import tqdm as notebook_tqdm\n"
     ]
    }
   ],
   "source": [
    "# import ml model file\n",
    "models_path = os.path.join(src_path, \"models\")\n",
    "utils_path = os.path.join(parent_path, \"utils\")\n",
    "\n",
    "sys.path.append(models_path)\n",
    "sys.path.append(utils_path)\n",
    "\n",
    "import ml_model, data_utils\n",
    "importlib.reload(ml_model)\n",
    "importlib.reload(data_utils)\n",
    "from ml_model import *\n",
    "from data_utils import *"
   ]
  },
  {
   "cell_type": "code",
   "execution_count": 4,
   "id": "b5f55b55-0673-487a-ac3f-061fd5e7b63f",
   "metadata": {},
   "outputs": [],
   "source": [
    "side = 'positron'"
   ]
  },
  {
   "cell_type": "markdown",
   "id": "93ab2195-e57f-4dfc-847d-1fc2b1953dbf",
   "metadata": {},
   "source": [
    "## 1. Without Scattering"
   ]
  },
  {
   "cell_type": "code",
   "execution_count": 6,
   "id": "d5f0e294-3af3-4cae-84f0-fc662d419f8a",
   "metadata": {},
   "outputs": [
    {
     "name": "stdout",
     "output_type": "stream",
     "text": [
      "Train:\t/home/sid/coding/mass_recon/data/filtered/PositronCoords_no_scat.dat,\n",
      "Test:\t/home/sid/coding/mass_recon/data/filtered/PositronSort_no_scat.dat\n"
     ]
    }
   ],
   "source": [
    "path_train_n, path_test_n = get_data_path(side = side, \n",
    "                                          scat = 'n', \n",
    "                                          data_path = filtered_data_path)\n",
    "print(f\"Train:\\t{path_train_n},\\nTest:\\t{path_test_n}\")"
   ]
  },
  {
   "cell_type": "code",
   "execution_count": 7,
   "id": "27a48c0c-9e35-4a38-be80-563dcc684259",
   "metadata": {
    "scrolled": true
   },
   "outputs": [
    {
     "name": "stderr",
     "output_type": "stream",
     "text": [
      "[I 2025-03-14 16:56:15,581] A new study created in memory with name: no-name-3ead2723-3e22-41e4-976b-2b98b7599540\n"
     ]
    },
    {
     "name": "stdout",
     "output_type": "stream",
     "text": [
      "Starting hyperparameter tuning...\n"
     ]
    },
    {
     "name": "stderr",
     "output_type": "stream",
     "text": [
      "[I 2025-03-14 16:56:16,986] Trial 0 finished with value: 0.01602645660291672 and parameters: {'n_estimators': 745, 'learning_rate': 0.1781758533979484, 'max_depth': 9, 'min_child_weight': 7, 'gamma': 2.2961865672313575, 'reg_alpha': 0.12371846237221219, 'reg_lambda': 0.40760273211676945, 'subsample': 0.9582141911710548, 'colsample_bytree': 0.7978284934220502}. Best is trial 0 with value: 0.01602645660291672.\n",
      "[I 2025-03-14 16:56:21,346] Trial 1 finished with value: 0.01789875504530638 and parameters: {'n_estimators': 1435, 'learning_rate': 0.0547229581025589, 'max_depth': 10, 'min_child_weight': 3, 'gamma': 3.51380158618133, 'reg_alpha': 0.2590373946326673, 'reg_lambda': 7.9638744219507, 'subsample': 0.871843928152049, 'colsample_bytree': 0.931648230226789}. Best is trial 0 with value: 0.01602645660291672.\n",
      "[I 2025-03-14 16:56:24,548] Trial 2 finished with value: 0.014445741531772522 and parameters: {'n_estimators': 636, 'learning_rate': 0.12487045709711887, 'max_depth': 13, 'min_child_weight': 5, 'gamma': 1.0611147653988735, 'reg_alpha': 1.0208771121692342, 'reg_lambda': 4.923103057760945, 'subsample': 0.7809394067892739, 'colsample_bytree': 0.8867542215580061}. Best is trial 2 with value: 0.014445741531772522.\n",
      "[I 2025-03-14 16:56:27,130] Trial 3 finished with value: 0.014384335278227715 and parameters: {'n_estimators': 570, 'learning_rate': 0.12271714730384828, 'max_depth': 8, 'min_child_weight': 9, 'gamma': 1.1889855447667597, 'reg_alpha': 0.003055899516094299, 'reg_lambda': 0.0404634975391238, 'subsample': 0.7173798557694311, 'colsample_bytree': 0.8033645781645083}. Best is trial 3 with value: 0.014384335278227715.\n",
      "[I 2025-03-14 16:56:34,598] Trial 4 finished with value: 0.014614696459025283 and parameters: {'n_estimators': 1006, 'learning_rate': 0.06638306879441914, 'max_depth': 18, 'min_child_weight': 2, 'gamma': 1.3826702888608748, 'reg_alpha': 0.10693352243161508, 'reg_lambda': 0.014812509113338732, 'subsample': 0.6535192377460082, 'colsample_bytree': 0.8989542760918672}. Best is trial 3 with value: 0.014384335278227715.\n",
      "[I 2025-03-14 16:56:40,268] Trial 5 finished with value: 0.013639900909620056 and parameters: {'n_estimators': 885, 'learning_rate': 0.040698466387188215, 'max_depth': 10, 'min_child_weight': 6, 'gamma': 1.440460186165999, 'reg_alpha': 0.07189085158715985, 'reg_lambda': 0.041778826424366665, 'subsample': 0.7666922561927897, 'colsample_bytree': 0.9055577310435016}. Best is trial 5 with value: 0.013639900909620056.\n",
      "[I 2025-03-14 16:57:04,593] Trial 6 finished with value: 0.03363184708834354 and parameters: {'n_estimators': 1198, 'learning_rate': 0.01711168632683747, 'max_depth': 3, 'min_child_weight': 5, 'gamma': 4.128187947153485, 'reg_alpha': 0.15891152898123265, 'reg_lambda': 1.8856536409116609, 'subsample': 0.8919268408534926, 'colsample_bytree': 0.8100559217503233}. Best is trial 5 with value: 0.013639900909620056.\n",
      "[I 2025-03-14 16:57:41,141] Trial 7 finished with value: 0.029834088645961723 and parameters: {'n_estimators': 1350, 'learning_rate': 0.012481432827819203, 'max_depth': 3, 'min_child_weight': 1, 'gamma': 1.8905281366947402, 'reg_alpha': 7.476373537949234, 'reg_lambda': 0.001294540584177515, 'subsample': 0.6066804824534796, 'colsample_bytree': 0.9411680673321797}. Best is trial 5 with value: 0.013639900909620056.\n",
      "[I 2025-03-14 16:57:44,515] Trial 8 finished with value: 0.016822934215017845 and parameters: {'n_estimators': 488, 'learning_rate': 0.0793948770752431, 'max_depth': 12, 'min_child_weight': 9, 'gamma': 2.274615633848278, 'reg_alpha': 0.26098896757684603, 'reg_lambda': 0.3890099467318835, 'subsample': 0.639130414807391, 'colsample_bytree': 0.8572127242980527}. Best is trial 5 with value: 0.013639900909620056.\n",
      "[I 2025-03-14 16:57:47,802] Trial 9 finished with value: 0.027233299242196883 and parameters: {'n_estimators': 273, 'learning_rate': 0.17725009719827534, 'max_depth': 13, 'min_child_weight': 3, 'gamma': 4.59185058673164, 'reg_alpha': 0.045900678578196526, 'reg_lambda': 0.041021188052061376, 'subsample': 0.6980373295191834, 'colsample_bytree': 0.6298845714162788}. Best is trial 5 with value: 0.013639900909620056.\n",
      "[I 2025-03-14 16:58:04,286] Trial 10 finished with value: 0.014932438234415521 and parameters: {'n_estimators': 1006, 'learning_rate': 0.029419490816978505, 'max_depth': 20, 'min_child_weight': 7, 'gamma': 0.1215439258983988, 'reg_alpha': 0.008561321882547374, 'reg_lambda': 0.005092700143046029, 'subsample': 0.7838703676801333, 'colsample_bytree': 0.6975017078534871}. Best is trial 5 with value: 0.013639900909620056.\n",
      "[I 2025-03-14 16:58:20,763] Trial 11 finished with value: 0.01474290480951724 and parameters: {'n_estimators': 494, 'learning_rate': 0.02825869167512148, 'max_depth': 7, 'min_child_weight': 10, 'gamma': 0.19830724109687425, 'reg_alpha': 0.001040239425517567, 'reg_lambda': 0.08761266059877634, 'subsample': 0.7240480123150346, 'colsample_bytree': 0.7268413852502514}. Best is trial 5 with value: 0.013639900909620056.\n",
      "[I 2025-03-14 16:58:28,416] Trial 12 finished with value: 0.01754848235563664 and parameters: {'n_estimators': 884, 'learning_rate': 0.03472945841182048, 'max_depth': 7, 'min_child_weight': 8, 'gamma': 3.145113366586225, 'reg_alpha': 0.005267029478227157, 'reg_lambda': 0.01808457600687591, 'subsample': 0.7294371809976142, 'colsample_bytree': 0.8041914246954222}. Best is trial 5 with value: 0.013639900909620056.\n",
      "[I 2025-03-14 16:58:31,668] Trial 13 finished with value: 0.013928922288903894 and parameters: {'n_estimators': 200, 'learning_rate': 0.10122171710267347, 'max_depth': 16, 'min_child_weight': 6, 'gamma': 1.3442114831215002, 'reg_alpha': 0.016612312484000545, 'reg_lambda': 0.2931482704569022, 'subsample': 0.8380332679708957, 'colsample_bytree': 0.9820052957446199}. Best is trial 5 with value: 0.013639900909620056.\n",
      "[I 2025-03-14 16:58:34,708] Trial 14 finished with value: 0.012264767958071592 and parameters: {'n_estimators': 275, 'learning_rate': 0.09845324252993969, 'max_depth': 15, 'min_child_weight': 6, 'gamma': 0.8212511355078277, 'reg_alpha': 0.01755584968489184, 'reg_lambda': 0.38869987272461737, 'subsample': 0.854640954755425, 'colsample_bytree': 0.997849552320825}. Best is trial 14 with value: 0.012264767958071592.\n",
      "[I 2025-03-14 16:58:42,559] Trial 15 finished with value: 0.010394487199602166 and parameters: {'n_estimators': 1155, 'learning_rate': 0.03919928643101301, 'max_depth': 15, 'min_child_weight': 4, 'gamma': 0.5482980137628078, 'reg_alpha': 0.046224030467539416, 'reg_lambda': 1.4176873169131414, 'subsample': 0.9522842867420401, 'colsample_bytree': 0.9997386837999502}. Best is trial 15 with value: 0.010394487199602166.\n",
      "[I 2025-03-14 16:58:58,280] Trial 16 finished with value: 0.010399125816425984 and parameters: {'n_estimators': 1206, 'learning_rate': 0.022360637004730424, 'max_depth': 16, 'min_child_weight': 4, 'gamma': 0.6454318497052765, 'reg_alpha': 0.02557809969924953, 'reg_lambda': 1.2048860339452627, 'subsample': 0.9987060865851587, 'colsample_bytree': 0.9965188390988874}. Best is trial 15 with value: 0.010394487199602166.\n",
      "[I 2025-03-14 16:59:11,916] Trial 17 finished with value: 0.010277239635408948 and parameters: {'n_estimators': 1228, 'learning_rate': 0.019692378658403037, 'max_depth': 16, 'min_child_weight': 4, 'gamma': 0.6129804344092786, 'reg_alpha': 0.03056733171771405, 'reg_lambda': 1.7789398202546913, 'subsample': 0.9996940528119875, 'colsample_bytree': 0.9673591985967385}. Best is trial 17 with value: 0.010277239635408948.\n",
      "[I 2025-03-14 16:59:35,788] Trial 18 finished with value: 0.015656099519218442 and parameters: {'n_estimators': 1193, 'learning_rate': 0.01248624309711567, 'max_depth': 20, 'min_child_weight': 4, 'gamma': 2.926256681853147, 'reg_alpha': 1.0681831897820735, 'reg_lambda': 1.827605202755884, 'subsample': 0.9262191890258343, 'colsample_bytree': 0.9593570003220095}. Best is trial 17 with value: 0.010277239635408948.\n",
      "[I 2025-03-14 16:59:55,751] Trial 19 finished with value: 0.010455812657418089 and parameters: {'n_estimators': 1486, 'learning_rate': 0.019651049235757903, 'max_depth': 18, 'min_child_weight': 1, 'gamma': 0.5715364953420946, 'reg_alpha': 0.775896584922237, 'reg_lambda': 0.9894253047069671, 'subsample': 0.9948350009172784, 'colsample_bytree': 0.8680815516307505}. Best is trial 17 with value: 0.010277239635408948.\n",
      "[I 2025-03-14 17:00:02,770] Trial 20 finished with value: 0.014788536636184483 and parameters: {'n_estimators': 1063, 'learning_rate': 0.05032707335816778, 'max_depth': 14, 'min_child_weight': 3, 'gamma': 2.002306316230341, 'reg_alpha': 0.0014809171593237302, 'reg_lambda': 4.990906093836562, 'subsample': 0.9359643321502658, 'colsample_bytree': 0.9423369349742032}. Best is trial 17 with value: 0.010277239635408948.\n",
      "[I 2025-03-14 17:00:20,781] Trial 21 finished with value: 0.009843380967978663 and parameters: {'n_estimators': 1259, 'learning_rate': 0.019888914983411075, 'max_depth': 17, 'min_child_weight': 4, 'gamma': 0.5066946252566419, 'reg_alpha': 0.02656810255705141, 'reg_lambda': 1.2878209530649367, 'subsample': 0.998651793510737, 'colsample_bytree': 0.990413752080459}. Best is trial 21 with value: 0.009843380967978663.\n",
      "[I 2025-03-14 17:01:02,289] Trial 22 finished with value: 0.007873314676237496 and parameters: {'n_estimators': 1333, 'learning_rate': 0.010436991551527318, 'max_depth': 18, 'min_child_weight': 4, 'gamma': 0.11259548286740784, 'reg_alpha': 0.009876811507174595, 'reg_lambda': 2.948182835950474, 'subsample': 0.9623197900527638, 'colsample_bytree': 0.9714913099412613}. Best is trial 22 with value: 0.007873314676237496.\n",
      "[I 2025-03-14 17:01:33,581] Trial 23 finished with value: 0.00883612414056632 and parameters: {'n_estimators': 1356, 'learning_rate': 0.014837977219663666, 'max_depth': 18, 'min_child_weight': 2, 'gamma': 0.24065733481948726, 'reg_alpha': 0.005293802840567697, 'reg_lambda': 3.5283985414117907, 'subsample': 0.9735821564602499, 'colsample_bytree': 0.9586744666560888}. Best is trial 22 with value: 0.007873314676237496.\n",
      "[I 2025-03-14 17:02:19,217] Trial 24 finished with value: 0.007545288507939129 and parameters: {'n_estimators': 1335, 'learning_rate': 0.010487286295206195, 'max_depth': 18, 'min_child_weight': 2, 'gamma': 0.07406256375717862, 'reg_alpha': 0.006071049021637593, 'reg_lambda': 3.4193066205371037, 'subsample': 0.9112497735958425, 'colsample_bytree': 0.9191869246254082}. Best is trial 24 with value: 0.007545288507939129.\n",
      "[I 2025-03-14 17:03:13,150] Trial 25 finished with value: 0.006308271636556455 and parameters: {'n_estimators': 1367, 'learning_rate': 0.010619934673771404, 'max_depth': 18, 'min_child_weight': 1, 'gamma': 0.005810211749961436, 'reg_alpha': 0.003026134301443596, 'reg_lambda': 9.35064597371124, 'subsample': 0.9100003445464752, 'colsample_bytree': 0.8377263756589528}. Best is trial 25 with value: 0.006308271636556455.\n",
      "[I 2025-03-14 17:03:45,071] Trial 26 finished with value: 0.008355705579409605 and parameters: {'n_estimators': 1392, 'learning_rate': 0.01030039683915707, 'max_depth': 19, 'min_child_weight': 2, 'gamma': 0.14175638920761124, 'reg_alpha': 0.002581247384696287, 'reg_lambda': 9.152325756871047, 'subsample': 0.9122937110783255, 'colsample_bytree': 0.8514667709168243}. Best is trial 25 with value: 0.006308271636556455.\n",
      "[I 2025-03-14 17:04:14,213] Trial 27 finished with value: 0.01412922618281544 and parameters: {'n_estimators': 1309, 'learning_rate': 0.010109673661835112, 'max_depth': 20, 'min_child_weight': 1, 'gamma': 1.7348290005764653, 'reg_alpha': 0.009518568881808846, 'reg_lambda': 9.759163783489356, 'subsample': 0.8185906413386425, 'colsample_bytree': 0.8382166261862627}. Best is trial 25 with value: 0.006308271636556455.\n",
      "[I 2025-03-14 17:04:34,091] Trial 28 finished with value: 0.011702884439962603 and parameters: {'n_estimators': 1113, 'learning_rate': 0.013589514329857461, 'max_depth': 17, 'min_child_weight': 2, 'gamma': 0.9415203690546903, 'reg_alpha': 0.002101407549605812, 'reg_lambda': 3.31426365602454, 'subsample': 0.893145534338382, 'colsample_bytree': 0.7522277774321788}. Best is trial 25 with value: 0.006308271636556455.\n",
      "[I 2025-03-14 17:05:14,726] Trial 29 finished with value: 0.0066204338207477035 and parameters: {'n_estimators': 776, 'learning_rate': 0.010626024723483042, 'max_depth': 19, 'min_child_weight': 1, 'gamma': 0.030658297977557467, 'reg_alpha': 0.004415390102382285, 'reg_lambda': 0.16704646975768467, 'subsample': 0.9594481392729768, 'colsample_bytree': 0.9167673692113677}. Best is trial 25 with value: 0.006308271636556455.\n",
      "[I 2025-03-14 17:05:35,351] Trial 30 finished with value: 0.014621926132818404 and parameters: {'n_estimators': 768, 'learning_rate': 0.015545028396694829, 'max_depth': 19, 'min_child_weight': 1, 'gamma': 2.540545157632085, 'reg_alpha': 0.004376562378183526, 'reg_lambda': 0.1630919508420535, 'subsample': 0.9069092081042843, 'colsample_bytree': 0.9173524500133394}. Best is trial 25 with value: 0.006308271636556455.\n",
      "[I 2025-03-14 17:06:17,837] Trial 31 finished with value: 0.006262095607887501 and parameters: {'n_estimators': 825, 'learning_rate': 0.010484407020633897, 'max_depth': 17, 'min_child_weight': 2, 'gamma': 0.01032890898098945, 'reg_alpha': 0.009179924609068508, 'reg_lambda': 0.7158323647155762, 'subsample': 0.9567700532122292, 'colsample_bytree': 0.8873366891980837}. Best is trial 31 with value: 0.006262095607887501.\n",
      "[I 2025-03-14 17:06:46,227] Trial 32 finished with value: 0.006070774653255919 and parameters: {'n_estimators': 722, 'learning_rate': 0.011824459972529459, 'max_depth': 19, 'min_child_weight': 2, 'gamma': 0.00588202731918501, 'reg_alpha': 0.001035068454941463, 'reg_lambda': 0.6105706111448602, 'subsample': 0.875435828608588, 'colsample_bytree': 0.8312130190145474}. Best is trial 32 with value: 0.006070774653255919.\n",
      "[I 2025-03-14 17:07:12,203] Trial 33 finished with value: 0.009399825534175493 and parameters: {'n_estimators': 749, 'learning_rate': 0.012550418677124602, 'max_depth': 19, 'min_child_weight': 3, 'gamma': 0.39723009173445706, 'reg_alpha': 0.0011266302992499664, 'reg_lambda': 0.16564247680001112, 'subsample': 0.8720254739730483, 'colsample_bytree': 0.8309646973135545}. Best is trial 32 with value: 0.006070774653255919.\n",
      "[I 2025-03-14 17:07:34,759] Trial 34 finished with value: 0.011401755346641885 and parameters: {'n_estimators': 659, 'learning_rate': 0.017577494299050964, 'max_depth': 17, 'min_child_weight': 1, 'gamma': 0.9844976301515761, 'reg_alpha': 0.00256201818205097, 'reg_lambda': 0.8437582188489811, 'subsample': 0.9446785233561578, 'colsample_bytree': 0.8824521698771515}. Best is trial 32 with value: 0.006070774653255919.\n",
      "[I 2025-03-14 17:07:48,965] Trial 35 finished with value: 0.01099314040256135 and parameters: {'n_estimators': 821, 'learning_rate': 0.023249038438390032, 'max_depth': 20, 'min_child_weight': 2, 'gamma': 0.7858622567517586, 'reg_alpha': 0.0017209169740678696, 'reg_lambda': 0.19228432082264876, 'subsample': 0.8744014057585261, 'colsample_bytree': 0.7547470419306135}. Best is trial 32 with value: 0.006070774653255919.\n",
      "[I 2025-03-14 17:08:24,761] Trial 36 finished with value: 0.00921655361106624 and parameters: {'n_estimators': 959, 'learning_rate': 0.012233151848174847, 'max_depth': 15, 'min_child_weight': 3, 'gamma': 0.3704226417286263, 'reg_alpha': 0.0031069639845268753, 'reg_lambda': 0.6819335725140466, 'subsample': 0.9704744215524079, 'colsample_bytree': 0.8795034733261905}. Best is trial 32 with value: 0.006070774653255919.\n",
      "[I 2025-03-14 17:08:49,526] Trial 37 finished with value: 0.012126746781432426 and parameters: {'n_estimators': 608, 'learning_rate': 0.01508806108459938, 'max_depth': 19, 'min_child_weight': 1, 'gamma': 1.1624456111131942, 'reg_alpha': 0.0037105717146651397, 'reg_lambda': 0.08222783477110475, 'subsample': 0.8365787469197464, 'colsample_bytree': 0.7819762322797926}. Best is trial 32 with value: 0.006070774653255919.\n",
      "[I 2025-03-14 17:09:27,536] Trial 38 finished with value: 0.006227760160174406 and parameters: {'n_estimators': 677, 'learning_rate': 0.011820611101693738, 'max_depth': 14, 'min_child_weight': 3, 'gamma': 0.008762822875574335, 'reg_alpha': 0.013668164216421941, 'reg_lambda': 0.6594175116172697, 'subsample': 0.9222446500788543, 'colsample_bytree': 0.822882737525816}. Best is trial 32 with value: 0.006070774653255919.\n",
      "[I 2025-03-14 17:09:45,372] Trial 39 finished with value: 0.01645101119031289 and parameters: {'n_estimators': 703, 'learning_rate': 0.016717038591219695, 'max_depth': 11, 'min_child_weight': 3, 'gamma': 3.7303395733419067, 'reg_alpha': 0.014996510268864095, 'reg_lambda': 0.6253535637400777, 'subsample': 0.8859216989783448, 'colsample_bytree': 0.8295473893883226}. Best is trial 32 with value: 0.006070774653255919.\n",
      "[I 2025-03-14 17:09:57,695] Trial 40 finished with value: 0.01334446134869531 and parameters: {'n_estimators': 521, 'learning_rate': 0.025608413014025104, 'max_depth': 12, 'min_child_weight': 5, 'gamma': 1.5279542593192745, 'reg_alpha': 0.010172435574524635, 'reg_lambda': 5.329726842181969, 'subsample': 0.9256412149009341, 'colsample_bytree': 0.7745876210550335}. Best is trial 32 with value: 0.006070774653255919.\n",
      "[I 2025-03-14 17:10:28,733] Trial 41 finished with value: 0.009176757633420967 and parameters: {'n_estimators': 822, 'learning_rate': 0.011448828170480792, 'max_depth': 17, 'min_child_weight': 2, 'gamma': 0.37154662551952183, 'reg_alpha': 0.0018019495578438262, 'reg_lambda': 0.5193040927341717, 'subsample': 0.9721128288252981, 'colsample_bytree': 0.8951734225557952}. Best is trial 32 with value: 0.006070774653255919.\n",
      "[I 2025-03-14 17:11:01,672] Trial 42 finished with value: 0.007554796203790151 and parameters: {'n_estimators': 905, 'learning_rate': 0.013929439407430452, 'max_depth': 14, 'min_child_weight': 1, 'gamma': 0.10602413964917501, 'reg_alpha': 0.006706241767595391, 'reg_lambda': 0.26279749178981326, 'subsample': 0.9436556511999503, 'colsample_bytree': 0.8249930667012817}. Best is trial 32 with value: 0.006070774653255919.\n",
      "[I 2025-03-14 17:11:24,027] Trial 43 finished with value: 0.009578709653570341 and parameters: {'n_estimators': 394, 'learning_rate': 0.011789732706407666, 'max_depth': 14, 'min_child_weight': 2, 'gamma': 0.005464105487873017, 'reg_alpha': 0.003538728784524435, 'reg_lambda': 0.0689253801055337, 'subsample': 0.8500078535851178, 'colsample_bytree': 0.8497253346128459}. Best is trial 32 with value: 0.006070774653255919.\n",
      "[I 2025-03-14 17:12:09,685] Trial 44 finished with value: 0.005590815491631888 and parameters: {'n_estimators': 714, 'learning_rate': 0.014024764426503303, 'max_depth': 16, 'min_child_weight': 3, 'gamma': 0.0002678988568274865, 'reg_alpha': 0.0012138695158967325, 'reg_lambda': 0.021703613858353902, 'subsample': 0.9006943387997323, 'colsample_bytree': 0.8689038684929457}. Best is trial 44 with value: 0.005590815491631888.\n",
      "[I 2025-03-14 17:12:31,176] Trial 45 finished with value: 0.009377217258666809 and parameters: {'n_estimators': 673, 'learning_rate': 0.017510681730572148, 'max_depth': 13, 'min_child_weight': 3, 'gamma': 0.37126590117507147, 'reg_alpha': 0.0011567355366122432, 'reg_lambda': 0.02057397353419495, 'subsample': 0.8067607113356088, 'colsample_bytree': 0.8073265871883782}. Best is trial 44 with value: 0.005590815491631888.\n",
      "[I 2025-03-14 17:12:50,236] Trial 46 finished with value: 0.01783247277990159 and parameters: {'n_estimators': 578, 'learning_rate': 0.013954165713903652, 'max_depth': 16, 'min_child_weight': 5, 'gamma': 4.943674264542704, 'reg_alpha': 0.0010052607692280211, 'reg_lambda': 0.006182036287750275, 'subsample': 0.8951661701549279, 'colsample_bytree': 0.8711249879546806}. Best is trial 44 with value: 0.005590815491631888.\n",
      "[I 2025-03-14 17:13:13,876] Trial 47 finished with value: 0.014099930231437255 and parameters: {'n_estimators': 921, 'learning_rate': 0.013006341705452376, 'max_depth': 5, 'min_child_weight': 3, 'gamma': 0.7801412964219945, 'reg_alpha': 0.07834155794602139, 'reg_lambda': 0.00864609235828969, 'subsample': 0.8629871019171106, 'colsample_bytree': 0.7863532520690182}. Best is trial 44 with value: 0.005590815491631888.\n",
      "[I 2025-03-14 17:13:20,693] Trial 48 finished with value: 0.014375644811630856 and parameters: {'n_estimators': 709, 'learning_rate': 0.06439563536354016, 'max_depth': 15, 'min_child_weight': 2, 'gamma': 0.3280164968128855, 'reg_alpha': 0.0020467552841139714, 'reg_lambda': 0.0033443403975033257, 'subsample': 0.9238286146324436, 'colsample_bytree': 0.6672453358823764}. Best is trial 44 with value: 0.005590815491631888.\n",
      "[I 2025-03-14 17:13:40,672] Trial 49 finished with value: 0.012210733709032707 and parameters: {'n_estimators': 995, 'learning_rate': 0.016295640871315856, 'max_depth': 10, 'min_child_weight': 2, 'gamma': 1.2427523398932123, 'reg_alpha': 0.21134523890601709, 'reg_lambda': 0.03222767720722685, 'subsample': 0.9017147840217683, 'colsample_bytree': 0.8648631759659375}. Best is trial 44 with value: 0.005590815491631888.\n"
     ]
    },
    {
     "name": "stdout",
     "output_type": "stream",
     "text": [
      "Best Parameters saved to: /home/sid/coding/mass_recon/results/trained_models/positron_ip_no_scat_params_dict.json\n",
      "Best Parameters: {'n_estimators': 714, 'learning_rate': 0.014024764426503303, 'max_depth': 16, 'min_child_weight': 3, 'gamma': 0.0002678988568274865, 'reg_alpha': 0.0012138695158967325, 'reg_lambda': 0.021703613858353902, 'subsample': 0.9006943387997323, 'colsample_bytree': 0.8689038684929457}\n",
      "Best RMSE: 0.005590815491631888\n",
      "Model optimized in : 1045.09 seconds\n"
     ]
    },
    {
     "name": "stderr",
     "output_type": "stream",
     "text": [
      "[I 2025-03-14 17:13:41,700] A new study created in memory with name: no-name-92a88e4f-130e-40b3-85da-4f97ceeca14e\n"
     ]
    },
    {
     "name": "stdout",
     "output_type": "stream",
     "text": [
      "Starting hyperparameter tuning...\n"
     ]
    },
    {
     "name": "stderr",
     "output_type": "stream",
     "text": [
      "[I 2025-03-14 17:13:52,310] Trial 0 finished with value: 0.06024588671066792 and parameters: {'n_estimators': 934, 'learning_rate': 0.04661155171262619, 'max_depth': 9, 'min_child_weight': 8, 'gamma': 4.47309271971824, 'reg_alpha': 0.23278459726342066, 'reg_lambda': 0.2136982203135945, 'subsample': 0.9754633508396454, 'colsample_bytree': 0.9840362702893128}. Best is trial 0 with value: 0.06024588671066792.\n",
      "[I 2025-03-14 17:14:04,799] Trial 1 finished with value: 0.06705058284663207 and parameters: {'n_estimators': 1316, 'learning_rate': 0.043973311241939914, 'max_depth': 15, 'min_child_weight': 10, 'gamma': 3.99595719715594, 'reg_alpha': 8.003463139289936, 'reg_lambda': 3.258069387451166, 'subsample': 0.9294759283510418, 'colsample_bytree': 0.7837669758926022}. Best is trial 0 with value: 0.06024588671066792.\n",
      "[I 2025-03-14 17:14:13,662] Trial 2 finished with value: 0.0642409583941609 and parameters: {'n_estimators': 863, 'learning_rate': 0.06369133585425768, 'max_depth': 20, 'min_child_weight': 9, 'gamma': 1.8133371113093866, 'reg_alpha': 0.1386259421717351, 'reg_lambda': 0.020371569399578224, 'subsample': 0.8694595336701212, 'colsample_bytree': 0.826491559412663}. Best is trial 0 with value: 0.06024588671066792.\n",
      "[I 2025-03-14 17:14:55,337] Trial 3 finished with value: 0.06294903058948496 and parameters: {'n_estimators': 774, 'learning_rate': 0.012186297658151456, 'max_depth': 15, 'min_child_weight': 10, 'gamma': 4.163014546377931, 'reg_alpha': 0.0019404255527703488, 'reg_lambda': 0.0028166953921186294, 'subsample': 0.6848052304962876, 'colsample_bytree': 0.9633127331763536}. Best is trial 0 with value: 0.06024588671066792.\n",
      "[I 2025-03-14 17:15:10,934] Trial 4 finished with value: 0.0764446656654004 and parameters: {'n_estimators': 1496, 'learning_rate': 0.10431569261192208, 'max_depth': 14, 'min_child_weight': 2, 'gamma': 0.550969898858108, 'reg_alpha': 6.169253347824387, 'reg_lambda': 4.981016611524518, 'subsample': 0.7246853270607412, 'colsample_bytree': 0.6515675429383934}. Best is trial 0 with value: 0.06024588671066792.\n",
      "[I 2025-03-14 17:16:14,983] Trial 5 finished with value: 0.10224434081748299 and parameters: {'n_estimators': 982, 'learning_rate': 0.01349202524909355, 'max_depth': 16, 'min_child_weight': 1, 'gamma': 2.051023258428125, 'reg_alpha': 0.007182408239658145, 'reg_lambda': 0.00836319521806538, 'subsample': 0.7142439201453629, 'colsample_bytree': 0.6552118892628614}. Best is trial 0 with value: 0.06024588671066792.\n",
      "[I 2025-03-14 17:16:25,919] Trial 6 finished with value: 0.10653821855972799 and parameters: {'n_estimators': 1309, 'learning_rate': 0.14343127809330183, 'max_depth': 17, 'min_child_weight': 9, 'gamma': 4.016107302758558, 'reg_alpha': 0.9522673921794911, 'reg_lambda': 3.205534627007865, 'subsample': 0.8590432968971347, 'colsample_bytree': 0.6988370616933588}. Best is trial 0 with value: 0.06024588671066792.\n",
      "[I 2025-03-14 17:16:31,863] Trial 7 finished with value: 0.07237568891906745 and parameters: {'n_estimators': 735, 'learning_rate': 0.13493698941271245, 'max_depth': 10, 'min_child_weight': 1, 'gamma': 0.40742551500985547, 'reg_alpha': 0.003642259053849275, 'reg_lambda': 0.057515528375730283, 'subsample': 0.7437353162286547, 'colsample_bytree': 0.9488342862089343}. Best is trial 0 with value: 0.06024588671066792.\n",
      "[I 2025-03-14 17:16:36,031] Trial 8 finished with value: 0.09400921540555936 and parameters: {'n_estimators': 1039, 'learning_rate': 0.16322466676733294, 'max_depth': 8, 'min_child_weight': 6, 'gamma': 0.8981092743957331, 'reg_alpha': 0.7172209016409568, 'reg_lambda': 1.2514161675451425, 'subsample': 0.7504626148207129, 'colsample_bytree': 0.9327518654502316}. Best is trial 0 with value: 0.06024588671066792.\n",
      "[I 2025-03-14 17:16:59,899] Trial 9 finished with value: 0.05385385468467069 and parameters: {'n_estimators': 534, 'learning_rate': 0.026815494522565896, 'max_depth': 10, 'min_child_weight': 4, 'gamma': 1.7769290794594723, 'reg_alpha': 0.003165555174486905, 'reg_lambda': 0.0034184628606232993, 'subsample': 0.606726142774916, 'colsample_bytree': 0.7950630692144889}. Best is trial 9 with value: 0.05385385468467069.\n",
      "[I 2025-03-14 17:17:13,269] Trial 10 finished with value: 0.19540904042350127 and parameters: {'n_estimators': 265, 'learning_rate': 0.025107244840390064, 'max_depth': 4, 'min_child_weight': 4, 'gamma': 2.9928308574615965, 'reg_alpha': 0.019045957350269586, 'reg_lambda': 0.0010434338788953492, 'subsample': 0.6122226922302372, 'colsample_bytree': 0.8309480268766293}. Best is trial 9 with value: 0.05385385468467069.\n",
      "[I 2025-03-14 17:17:35,881] Trial 11 finished with value: 0.060978057172111744 and parameters: {'n_estimators': 454, 'learning_rate': 0.03142019199282802, 'max_depth': 7, 'min_child_weight': 6, 'gamma': 3.038430781042033, 'reg_alpha': 0.05026063940361296, 'reg_lambda': 0.4388806132293297, 'subsample': 0.993143813544499, 'colsample_bytree': 0.7644584263122354}. Best is trial 9 with value: 0.05385385468467069.\n",
      "[I 2025-03-14 17:18:00,492] Trial 12 finished with value: 0.05851385213571253 and parameters: {'n_estimators': 505, 'learning_rate': 0.022166690804640194, 'max_depth': 10, 'min_child_weight': 4, 'gamma': 4.696318406566602, 'reg_alpha': 0.24384569455023988, 'reg_lambda': 0.17220862208584847, 'subsample': 0.8244279168691954, 'colsample_bytree': 0.881606067276773}. Best is trial 9 with value: 0.05385385468467069.\n",
      "[I 2025-03-14 17:18:34,107] Trial 13 finished with value: 0.06065032335091418 and parameters: {'n_estimators': 520, 'learning_rate': 0.018861580648212164, 'max_depth': 12, 'min_child_weight': 4, 'gamma': 4.966122508255323, 'reg_alpha': 0.027999731819879605, 'reg_lambda': 0.06459431748748329, 'subsample': 0.8069953703921899, 'colsample_bytree': 0.8827363364952747}. Best is trial 9 with value: 0.05385385468467069.\n",
      "[I 2025-03-14 17:19:01,398] Trial 14 finished with value: 0.11375678099407151 and parameters: {'n_estimators': 554, 'learning_rate': 0.021502975136494705, 'max_depth': 4, 'min_child_weight': 4, 'gamma': 1.3349925226792527, 'reg_alpha': 0.5577776273945964, 'reg_lambda': 0.013242458887660362, 'subsample': 0.6034376035095957, 'colsample_bytree': 0.8927339281629308}. Best is trial 9 with value: 0.05385385468467069.\n",
      "[I 2025-03-14 17:19:19,505] Trial 15 finished with value: 0.21451355492823476 and parameters: {'n_estimators': 200, 'learning_rate': 0.03591816982492838, 'max_depth': 12, 'min_child_weight': 3, 'gamma': 3.1225138385733056, 'reg_alpha': 0.011450303296541392, 'reg_lambda': 0.4232883374392144, 'subsample': 0.8295459302687753, 'colsample_bytree': 0.7221675145009705}. Best is trial 9 with value: 0.05385385468467069.\n",
      "[I 2025-03-14 17:19:30,354] Trial 16 finished with value: 0.0725338538354992 and parameters: {'n_estimators': 395, 'learning_rate': 0.06908466370694773, 'max_depth': 7, 'min_child_weight': 7, 'gamma': 2.455758700986406, 'reg_alpha': 0.0014727420458377834, 'reg_lambda': 0.038077607595280866, 'subsample': 0.6607082453374454, 'colsample_bytree': 0.8698869608489945}. Best is trial 9 with value: 0.05385385468467069.\n",
      "[I 2025-03-14 17:20:09,799] Trial 17 finished with value: 0.10774081793296998 and parameters: {'n_estimators': 676, 'learning_rate': 0.01729272693200075, 'max_depth': 10, 'min_child_weight': 5, 'gamma': 3.445570214573168, 'reg_alpha': 2.3714769580328223, 'reg_lambda': 0.0042321119464767505, 'subsample': 0.8990293911348747, 'colsample_bytree': 0.7424333927853399}. Best is trial 9 with value: 0.05385385468467069.\n",
      "[I 2025-03-14 17:20:50,140] Trial 18 finished with value: 0.07268842739795195 and parameters: {'n_estimators': 616, 'learning_rate': 0.014713848368337957, 'max_depth': 6, 'min_child_weight': 3, 'gamma': 1.4821166903248626, 'reg_alpha': 0.06916480692949054, 'reg_lambda': 0.22000516015501156, 'subsample': 0.7730546364914175, 'colsample_bytree': 0.8318774410801644}. Best is trial 9 with value: 0.05385385468467069.\n",
      "[I 2025-03-14 17:21:14,063] Trial 19 finished with value: 0.17338651857169213 and parameters: {'n_estimators': 352, 'learning_rate': 0.024368424743372002, 'max_depth': 13, 'min_child_weight': 5, 'gamma': 2.203358203755388, 'reg_alpha': 0.15601612371787343, 'reg_lambda': 0.0010258475246422423, 'subsample': 0.7945245564109921, 'colsample_bytree': 0.6160978371690736}. Best is trial 9 with value: 0.05385385468467069.\n",
      "[I 2025-03-14 17:22:26,072] Trial 20 finished with value: 0.05057838844740699 and parameters: {'n_estimators': 1103, 'learning_rate': 0.010360390648790584, 'max_depth': 10, 'min_child_weight': 3, 'gamma': 1.02545400005285, 'reg_alpha': 0.28677757364560946, 'reg_lambda': 0.11912366477243401, 'subsample': 0.6478431080130678, 'colsample_bytree': 0.915214914083559}. Best is trial 20 with value: 0.05057838844740699.\n",
      "[I 2025-03-14 17:23:32,108] Trial 21 finished with value: 0.05011264454267968 and parameters: {'n_estimators': 1134, 'learning_rate': 0.010200774924825148, 'max_depth': 10, 'min_child_weight': 3, 'gamma': 0.8612987952122011, 'reg_alpha': 0.4223736317276589, 'reg_lambda': 0.18778755772220143, 'subsample': 0.6669927187590404, 'colsample_bytree': 0.9029840104174361}. Best is trial 21 with value: 0.05011264454267968.\n",
      "[I 2025-03-14 17:24:55,019] Trial 22 finished with value: 0.04644109327553908 and parameters: {'n_estimators': 1142, 'learning_rate': 0.0103996853532653, 'max_depth': 11, 'min_child_weight': 2, 'gamma': 0.060715696051840906, 'reg_alpha': 2.1637628853355957, 'reg_lambda': 0.8137914444549483, 'subsample': 0.6480032634255093, 'colsample_bytree': 0.9095046438791202}. Best is trial 22 with value: 0.04644109327553908.\n",
      "[I 2025-03-14 17:26:20,265] Trial 23 finished with value: 0.047054030638666255 and parameters: {'n_estimators': 1147, 'learning_rate': 0.01001099499903588, 'max_depth': 12, 'min_child_weight': 2, 'gamma': 0.05918613746481253, 'reg_alpha': 1.6273676382404458, 'reg_lambda': 0.7048839076426132, 'subsample': 0.658656011926792, 'colsample_bytree': 0.9277756724308831}. Best is trial 22 with value: 0.04644109327553908.\n",
      "[I 2025-03-14 17:27:32,012] Trial 24 finished with value: 0.049360933697227605 and parameters: {'n_estimators': 1212, 'learning_rate': 0.010140069046610583, 'max_depth': 12, 'min_child_weight': 2, 'gamma': 0.22645442184892384, 'reg_alpha': 1.9542117410464042, 'reg_lambda': 0.951191613864411, 'subsample': 0.677949128813438, 'colsample_bytree': 0.9934463344404316}. Best is trial 22 with value: 0.04644109327553908.\n",
      "[I 2025-03-14 17:28:43,929] Trial 25 finished with value: 0.05342959021828485 and parameters: {'n_estimators': 1197, 'learning_rate': 0.015470754204564629, 'max_depth': 18, 'min_child_weight': 2, 'gamma': 0.03783605546422436, 'reg_alpha': 2.004331768996851, 'reg_lambda': 1.1548132410295555, 'subsample': 0.6976305116404568, 'colsample_bytree': 0.9927453200462847}. Best is trial 22 with value: 0.04644109327553908.\n",
      "[I 2025-03-14 17:30:00,577] Trial 26 finished with value: 0.046614361921595966 and parameters: {'n_estimators': 1274, 'learning_rate': 0.011925862823170118, 'max_depth': 13, 'min_child_weight': 2, 'gamma': 0.01633852141249883, 'reg_alpha': 1.9170394579950092, 'reg_lambda': 9.669210446441332, 'subsample': 0.6394134415186269, 'colsample_bytree': 0.9668283080086006}. Best is trial 22 with value: 0.04644109327553908.\n",
      "[I 2025-03-14 17:31:47,322] Trial 27 finished with value: 0.048706116453756984 and parameters: {'n_estimators': 1439, 'learning_rate': 0.012862911082166384, 'max_depth': 14, 'min_child_weight': 1, 'gamma': 0.015519017618885127, 'reg_alpha': 3.768419936661906, 'reg_lambda': 2.136475702370608, 'subsample': 0.6377716178622714, 'colsample_bytree': 0.9537769437585365}. Best is trial 22 with value: 0.04644109327553908.\n",
      "[I 2025-03-14 17:32:28,956] Trial 28 finished with value: 0.0520239096650782 and parameters: {'n_estimators': 1343, 'learning_rate': 0.017226251229078886, 'max_depth': 13, 'min_child_weight': 2, 'gamma': 0.49664187518347874, 'reg_alpha': 1.1900481056784442, 'reg_lambda': 0.4897070180637099, 'subsample': 0.6413777099967892, 'colsample_bytree': 0.8562803082941512}. Best is trial 22 with value: 0.04644109327553908.\n",
      "[I 2025-03-14 17:33:23,380] Trial 29 finished with value: 0.05316107826038601 and parameters: {'n_estimators': 923, 'learning_rate': 0.012507911344722773, 'max_depth': 8, 'min_child_weight': 1, 'gamma': 0.7136974496434648, 'reg_alpha': 4.746992788875462, 'reg_lambda': 9.069317551413931, 'subsample': 0.6293751656526773, 'colsample_bytree': 0.9230279267653423}. Best is trial 22 with value: 0.04644109327553908.\n",
      "[I 2025-03-14 17:34:06,286] Trial 30 finished with value: 0.06112203827992274 and parameters: {'n_estimators': 1218, 'learning_rate': 0.019541898204543096, 'max_depth': 18, 'min_child_weight': 2, 'gamma': 1.141822300004596, 'reg_alpha': 2.9740844144613634, 'reg_lambda': 8.82716455312489, 'subsample': 0.7054067705563755, 'colsample_bytree': 0.9786333610074166}. Best is trial 22 with value: 0.04644109327553908.\n",
      "[I 2025-03-14 17:35:58,306] Trial 31 finished with value: 0.04850016099156168 and parameters: {'n_estimators': 1475, 'learning_rate': 0.012242281503842612, 'max_depth': 14, 'min_child_weight': 1, 'gamma': 0.015526950265089028, 'reg_alpha': 3.261888435785312, 'reg_lambda': 2.1213026702252074, 'subsample': 0.6338432790294414, 'colsample_bytree': 0.9492917972334441}. Best is trial 22 with value: 0.04644109327553908.\n",
      "[I 2025-03-14 17:36:59,480] Trial 32 finished with value: 0.05587202861677047 and parameters: {'n_estimators': 1404, 'learning_rate': 0.011898635764574322, 'max_depth': 14, 'min_child_weight': 1, 'gamma': 0.3944840112960089, 'reg_alpha': 9.031394426281695, 'reg_lambda': 2.151182159258085, 'subsample': 0.6272836434594656, 'colsample_bytree': 0.9416550783902516}. Best is trial 22 with value: 0.04644109327553908.\n",
      "[I 2025-03-14 17:37:48,298] Trial 33 finished with value: 0.04751355109069246 and parameters: {'n_estimators': 1294, 'learning_rate': 0.015591335861791024, 'max_depth': 11, 'min_child_weight': 2, 'gamma': 0.15674557977935116, 'reg_alpha': 1.162437525798807, 'reg_lambda': 4.352071642670395, 'subsample': 0.6688404233171082, 'colsample_bytree': 0.9642538188973464}. Best is trial 22 with value: 0.04644109327553908.\n",
      "[I 2025-03-14 17:38:38,514] Trial 34 finished with value: 0.04883553316824787 and parameters: {'n_estimators': 1312, 'learning_rate': 0.015858430792608583, 'max_depth': 11, 'min_child_weight': 3, 'gamma': 0.3066181687803617, 'reg_alpha': 1.2398326126966204, 'reg_lambda': 4.605218075581061, 'subsample': 0.9449841697948672, 'colsample_bytree': 0.9732049108844999}. Best is trial 22 with value: 0.04644109327553908.\n",
      "[I 2025-03-14 17:39:36,286] Trial 35 finished with value: 0.050530963174021754 and parameters: {'n_estimators': 1067, 'learning_rate': 0.014548438727839546, 'max_depth': 11, 'min_child_weight': 2, 'gamma': 0.683292258606139, 'reg_alpha': 1.46839163272752, 'reg_lambda': 0.7173977389469286, 'subsample': 0.6792247956607989, 'colsample_bytree': 0.907171141453102}. Best is trial 22 with value: 0.04644109327553908.\n",
      "[I 2025-03-14 17:39:54,427] Trial 36 finished with value: 0.06364932758526383 and parameters: {'n_estimators': 1253, 'learning_rate': 0.04590129510687422, 'max_depth': 13, 'min_child_weight': 3, 'gamma': 1.3797121503118457, 'reg_alpha': 9.911282695165532, 'reg_lambda': 6.158263895111328, 'subsample': 0.724100945376356, 'colsample_bytree': 0.8499193261506361}. Best is trial 22 with value: 0.04644109327553908.\n",
      "[I 2025-03-14 17:40:12,214] Trial 37 finished with value: 0.05636150069789077 and parameters: {'n_estimators': 965, 'learning_rate': 0.06093254022762809, 'max_depth': 15, 'min_child_weight': 2, 'gamma': 0.2499058553166748, 'reg_alpha': 0.4290498742775387, 'reg_lambda': 3.746626830009443, 'subsample': 0.6594777600315015, 'colsample_bytree': 0.9768599075301433}. Best is trial 22 with value: 0.04644109327553908.\n",
      "[I 2025-03-14 17:41:10,411] Trial 38 finished with value: 0.05836237965775388 and parameters: {'n_estimators': 843, 'learning_rate': 0.01156702747278213, 'max_depth': 16, 'min_child_weight': 2, 'gamma': 0.5950700783994582, 'reg_alpha': 5.016090679757927, 'reg_lambda': 1.8038736608087351, 'subsample': 0.6963307557001617, 'colsample_bytree': 0.9315256271939765}. Best is trial 22 with value: 0.04644109327553908.\n",
      "[I 2025-03-14 17:42:00,272] Trial 39 finished with value: 0.0523646953000326 and parameters: {'n_estimators': 1140, 'learning_rate': 0.014343642832243788, 'max_depth': 8, 'min_child_weight': 1, 'gamma': 1.0153720337647838, 'reg_alpha': 0.1236770369667874, 'reg_lambda': 3.3068596513074984, 'subsample': 0.7421977320870149, 'colsample_bytree': 0.9674676474356936}. Best is trial 22 with value: 0.04644109327553908.\n",
      "[I 2025-03-14 17:43:07,118] Trial 40 finished with value: 0.0540864783032383 and parameters: {'n_estimators': 1373, 'learning_rate': 0.010272907442783094, 'max_depth': 9, 'min_child_weight': 8, 'gamma': 1.716033156735072, 'reg_alpha': 0.7703460824985183, 'reg_lambda': 6.650892151106471, 'subsample': 0.6841636027228336, 'colsample_bytree': 0.997256435475544}. Best is trial 22 with value: 0.04644109327553908.\n",
      "[I 2025-03-14 17:44:38,701] Trial 41 finished with value: 0.05088469039724156 and parameters: {'n_estimators': 1498, 'learning_rate': 0.011469860694924698, 'max_depth': 15, 'min_child_weight': 1, 'gamma': 0.044709899736981376, 'reg_alpha': 3.1344878286734215, 'reg_lambda': 1.9102661123398947, 'subsample': 0.6221127591835127, 'colsample_bytree': 0.9541760871001952}. Best is trial 22 with value: 0.04644109327553908.\n",
      "[I 2025-03-14 17:46:13,044] Trial 42 finished with value: 0.0464573478608438 and parameters: {'n_estimators': 1264, 'learning_rate': 0.01310813936075187, 'max_depth': 14, 'min_child_weight': 1, 'gamma': 0.0019712659776831287, 'reg_alpha': 1.5247928862449385, 'reg_lambda': 0.7256894217442775, 'subsample': 0.6514258253937882, 'colsample_bytree': 0.9368627815887155}. Best is trial 22 with value: 0.04644109327553908.\n",
      "[I 2025-03-14 17:47:23,912] Trial 43 finished with value: 0.050038244693482836 and parameters: {'n_estimators': 1270, 'learning_rate': 0.013380797529310515, 'max_depth': 13, 'min_child_weight': 2, 'gamma': 0.292365461988334, 'reg_alpha': 0.8584058361821971, 'reg_lambda': 0.2908222195046682, 'subsample': 0.6589813370460014, 'colsample_bytree': 0.923829479422007}. Best is trial 22 with value: 0.04644109327553908.\n",
      "[I 2025-03-14 17:48:08,524] Trial 44 finished with value: 0.05112696302295204 and parameters: {'n_estimators': 1003, 'learning_rate': 0.017660751900131656, 'max_depth': 11, 'min_child_weight': 3, 'gamma': 0.7123635047774466, 'reg_alpha': 1.6141482522628514, 'reg_lambda': 0.6953784809071366, 'subsample': 0.6013368052963637, 'colsample_bytree': 0.9037896293293481}. Best is trial 22 with value: 0.04644109327553908.\n",
      "[I 2025-03-14 17:48:34,543] Trial 45 finished with value: 0.05402550988809171 and parameters: {'n_estimators': 1167, 'learning_rate': 0.029130214496663105, 'max_depth': 16, 'min_child_weight': 1, 'gamma': 0.4826483013007087, 'reg_alpha': 0.5506630379220152, 'reg_lambda': 1.273249767465585, 'subsample': 0.7314368684515776, 'colsample_bytree': 0.8131433279458047}. Best is trial 22 with value: 0.04644109327553908.\n",
      "[I 2025-03-14 17:48:42,010] Trial 46 finished with value: 0.06879487425499965 and parameters: {'n_estimators': 1051, 'learning_rate': 0.10689752185157204, 'max_depth': 12, 'min_child_weight': 10, 'gamma': 0.317575689173621, 'reg_alpha': 5.008751959460843, 'reg_lambda': 0.32753904762773195, 'subsample': 0.7691711183162303, 'colsample_bytree': 0.9627314264677602}. Best is trial 22 with value: 0.04644109327553908.\n",
      "[I 2025-03-14 17:48:47,275] Trial 47 finished with value: 0.09815014886934427 and parameters: {'n_estimators': 1275, 'learning_rate': 0.19387282045164847, 'max_depth': 9, 'min_child_weight': 2, 'gamma': 0.8241556702898742, 'reg_alpha': 6.17810860942322, 'reg_lambda': 0.6820019624870342, 'subsample': 0.7137235653975522, 'colsample_bytree': 0.9372010964328614}. Best is trial 22 with value: 0.04644109327553908.\n",
      "[I 2025-03-14 17:49:29,775] Trial 48 finished with value: 0.04741096061615605 and parameters: {'n_estimators': 1381, 'learning_rate': 0.019583327615375064, 'max_depth': 11, 'min_child_weight': 1, 'gamma': 0.14158998340126344, 'reg_alpha': 1.0246356701015542, 'reg_lambda': 5.141015723527896, 'subsample': 0.6506265910861097, 'colsample_bytree': 0.8699281543922927}. Best is trial 22 with value: 0.04644109327553908.\n",
      "[I 2025-03-14 17:50:07,559] Trial 49 finished with value: 0.06225995523305572 and parameters: {'n_estimators': 1352, 'learning_rate': 0.02058064024483373, 'max_depth': 20, 'min_child_weight': 1, 'gamma': 1.1678523597035846, 'reg_alpha': 2.3990157739269726, 'reg_lambda': 0.10356350312787099, 'subsample': 0.6209348618453091, 'colsample_bytree': 0.8707672498580142}. Best is trial 22 with value: 0.04644109327553908.\n"
     ]
    },
    {
     "name": "stdout",
     "output_type": "stream",
     "text": [
      "Best Parameters saved to: /home/sid/coding/mass_recon/results/trained_models/positron_oop_no_scat_params_dict.json\n",
      "Best Parameters: {'n_estimators': 1142, 'learning_rate': 0.0103996853532653, 'max_depth': 11, 'min_child_weight': 2, 'gamma': 0.060715696051840906, 'reg_alpha': 2.1637628853355957, 'reg_lambda': 0.8137914444549483, 'subsample': 0.6480032634255093, 'colsample_bytree': 0.9095046438791202}\n",
      "Best RMSE: 0.04644109327553908\n",
      "Model optimized in : 2185.86 seconds\n"
     ]
    }
   ],
   "source": [
    "for target in ['P', 'ip', 'oop']:\n",
    "    electron = Analysis(side=side, \n",
    "                        scat='n',\n",
    "                        train_path = path_train_n,\n",
    "                        test_path = path_test_n,\n",
    "                        target = target,\n",
    "                        n_jobs = 12)\n",
    "    electron.run_optimization(n_trials=50, \n",
    "                              base_path=saved_models_path)"
   ]
  },
  {
   "cell_type": "markdown",
   "id": "18922c3d-3edd-47e0-bd27-5fcaa4c127b4",
   "metadata": {},
   "source": [
    "# 2. With Scattering"
   ]
  },
  {
   "cell_type": "code",
   "execution_count": 8,
   "id": "e03f2c9a-ebd5-4ae6-9d38-fc0cec8e82fa",
   "metadata": {},
   "outputs": [
    {
     "name": "stdout",
     "output_type": "stream",
     "text": [
      "Train:\t/home/sid/coding/mass_recon/data/filtered/PositronCoords_wide_acp.dat,\n",
      "Test:\t/home/sid/coding/mass_recon/data/filtered/PositronSort_signal.dat\n"
     ]
    }
   ],
   "source": [
    "path_train_n, path_test_n = get_data_path(side = side, \n",
    "                                          scat = 'y', \n",
    "                                          data_path = filtered_data_path)\n",
    "print(f\"Train:\\t{path_train_n},\\nTest:\\t{path_test_n}\")"
   ]
  },
  {
   "cell_type": "code",
   "execution_count": 9,
   "id": "70c459e6-06e3-4016-a46b-44e999958c52",
   "metadata": {
    "scrolled": true
   },
   "outputs": [
    {
     "name": "stderr",
     "output_type": "stream",
     "text": [
      "[I 2025-03-14 17:58:17,704] A new study created in memory with name: no-name-c9b10d26-1139-42d4-bff8-c900b4fdc848\n"
     ]
    },
    {
     "name": "stdout",
     "output_type": "stream",
     "text": [
      "Starting hyperparameter tuning...\n"
     ]
    },
    {
     "name": "stderr",
     "output_type": "stream",
     "text": [
      "[I 2025-03-14 17:58:33,444] Trial 0 finished with value: 0.043325691394828926 and parameters: {'n_estimators': 757, 'learning_rate': 0.049056749375541456, 'max_depth': 19, 'min_child_weight': 2, 'gamma': 2.462817088449242, 'reg_alpha': 9.639547715932878, 'reg_lambda': 0.9897280431264396, 'subsample': 0.7207536311653983, 'colsample_bytree': 0.7691941712956435}. Best is trial 0 with value: 0.043325691394828926.\n",
      "[I 2025-03-14 17:58:41,515] Trial 1 finished with value: 0.04236015271286943 and parameters: {'n_estimators': 1087, 'learning_rate': 0.09728114818120137, 'max_depth': 19, 'min_child_weight': 7, 'gamma': 1.101825848262568, 'reg_alpha': 3.5134872105631056, 'reg_lambda': 0.4094520448957108, 'subsample': 0.9004983915794054, 'colsample_bytree': 0.8739871463030557}. Best is trial 1 with value: 0.04236015271286943.\n",
      "[I 2025-03-14 17:58:45,535] Trial 2 finished with value: 0.03167814123223041 and parameters: {'n_estimators': 1354, 'learning_rate': 0.16006954447104507, 'max_depth': 5, 'min_child_weight': 3, 'gamma': 1.8179967643898043, 'reg_alpha': 0.485719250173517, 'reg_lambda': 1.0054607717512003, 'subsample': 0.7601964089355177, 'colsample_bytree': 0.7730213528839681}. Best is trial 2 with value: 0.03167814123223041.\n",
      "[I 2025-03-14 17:59:14,456] Trial 3 finished with value: 0.045331442846816415 and parameters: {'n_estimators': 481, 'learning_rate': 0.01986118158882213, 'max_depth': 14, 'min_child_weight': 7, 'gamma': 3.230345523354643, 'reg_alpha': 1.7836724314626053, 'reg_lambda': 0.04111411464515394, 'subsample': 0.8781064874166806, 'colsample_bytree': 0.8577616241674905}. Best is trial 2 with value: 0.03167814123223041.\n",
      "[I 2025-03-14 17:59:21,149] Trial 4 finished with value: 0.03246172454631576 and parameters: {'n_estimators': 1045, 'learning_rate': 0.09877858148511628, 'max_depth': 9, 'min_child_weight': 6, 'gamma': 0.7605346336795354, 'reg_alpha': 0.07499472929548123, 'reg_lambda': 1.8889952142216344, 'subsample': 0.6554218391430129, 'colsample_bytree': 0.9412215985510644}. Best is trial 2 with value: 0.03167814123223041.\n",
      "[I 2025-03-14 17:59:32,825] Trial 5 finished with value: 0.05206512492921562 and parameters: {'n_estimators': 809, 'learning_rate': 0.1262650974481932, 'max_depth': 3, 'min_child_weight': 8, 'gamma': 0.46401332288450503, 'reg_alpha': 4.659617443098112, 'reg_lambda': 0.12348989641360675, 'subsample': 0.6421328859098219, 'colsample_bytree': 0.6084543593807359}. Best is trial 2 with value: 0.03167814123223041.\n",
      "[I 2025-03-14 17:59:42,062] Trial 6 finished with value: 0.04439917737400433 and parameters: {'n_estimators': 1073, 'learning_rate': 0.15697454461981392, 'max_depth': 7, 'min_child_weight': 9, 'gamma': 3.2977646364394406, 'reg_alpha': 0.2101496990772001, 'reg_lambda': 2.595653545047871, 'subsample': 0.6391445646136654, 'colsample_bytree': 0.6145444752643754}. Best is trial 2 with value: 0.03167814123223041.\n",
      "[I 2025-03-14 18:00:33,180] Trial 7 finished with value: 0.07026043249119897 and parameters: {'n_estimators': 749, 'learning_rate': 0.015524359590241128, 'max_depth': 10, 'min_child_weight': 5, 'gamma': 0.799704072978562, 'reg_alpha': 3.822945992919463, 'reg_lambda': 0.3671808771415227, 'subsample': 0.7533879346825453, 'colsample_bytree': 0.6241095903124979}. Best is trial 2 with value: 0.03167814123223041.\n",
      "[I 2025-03-14 18:00:46,723] Trial 8 finished with value: 0.03426468567770192 and parameters: {'n_estimators': 862, 'learning_rate': 0.0384331143663963, 'max_depth': 4, 'min_child_weight': 6, 'gamma': 4.675653693551359, 'reg_alpha': 0.2578807977584048, 'reg_lambda': 0.005814446084042088, 'subsample': 0.8647305442504192, 'colsample_bytree': 0.9020947393578886}. Best is trial 2 with value: 0.03167814123223041.\n",
      "[I 2025-03-14 18:01:04,295] Trial 9 finished with value: 0.04040391154030857 and parameters: {'n_estimators': 1002, 'learning_rate': 0.03863175329117844, 'max_depth': 12, 'min_child_weight': 6, 'gamma': 2.310162672010769, 'reg_alpha': 0.7918594348469773, 'reg_lambda': 0.42738440911095965, 'subsample': 0.8706709515545132, 'colsample_bytree': 0.8314967733676591}. Best is trial 2 with value: 0.03167814123223041.\n",
      "[I 2025-03-14 18:01:13,387] Trial 10 finished with value: 0.04929963992160799 and parameters: {'n_estimators': 1471, 'learning_rate': 0.1976942886763561, 'max_depth': 15, 'min_child_weight': 1, 'gamma': 1.7433143040716006, 'reg_alpha': 0.005862106960524422, 'reg_lambda': 9.981324358939927, 'subsample': 0.7933380052452056, 'colsample_bytree': 0.7370610550254201}. Best is trial 2 with value: 0.03167814123223041.\n",
      "[I 2025-03-14 18:01:23,321] Trial 11 finished with value: 0.028394334570177867 and parameters: {'n_estimators': 1380, 'learning_rate': 0.08966731511523757, 'max_depth': 7, 'min_child_weight': 4, 'gamma': 0.13931766235861243, 'reg_alpha': 0.01634812320585415, 'reg_lambda': 4.923419312588749, 'subsample': 0.9873949776733135, 'colsample_bytree': 0.9944634646083643}. Best is trial 11 with value: 0.028394334570177867.\n",
      "[I 2025-03-14 18:01:30,888] Trial 12 finished with value: 0.028929678138367224 and parameters: {'n_estimators': 1486, 'learning_rate': 0.06976067416361523, 'max_depth': 6, 'min_child_weight': 3, 'gamma': 0.20068305295585276, 'reg_alpha': 0.017467126267375357, 'reg_lambda': 8.468456268905777, 'subsample': 0.9755935835845757, 'colsample_bytree': 0.9945960036657907}. Best is trial 11 with value: 0.028394334570177867.\n",
      "[I 2025-03-14 18:01:49,682] Trial 13 finished with value: 0.028101786309246694 and parameters: {'n_estimators': 1333, 'learning_rate': 0.07443818673521352, 'max_depth': 7, 'min_child_weight': 4, 'gamma': 0.08270761229612252, 'reg_alpha': 0.014161123731432915, 'reg_lambda': 8.967242584102948, 'subsample': 0.9968685156174247, 'colsample_bytree': 0.9855822969323561}. Best is trial 13 with value: 0.028101786309246694.\n",
      "[I 2025-03-14 18:02:00,220] Trial 14 finished with value: 0.02873510537917486 and parameters: {'n_estimators': 1268, 'learning_rate': 0.07002522648379288, 'max_depth': 8, 'min_child_weight': 4, 'gamma': 0.11275770740693734, 'reg_alpha': 0.002081313397565862, 'reg_lambda': 0.0013010945607039414, 'subsample': 0.9975196145369004, 'colsample_bytree': 0.9906346445990226}. Best is trial 13 with value: 0.028101786309246694.\n",
      "[I 2025-03-14 18:02:24,647] Trial 15 finished with value: 0.03684961660073492 and parameters: {'n_estimators': 1240, 'learning_rate': 0.024370574905729976, 'max_depth': 11, 'min_child_weight': 4, 'gamma': 1.2912477908781124, 'reg_alpha': 0.022992020424644787, 'reg_lambda': 4.134996078750643, 'subsample': 0.9454086396997176, 'colsample_bytree': 0.9344365567107725}. Best is trial 13 with value: 0.028101786309246694.\n",
      "[I 2025-03-14 18:02:34,363] Trial 16 finished with value: 0.027595901527579927 and parameters: {'n_estimators': 221, 'learning_rate': 0.06548695992482377, 'max_depth': 7, 'min_child_weight': 10, 'gamma': 0.03068327619746336, 'reg_alpha': 0.001018222655471079, 'reg_lambda': 0.03347941032574194, 'subsample': 0.925022298664139, 'colsample_bytree': 0.9574520191087824}. Best is trial 16 with value: 0.027595901527579927.\n",
      "[I 2025-03-14 18:02:44,469] Trial 17 finished with value: 0.043392440351877656 and parameters: {'n_estimators': 208, 'learning_rate': 0.057264888973037435, 'max_depth': 13, 'min_child_weight': 10, 'gamma': 4.553325692670812, 'reg_alpha': 0.001468743595042815, 'reg_lambda': 0.023796880730370416, 'subsample': 0.9427092153012329, 'colsample_bytree': 0.9441491797402618}. Best is trial 16 with value: 0.027595901527579927.\n",
      "[I 2025-03-14 18:03:17,632] Trial 18 finished with value: 0.07187790747137873 and parameters: {'n_estimators': 546, 'learning_rate': 0.028535634106949783, 'max_depth': 16, 'min_child_weight': 10, 'gamma': 3.3731319852803323, 'reg_alpha': 0.0044493062869764574, 'reg_lambda': 0.010207539476410468, 'subsample': 0.8298021756043412, 'colsample_bytree': 0.722333842518475}. Best is trial 16 with value: 0.027595901527579927.\n",
      "[I 2025-03-14 18:03:28,774] Trial 19 finished with value: 0.034220276000765264 and parameters: {'n_estimators': 256, 'learning_rate': 0.0645971876792644, 'max_depth': 9, 'min_child_weight': 8, 'gamma': 1.4748630546399877, 'reg_alpha': 0.04096869438307848, 'reg_lambda': 0.10643907648465736, 'subsample': 0.9401608195604285, 'colsample_bytree': 0.9224278608276917}. Best is trial 16 with value: 0.027595901527579927.\n",
      "[I 2025-03-14 18:03:46,762] Trial 20 finished with value: 0.3511341457555759 and parameters: {'n_estimators': 396, 'learning_rate': 0.011151326070572438, 'max_depth': 5, 'min_child_weight': 1, 'gamma': 0.8580688892091544, 'reg_alpha': 0.005843126060839895, 'reg_lambda': 0.002435764079639642, 'subsample': 0.9094147089543654, 'colsample_bytree': 0.6769815233374743}. Best is trial 16 with value: 0.027595901527579927.\n",
      "[I 2025-03-14 18:03:56,105] Trial 21 finished with value: 0.028301570822092302 and parameters: {'n_estimators': 1170, 'learning_rate': 0.09477692121017603, 'max_depth': 7, 'min_child_weight': 4, 'gamma': 0.16936893984204798, 'reg_alpha': 0.013105868030268872, 'reg_lambda': 0.04378042074042872, 'subsample': 0.9780528079154488, 'colsample_bytree': 0.9707466612985641}. Best is trial 16 with value: 0.027595901527579927.\n",
      "[I 2025-03-14 18:04:02,353] Trial 22 finished with value: 0.02963256674391386 and parameters: {'n_estimators': 1186, 'learning_rate': 0.11523137394697194, 'max_depth': 7, 'min_child_weight': 5, 'gamma': 0.5341851025887121, 'reg_alpha': 0.0032789133720681055, 'reg_lambda': 0.03370191401702985, 'subsample': 0.962199244326639, 'colsample_bytree': 0.9642412971369669}. Best is trial 16 with value: 0.027595901527579927.\n",
      "[I 2025-03-14 18:04:14,946] Trial 23 finished with value: 0.030849141357283543 and parameters: {'n_estimators': 646, 'learning_rate': 0.08268007608023334, 'max_depth': 10, 'min_child_weight': 3, 'gamma': 0.08722920609295581, 'reg_alpha': 0.009917872056658342, 'reg_lambda': 0.013243125969554638, 'subsample': 0.9292650695115937, 'colsample_bytree': 0.8905177621818106}. Best is trial 16 with value: 0.027595901527579927.\n",
      "[I 2025-03-14 18:04:55,277] Trial 24 finished with value: 0.028547014092654935 and parameters: {'n_estimators': 918, 'learning_rate': 0.05379900340983805, 'max_depth': 3, 'min_child_weight': 2, 'gamma': 0.0015981252465303644, 'reg_alpha': 0.001057775706718331, 'reg_lambda': 0.08356034384232566, 'subsample': 0.9994713272031579, 'colsample_bytree': 0.8407344951684586}. Best is trial 16 with value: 0.027595901527579927.\n",
      "[I 2025-03-14 18:05:15,725] Trial 25 finished with value: 0.03048487173218029 and parameters: {'n_estimators': 1169, 'learning_rate': 0.038374944950536054, 'max_depth': 5, 'min_child_weight': 5, 'gamma': 0.5751779112136928, 'reg_alpha': 0.10289975050257506, 'reg_lambda': 0.22056466985950737, 'subsample': 0.8409946029344432, 'colsample_bytree': 0.958369142527598}. Best is trial 16 with value: 0.027595901527579927.\n",
      "[I 2025-03-14 18:05:23,281] Trial 26 finished with value: 0.03742447278848639 and parameters: {'n_estimators': 1342, 'learning_rate': 0.07900211307041202, 'max_depth': 8, 'min_child_weight': 4, 'gamma': 4.050336894012146, 'reg_alpha': 0.03314801606602129, 'reg_lambda': 0.004950768759170765, 'subsample': 0.9078473709276645, 'colsample_bytree': 0.9074379656516514}. Best is trial 16 with value: 0.027595901527579927.\n",
      "[I 2025-03-14 18:05:30,238] Trial 27 finished with value: 0.03044910735968503 and parameters: {'n_estimators': 925, 'learning_rate': 0.1369930618255002, 'max_depth': 6, 'min_child_weight': 7, 'gamma': 1.0703927591118059, 'reg_alpha': 0.010030711982920472, 'reg_lambda': 0.06238125590981477, 'subsample': 0.9633547218858568, 'colsample_bytree': 0.961658988273294}. Best is trial 16 with value: 0.027595901527579927.\n",
      "[I 2025-03-14 18:05:44,316] Trial 28 finished with value: 0.03915270840787382 and parameters: {'n_estimators': 1156, 'learning_rate': 0.046498184084140436, 'max_depth': 11, 'min_child_weight': 2, 'gamma': 1.9176034343296697, 'reg_alpha': 0.0026349045243051063, 'reg_lambda': 0.017703961475073842, 'subsample': 0.9173975302951004, 'colsample_bytree': 0.8148540772871321}. Best is trial 16 with value: 0.027595901527579927.\n",
      "[I 2025-03-14 18:05:49,550] Trial 29 finished with value: 0.0347733742774338 and parameters: {'n_estimators': 310, 'learning_rate': 0.10748875240496572, 'max_depth': 9, 'min_child_weight': 9, 'gamma': 2.379530024713636, 'reg_alpha': 0.06337441435558183, 'reg_lambda': 0.25104866775933093, 'subsample': 0.9671130666765669, 'colsample_bytree': 0.9779458467391589}. Best is trial 16 with value: 0.027595901527579927.\n",
      "[I 2025-03-14 18:06:01,156] Trial 30 finished with value: 0.03245256347661767 and parameters: {'n_estimators': 641, 'learning_rate': 0.05692369755187516, 'max_depth': 4, 'min_child_weight': 3, 'gamma': 2.924375948007776, 'reg_alpha': 0.00984193336574349, 'reg_lambda': 0.007098619992130414, 'subsample': 0.8935687016965735, 'colsample_bytree': 0.8785258613688581}. Best is trial 16 with value: 0.027595901527579927.\n",
      "[I 2025-03-14 18:06:09,918] Trial 31 finished with value: 0.029347006191604883 and parameters: {'n_estimators': 1371, 'learning_rate': 0.08917900752223853, 'max_depth': 7, 'min_child_weight': 4, 'gamma': 0.3891376423963343, 'reg_alpha': 0.016894525078559004, 'reg_lambda': 4.607233360758775, 'subsample': 0.9826838291483133, 'colsample_bytree': 0.9982694803664871}. Best is trial 16 with value: 0.027595901527579927.\n",
      "[I 2025-03-14 18:06:18,599] Trial 32 finished with value: 0.029613311619312514 and parameters: {'n_estimators': 1425, 'learning_rate': 0.08564931185014227, 'max_depth': 8, 'min_child_weight': 5, 'gamma': 0.328136169558922, 'reg_alpha': 0.1551415716280049, 'reg_lambda': 1.7971541541726097, 'subsample': 0.9984461884173754, 'colsample_bytree': 0.970807004775191}. Best is trial 16 with value: 0.027595901527579927.\n",
      "[I 2025-03-14 18:06:33,513] Trial 33 finished with value: 0.0763090485282876 and parameters: {'n_estimators': 1299, 'learning_rate': 0.06642062385726659, 'max_depth': 20, 'min_child_weight': 2, 'gamma': 0.850409845602821, 'reg_alpha': 0.04744696504326069, 'reg_lambda': 0.7885088251187077, 'subsample': 0.6799674480897775, 'colsample_bytree': 0.9204298540692136}. Best is trial 16 with value: 0.027595901527579927.\n",
      "[I 2025-03-14 18:06:40,991] Trial 34 finished with value: 0.03054503235791596 and parameters: {'n_estimators': 1413, 'learning_rate': 0.09907034378716313, 'max_depth': 6, 'min_child_weight': 4, 'gamma': 1.1319167236988048, 'reg_alpha': 0.02190646368464758, 'reg_lambda': 0.9035642415805819, 'subsample': 0.960705836908961, 'colsample_bytree': 0.9996361160739233}. Best is trial 16 with value: 0.027595901527579927.\n",
      "[I 2025-03-14 18:06:47,398] Trial 35 finished with value: 0.02743388081932538 and parameters: {'n_estimators': 1235, 'learning_rate': 0.14812438518018511, 'max_depth': 7, 'min_child_weight': 3, 'gamma': 0.02762357956650295, 'reg_alpha': 0.010400420207558717, 'reg_lambda': 0.051691130971763775, 'subsample': 0.9333879157138497, 'colsample_bytree': 0.945977406937305}. Best is trial 35 with value: 0.02743388081932538.\n",
      "[I 2025-03-14 18:06:52,744] Trial 36 finished with value: 0.02957496690384658 and parameters: {'n_estimators': 1129, 'learning_rate': 0.13964718256285846, 'max_depth': 5, 'min_child_weight': 3, 'gamma': 0.5961558125796536, 'reg_alpha': 0.0020082310982224706, 'reg_lambda': 0.052428485707035934, 'subsample': 0.8509828442144902, 'colsample_bytree': 0.8660282885843461}. Best is trial 35 with value: 0.02743388081932538.\n",
      "[I 2025-03-14 18:06:57,558] Trial 37 finished with value: 0.03389627258634842 and parameters: {'n_estimators': 993, 'learning_rate': 0.18281299737100803, 'max_depth': 10, 'min_child_weight': 2, 'gamma': 1.5370196175414215, 'reg_alpha': 0.00659384877831335, 'reg_lambda': 0.027367953558124804, 'subsample': 0.8117496646774538, 'colsample_bytree': 0.9488752847518279}. Best is trial 35 with value: 0.02743388081932538.\n",
      "[I 2025-03-14 18:07:04,038] Trial 38 finished with value: 0.05470107896801232 and parameters: {'n_estimators': 1237, 'learning_rate': 0.1602573332539662, 'max_depth': 17, 'min_child_weight': 7, 'gamma': 0.4092989584132008, 'reg_alpha': 0.0036224317997819023, 'reg_lambda': 0.12733639681782907, 'subsample': 0.6128119953281657, 'colsample_bytree': 0.7968862293398097}. Best is trial 35 with value: 0.02743388081932538.\n",
      "[I 2025-03-14 18:07:27,168] Trial 39 finished with value: 0.02736811073462858 and parameters: {'n_estimators': 1086, 'learning_rate': 0.11436525403154989, 'max_depth': 4, 'min_child_weight': 5, 'gamma': 0.005490235841226543, 'reg_alpha': 8.24899470547091, 'reg_lambda': 0.04451104941868414, 'subsample': 0.8796545329749075, 'colsample_bytree': 0.9310025265746066}. Best is trial 39 with value: 0.02736811073462858.\n",
      "[I 2025-03-14 18:07:35,506] Trial 40 finished with value: 0.03694704664460023 and parameters: {'n_estimators': 1084, 'learning_rate': 0.11479944273585585, 'max_depth': 3, 'min_child_weight': 6, 'gamma': 1.0311055412463142, 'reg_alpha': 1.4452292503257165, 'reg_lambda': 0.1556433629660993, 'subsample': 0.8952314501316703, 'colsample_bytree': 0.9246518090913697}. Best is trial 39 with value: 0.02736811073462858.\n",
      "[I 2025-03-14 18:07:47,813] Trial 41 finished with value: 0.02839923376510811 and parameters: {'n_estimators': 1008, 'learning_rate': 0.1304479494916893, 'max_depth': 4, 'min_child_weight': 5, 'gamma': 0.02393028775234271, 'reg_alpha': 0.45551085083322074, 'reg_lambda': 0.042461887024918335, 'subsample': 0.9246036812424095, 'colsample_bytree': 0.9054573070005982}. Best is trial 39 with value: 0.02736811073462858.\n",
      "[I 2025-03-14 18:07:52,624] Trial 42 finished with value: 0.02955298587727203 and parameters: {'n_estimators': 1309, 'learning_rate': 0.15244611935802324, 'max_depth': 6, 'min_child_weight': 3, 'gamma': 0.7164568660295638, 'reg_alpha': 0.001145037731823346, 'reg_lambda': 0.06484506858263993, 'subsample': 0.8774086018732683, 'colsample_bytree': 0.9753960020968838}. Best is trial 39 with value: 0.02736811073462858.\n",
      "[I 2025-03-14 18:08:00,146] Trial 43 finished with value: 0.03019090936970041 and parameters: {'n_estimators': 1217, 'learning_rate': 0.10841558179832109, 'max_depth': 9, 'min_child_weight': 6, 'gamma': 0.33082584988910035, 'reg_alpha': 0.12203308278939706, 'reg_lambda': 0.017217090126470592, 'subsample': 0.9414583722228086, 'colsample_bytree': 0.9390553630670548}. Best is trial 39 with value: 0.02736811073462858.\n",
      "[I 2025-03-14 18:08:08,117] Trial 44 finished with value: 0.030793763977513548 and parameters: {'n_estimators': 763, 'learning_rate': 0.09982985528416709, 'max_depth': 8, 'min_child_weight': 5, 'gamma': 0.3333750227604856, 'reg_alpha': 8.1261331066062, 'reg_lambda': 0.03564842642232703, 'subsample': 0.890302841983244, 'colsample_bytree': 0.8898359843965157}. Best is trial 39 with value: 0.02736811073462858.\n",
      "[I 2025-03-14 18:08:42,870] Trial 45 finished with value: 0.027328049884837273 and parameters: {'n_estimators': 1121, 'learning_rate': 0.07390595575345055, 'max_depth': 4, 'min_child_weight': 4, 'gamma': 0.01379434812996749, 'reg_alpha': 0.24251958401947965, 'reg_lambda': 0.42774454579878074, 'subsample': 0.771830607959882, 'colsample_bytree': 0.9540397461498378}. Best is trial 45 with value: 0.027328049884837273.\n",
      "[I 2025-03-14 18:09:24,943] Trial 46 finished with value: 0.02626649470247872 and parameters: {'n_estimators': 1113, 'learning_rate': 0.07510231352690135, 'max_depth': 4, 'min_child_weight': 7, 'gamma': 0.0034279650666254845, 'reg_alpha': 1.8863322563933784, 'reg_lambda': 0.6423909434950223, 'subsample': 0.7518947266700299, 'colsample_bytree': 0.8520690427602549}. Best is trial 46 with value: 0.02626649470247872.\n",
      "[I 2025-03-14 18:09:39,939] Trial 47 finished with value: 0.030007255398253923 and parameters: {'n_estimators': 1098, 'learning_rate': 0.049719830911454065, 'max_depth': 4, 'min_child_weight': 9, 'gamma': 0.7209392023804531, 'reg_alpha': 2.2803522290933214, 'reg_lambda': 0.5536763074384429, 'subsample': 0.7483911137276519, 'colsample_bytree': 0.8498905066900987}. Best is trial 46 with value: 0.02626649470247872.\n",
      "[I 2025-03-14 18:09:47,294] Trial 48 finished with value: 0.042118950417944716 and parameters: {'n_estimators': 953, 'learning_rate': 0.1759464391142504, 'max_depth': 3, 'min_child_weight': 8, 'gamma': 0.5467817071821173, 'reg_alpha': 6.1425567010255655, 'reg_lambda': 0.34805687750491693, 'subsample': 0.7172254046197963, 'colsample_bytree': 0.8193664909960374}. Best is trial 46 with value: 0.02626649470247872.\n",
      "[I 2025-03-14 18:10:02,886] Trial 49 finished with value: 0.03208122446861944 and parameters: {'n_estimators': 860, 'learning_rate': 0.04112216664484887, 'max_depth': 4, 'min_child_weight': 7, 'gamma': 1.9764059073953486, 'reg_alpha': 0.9097493721972967, 'reg_lambda': 1.4493292388083185, 'subsample': 0.7630621586994638, 'colsample_bytree': 0.766806514631883}. Best is trial 46 with value: 0.02626649470247872.\n"
     ]
    },
    {
     "name": "stdout",
     "output_type": "stream",
     "text": [
      "Best Parameters saved to: /home/sid/coding/mass_recon/results/trained_models/positron_P_scat_params_dict.json\n",
      "Best Parameters: {'n_estimators': 1113, 'learning_rate': 0.07510231352690135, 'max_depth': 4, 'min_child_weight': 7, 'gamma': 0.0034279650666254845, 'reg_alpha': 1.8863322563933784, 'reg_lambda': 0.6423909434950223, 'subsample': 0.7518947266700299, 'colsample_bytree': 0.8520690427602549}\n",
      "Best RMSE: 0.02626649470247872\n",
      "Model optimized in : 705.18 seconds\n"
     ]
    },
    {
     "name": "stderr",
     "output_type": "stream",
     "text": [
      "[I 2025-03-14 18:10:03,919] A new study created in memory with name: no-name-aaca9a77-2016-493f-a5d3-58b4b9b4244d\n"
     ]
    },
    {
     "name": "stdout",
     "output_type": "stream",
     "text": [
      "Starting hyperparameter tuning...\n"
     ]
    },
    {
     "name": "stderr",
     "output_type": "stream",
     "text": [
      "[I 2025-03-14 18:10:46,756] Trial 0 finished with value: 0.07044410123492373 and parameters: {'n_estimators': 1437, 'learning_rate': 0.029879846600157717, 'max_depth': 3, 'min_child_weight': 4, 'gamma': 3.859176939243434, 'reg_alpha': 0.0032511119679240206, 'reg_lambda': 1.4392834470404463, 'subsample': 0.9916807753496762, 'colsample_bytree': 0.6524045983039045}. Best is trial 0 with value: 0.07044410123492373.\n",
      "[I 2025-03-14 18:11:17,562] Trial 1 finished with value: 0.055295815695932046 and parameters: {'n_estimators': 1218, 'learning_rate': 0.02094241393873653, 'max_depth': 13, 'min_child_weight': 9, 'gamma': 0.2761479664169242, 'reg_alpha': 0.0011691348282536563, 'reg_lambda': 0.007169019230766591, 'subsample': 0.9389756532190813, 'colsample_bytree': 0.7929156773184153}. Best is trial 1 with value: 0.055295815695932046.\n",
      "[I 2025-03-14 18:11:23,753] Trial 2 finished with value: 0.05880509977662995 and parameters: {'n_estimators': 338, 'learning_rate': 0.06599212685306403, 'max_depth': 6, 'min_child_weight': 6, 'gamma': 4.345609574535281, 'reg_alpha': 0.9366108112184788, 'reg_lambda': 0.009185678269337425, 'subsample': 0.9195672564787991, 'colsample_bytree': 0.8233907951078313}. Best is trial 1 with value: 0.055295815695932046.\n",
      "[I 2025-03-14 18:11:27,253] Trial 3 finished with value: 0.056263346172470724 and parameters: {'n_estimators': 305, 'learning_rate': 0.18656311481473986, 'max_depth': 18, 'min_child_weight': 2, 'gamma': 1.8762363881890791, 'reg_alpha': 0.002522661055055708, 'reg_lambda': 0.13036994825744178, 'subsample': 0.791089547077163, 'colsample_bytree': 0.9296132949440725}. Best is trial 1 with value: 0.055295815695932046.\n",
      "[I 2025-03-14 18:12:09,569] Trial 4 finished with value: 0.06208453897997896 and parameters: {'n_estimators': 1379, 'learning_rate': 0.0206454017276771, 'max_depth': 16, 'min_child_weight': 8, 'gamma': 3.5928150523084907, 'reg_alpha': 2.242826138029015, 'reg_lambda': 0.05601164400606846, 'subsample': 0.7725946283054425, 'colsample_bytree': 0.6370571063536677}. Best is trial 1 with value: 0.055295815695932046.\n",
      "[I 2025-03-14 18:12:15,906] Trial 5 finished with value: 0.05851259199738165 and parameters: {'n_estimators': 900, 'learning_rate': 0.11052401705133874, 'max_depth': 16, 'min_child_weight': 3, 'gamma': 4.534519199087391, 'reg_alpha': 0.0016100761581860313, 'reg_lambda': 3.407367961137242, 'subsample': 0.795139994324818, 'colsample_bytree': 0.8058039430103588}. Best is trial 1 with value: 0.055295815695932046.\n",
      "[I 2025-03-14 18:12:19,272] Trial 6 finished with value: 0.05814887645490743 and parameters: {'n_estimators': 1213, 'learning_rate': 0.16284197674243206, 'max_depth': 15, 'min_child_weight': 2, 'gamma': 3.5719367615694333, 'reg_alpha': 2.102176363317292, 'reg_lambda': 0.0026543151107736086, 'subsample': 0.7380353293230946, 'colsample_bytree': 0.8084416136826504}. Best is trial 1 with value: 0.055295815695932046.\n",
      "[I 2025-03-14 18:12:28,826] Trial 7 finished with value: 0.05973565643769906 and parameters: {'n_estimators': 742, 'learning_rate': 0.14233478749900472, 'max_depth': 13, 'min_child_weight': 9, 'gamma': 1.606878107055107, 'reg_alpha': 0.062396107435325206, 'reg_lambda': 0.0019273810713687674, 'subsample': 0.8109271225649064, 'colsample_bytree': 0.7464334553280229}. Best is trial 1 with value: 0.055295815695932046.\n",
      "[I 2025-03-14 18:12:51,051] Trial 8 finished with value: 0.05945437656732493 and parameters: {'n_estimators': 384, 'learning_rate': 0.018713565505236632, 'max_depth': 13, 'min_child_weight': 5, 'gamma': 4.160043284320036, 'reg_alpha': 0.7221856927829824, 'reg_lambda': 0.23733011925727895, 'subsample': 0.7293418398146592, 'colsample_bytree': 0.7926058523143574}. Best is trial 1 with value: 0.055295815695932046.\n",
      "[I 2025-03-14 18:12:55,236] Trial 9 finished with value: 0.05680388988905201 and parameters: {'n_estimators': 303, 'learning_rate': 0.0974831759332081, 'max_depth': 14, 'min_child_weight': 6, 'gamma': 2.091347212058218, 'reg_alpha': 0.11420559308006598, 'reg_lambda': 0.0409433354734705, 'subsample': 0.7064953882690985, 'colsample_bytree': 0.897317317882252}. Best is trial 1 with value: 0.055295815695932046.\n",
      "[I 2025-03-14 18:13:52,999] Trial 10 finished with value: 0.05185364764818315 and parameters: {'n_estimators': 1060, 'learning_rate': 0.010049293178018186, 'max_depth': 9, 'min_child_weight': 10, 'gamma': 0.02318558829352202, 'reg_alpha': 0.018389461914403424, 'reg_lambda': 0.01151748622595998, 'subsample': 0.6006707594626928, 'colsample_bytree': 0.9847448296581085}. Best is trial 10 with value: 0.05185364764818315.\n",
      "[I 2025-03-14 18:14:28,830] Trial 11 finished with value: 0.052821594864821506 and parameters: {'n_estimators': 1008, 'learning_rate': 0.01024108295431452, 'max_depth': 9, 'min_child_weight': 10, 'gamma': 0.20933642670640176, 'reg_alpha': 0.012428480031622231, 'reg_lambda': 0.01025452504453862, 'subsample': 0.6157029618030665, 'colsample_bytree': 0.9933099499600682}. Best is trial 10 with value: 0.05185364764818315.\n",
      "[I 2025-03-14 18:15:09,013] Trial 12 finished with value: 0.052364055342710915 and parameters: {'n_estimators': 906, 'learning_rate': 0.01057688307576583, 'max_depth': 9, 'min_child_weight': 10, 'gamma': 0.07882390914141349, 'reg_alpha': 0.013628389840517249, 'reg_lambda': 0.015528587036533655, 'subsample': 0.6034833185436828, 'colsample_bytree': 0.9992914760194294}. Best is trial 10 with value: 0.05185364764818315.\n",
      "[I 2025-03-14 18:15:43,242] Trial 13 finished with value: 0.056937451119959306 and parameters: {'n_estimators': 625, 'learning_rate': 0.010555343161231336, 'max_depth': 9, 'min_child_weight': 8, 'gamma': 0.8882255276015752, 'reg_alpha': 0.025004986525186283, 'reg_lambda': 0.030866249845350226, 'subsample': 0.6004020530614014, 'colsample_bytree': 0.9952975036064817}. Best is trial 10 with value: 0.05185364764818315.\n",
      "[I 2025-03-14 18:16:19,211] Trial 14 finished with value: 0.05452510320707372 and parameters: {'n_estimators': 1058, 'learning_rate': 0.014313719822098801, 'max_depth': 9, 'min_child_weight': 10, 'gamma': 0.8226703906580266, 'reg_alpha': 0.010991069875090827, 'reg_lambda': 0.4646503344614384, 'subsample': 0.6564058384481368, 'colsample_bytree': 0.9284323006220087}. Best is trial 10 with value: 0.05185364764818315.\n",
      "[I 2025-03-14 18:16:31,686] Trial 15 finished with value: 0.05755860426153709 and parameters: {'n_estimators': 604, 'learning_rate': 0.037260208037854216, 'max_depth': 7, 'min_child_weight': 7, 'gamma': 2.7927723913384446, 'reg_alpha': 0.16193361799851505, 'reg_lambda': 0.0012390038276618148, 'subsample': 0.6448023511593769, 'colsample_bytree': 0.874264868515563}. Best is trial 10 with value: 0.05185364764818315.\n",
      "[I 2025-03-14 18:17:08,630] Trial 16 finished with value: 0.05514176118522785 and parameters: {'n_estimators': 848, 'learning_rate': 0.014025693125220883, 'max_depth': 11, 'min_child_weight': 10, 'gamma': 0.977496183848935, 'reg_alpha': 0.009335928641824814, 'reg_lambda': 0.017705328411905814, 'subsample': 0.6791969091243315, 'colsample_bytree': 0.9433727995179152}. Best is trial 10 with value: 0.05185364764818315.\n",
      "[I 2025-03-14 18:17:30,749] Trial 17 finished with value: 0.05912752206400219 and parameters: {'n_estimators': 1154, 'learning_rate': 0.05889097261716477, 'max_depth': 4, 'min_child_weight': 8, 'gamma': 0.284954239957401, 'reg_alpha': 0.025267456669098676, 'reg_lambda': 0.005697097474853809, 'subsample': 0.8749959630426588, 'colsample_bytree': 0.7012768076133709}. Best is trial 10 with value: 0.05185364764818315.\n",
      "[I 2025-03-14 18:17:41,701] Trial 18 finished with value: 0.058130290988806205 and parameters: {'n_estimators': 937, 'learning_rate': 0.02709552485844426, 'max_depth': 6, 'min_child_weight': 9, 'gamma': 2.8902944102833805, 'reg_alpha': 0.054299690769419755, 'reg_lambda': 0.10818990045034696, 'subsample': 0.6425072412209376, 'colsample_bytree': 0.9695222241718722}. Best is trial 10 with value: 0.05185364764818315.\n",
      "[I 2025-03-14 18:18:10,589] Trial 19 finished with value: 0.05612851579915882 and parameters: {'n_estimators': 727, 'learning_rate': 0.014054986543668234, 'max_depth': 11, 'min_child_weight': 7, 'gamma': 1.4312396058186314, 'reg_alpha': 8.086572523191975, 'reg_lambda': 0.5953764479987939, 'subsample': 0.6873199074714162, 'colsample_bytree': 0.8538778066471181}. Best is trial 10 with value: 0.05185364764818315.\n",
      "[I 2025-03-14 18:18:21,304] Trial 20 finished with value: 0.055164860782124764 and parameters: {'n_estimators': 519, 'learning_rate': 0.04661339914161027, 'max_depth': 8, 'min_child_weight': 1, 'gamma': 1.155379149464398, 'reg_alpha': 0.2823313558755692, 'reg_lambda': 0.020981076511349398, 'subsample': 0.8471054635952746, 'colsample_bytree': 0.8957595973304855}. Best is trial 10 with value: 0.05185364764818315.\n",
      "[I 2025-03-14 18:19:01,253] Trial 21 finished with value: 0.052734149058608605 and parameters: {'n_estimators': 1041, 'learning_rate': 0.010545745127275305, 'max_depth': 10, 'min_child_weight': 10, 'gamma': 0.15292225546785201, 'reg_alpha': 0.008695959622512782, 'reg_lambda': 0.004490417139923001, 'subsample': 0.6014904849978453, 'colsample_bytree': 0.989485121173389}. Best is trial 10 with value: 0.05185364764818315.\n",
      "[I 2025-03-14 18:19:48,508] Trial 22 finished with value: 0.05289352758289134 and parameters: {'n_estimators': 1101, 'learning_rate': 0.010584692202216497, 'max_depth': 11, 'min_child_weight': 10, 'gamma': 0.12087349772664868, 'reg_alpha': 0.008946795031824453, 'reg_lambda': 0.003173452816348642, 'subsample': 0.6027074231145552, 'colsample_bytree': 0.9610555122094402}. Best is trial 10 with value: 0.05185364764818315.\n",
      "[I 2025-03-14 18:20:21,289] Trial 23 finished with value: 0.05419796500177597 and parameters: {'n_estimators': 1294, 'learning_rate': 0.015447676773949426, 'max_depth': 10, 'min_child_weight': 9, 'gamma': 0.5727359191025979, 'reg_alpha': 0.005348107319745404, 'reg_lambda': 0.014000620995298044, 'subsample': 0.6405213599772653, 'colsample_bytree': 0.9988282656606914}. Best is trial 10 with value: 0.05185364764818315.\n",
      "[I 2025-03-14 18:21:04,370] Trial 24 finished with value: 0.05435093880981895 and parameters: {'n_estimators': 990, 'learning_rate': 0.012069299146162565, 'max_depth': 6, 'min_child_weight': 10, 'gamma': 0.5564608110351534, 'reg_alpha': 0.024245811148745612, 'reg_lambda': 0.003432090648703551, 'subsample': 0.6753721204820344, 'colsample_bytree': 0.9077811700417507}. Best is trial 10 with value: 0.05185364764818315.\n",
      "[I 2025-03-14 18:21:29,287] Trial 25 finished with value: 0.0568788645050408 and parameters: {'n_estimators': 862, 'learning_rate': 0.01897974865245636, 'max_depth': 20, 'min_child_weight': 7, 'gamma': 1.2757390681474379, 'reg_alpha': 0.004611897619299255, 'reg_lambda': 0.0010520826027586962, 'subsample': 0.6279040015893097, 'colsample_bytree': 0.9545549192465987}. Best is trial 10 with value: 0.05185364764818315.\n",
      "[I 2025-03-14 18:21:58,407] Trial 26 finished with value: 0.052239556606286326 and parameters: {'n_estimators': 745, 'learning_rate': 0.02402850762492661, 'max_depth': 8, 'min_child_weight': 8, 'gamma': 0.07921499731814707, 'reg_alpha': 0.04825362181140622, 'reg_lambda': 0.06770739937093737, 'subsample': 0.7249800604624217, 'colsample_bytree': 0.9729256246162112}. Best is trial 10 with value: 0.05185364764818315.\n",
      "[I 2025-03-14 18:22:27,066] Trial 27 finished with value: 0.05825894319607098 and parameters: {'n_estimators': 777, 'learning_rate': 0.0265536380587005, 'max_depth': 5, 'min_child_weight': 8, 'gamma': 0.5415586000664596, 'reg_alpha': 0.042506720656018536, 'reg_lambda': 0.07223188688401841, 'subsample': 0.7516901615124761, 'colsample_bytree': 0.601195173088726}. Best is trial 10 with value: 0.05185364764818315.\n",
      "[I 2025-03-14 18:22:42,164] Trial 28 finished with value: 0.05657803722589665 and parameters: {'n_estimators': 470, 'learning_rate': 0.03630751996814488, 'max_depth': 8, 'min_child_weight': 9, 'gamma': 2.108914309822735, 'reg_alpha': 0.25968770570908767, 'reg_lambda': 9.162111641562314, 'subsample': 0.6975469436312849, 'colsample_bytree': 0.8589797348227972}. Best is trial 10 with value: 0.05185364764818315.\n",
      "[I 2025-03-14 18:23:33,156] Trial 29 finished with value: 0.06322778364662904 and parameters: {'n_estimators': 1438, 'learning_rate': 0.023589527629078035, 'max_depth': 3, 'min_child_weight': 5, 'gamma': 0.001180484099870177, 'reg_alpha': 0.018576812866938682, 'reg_lambda': 0.18990783347206389, 'subsample': 0.7093936289845327, 'colsample_bytree': 0.9622981632122002}. Best is trial 10 with value: 0.05185364764818315.\n",
      "[I 2025-03-14 18:23:42,617] Trial 30 finished with value: 0.05592632005822146 and parameters: {'n_estimators': 204, 'learning_rate': 0.0361727929822373, 'max_depth': 7, 'min_child_weight': 8, 'gamma': 0.7496415973759701, 'reg_alpha': 0.093628085714647, 'reg_lambda': 0.025686764691383354, 'subsample': 0.9943360795952926, 'colsample_bytree': 0.9212785431698373}. Best is trial 10 with value: 0.05185364764818315.\n",
      "[I 2025-03-14 18:24:42,146] Trial 31 finished with value: 0.05201384822743105 and parameters: {'n_estimators': 965, 'learning_rate': 0.016801863249993106, 'max_depth': 10, 'min_child_weight': 10, 'gamma': 0.023427565142264087, 'reg_alpha': 0.005084703502646938, 'reg_lambda': 0.00521434185831052, 'subsample': 0.6615576744312519, 'colsample_bytree': 0.979379460341794}. Best is trial 10 with value: 0.05185364764818315.\n",
      "[I 2025-03-14 18:25:21,878] Trial 32 finished with value: 0.05461231940517432 and parameters: {'n_estimators': 788, 'learning_rate': 0.016708291623480687, 'max_depth': 12, 'min_child_weight': 9, 'gamma': 0.43585052211479963, 'reg_alpha': 0.0038451162857330943, 'reg_lambda': 0.006674730864799228, 'subsample': 0.667375601891098, 'colsample_bytree': 0.9679795665660704}. Best is trial 10 with value: 0.05185364764818315.\n",
      "[I 2025-03-14 18:25:52,377] Trial 33 finished with value: 0.052843216221236236 and parameters: {'n_estimators': 643, 'learning_rate': 0.012722945729748648, 'max_depth': 8, 'min_child_weight': 10, 'gamma': 0.0036739202258929647, 'reg_alpha': 0.0019326570087163798, 'reg_lambda': 0.0407413498722429, 'subsample': 0.6290194855739947, 'colsample_bytree': 0.9425837236483461}. Best is trial 10 with value: 0.05185364764818315.\n",
      "[I 2025-03-14 18:26:33,152] Trial 34 finished with value: 0.05373221776985011 and parameters: {'n_estimators': 958, 'learning_rate': 0.01639270796614486, 'max_depth': 10, 'min_child_weight': 9, 'gamma': 0.40220896622064384, 'reg_alpha': 0.0010984140245844287, 'reg_lambda': 0.010823828458920177, 'subsample': 0.6574765188151275, 'colsample_bytree': 0.9785728150388918}. Best is trial 10 with value: 0.05185364764818315.\n",
      "[I 2025-03-14 18:27:03,410] Trial 35 finished with value: 0.05570419340699218 and parameters: {'n_estimators': 1138, 'learning_rate': 0.0226831137029928, 'max_depth': 12, 'min_child_weight': 9, 'gamma': 1.0198331736695014, 'reg_alpha': 0.04515227186148871, 'reg_lambda': 0.015677263802796423, 'subsample': 0.7198129806565212, 'colsample_bytree': 0.9276556689244263}. Best is trial 10 with value: 0.05185364764818315.\n",
      "[I 2025-03-14 18:27:45,481] Trial 36 finished with value: 0.05391648618239051 and parameters: {'n_estimators': 1274, 'learning_rate': 0.012457597156238858, 'max_depth': 7, 'min_child_weight': 7, 'gamma': 0.6111165350645661, 'reg_alpha': 0.016879427885529694, 'reg_lambda': 0.07857869593599352, 'subsample': 0.7514022144164219, 'colsample_bytree': 0.8860448925118656}. Best is trial 10 with value: 0.05185364764818315.\n",
      "[I 2025-03-14 18:28:15,897] Trial 37 finished with value: 0.05771991774172311 and parameters: {'n_estimators': 845, 'learning_rate': 0.01780352643031394, 'max_depth': 5, 'min_child_weight': 4, 'gamma': 1.7894261351830438, 'reg_alpha': 0.006188869449369829, 'reg_lambda': 0.007798780511220098, 'subsample': 0.6240655174184886, 'colsample_bytree': 0.8425696717679254}. Best is trial 10 with value: 0.05185364764818315.\n",
      "[I 2025-03-14 18:28:42,397] Trial 38 finished with value: 0.06002683710706318 and parameters: {'n_estimators': 672, 'learning_rate': 0.022014188647976426, 'max_depth': 9, 'min_child_weight': 8, 'gamma': 0.2936086756214442, 'reg_alpha': 0.002851041812190685, 'reg_lambda': 0.04445203101486692, 'subsample': 0.9387481927817406, 'colsample_bytree': 0.736131477229811}. Best is trial 10 with value: 0.05185364764818315.\n",
      "[I 2025-03-14 18:28:53,553] Trial 39 finished with value: 0.055608868394035026 and parameters: {'n_estimators': 896, 'learning_rate': 0.030712087126236045, 'max_depth': 10, 'min_child_weight': 10, 'gamma': 1.3727068747239568, 'reg_alpha': 0.039666338959821225, 'reg_lambda': 0.002127391761718819, 'subsample': 0.7772730359665981, 'colsample_bytree': 0.9504654724209806}. Best is trial 10 with value: 0.05185364764818315.\n",
      "[I 2025-03-14 18:29:24,874] Trial 40 finished with value: 0.05697310354171737 and parameters: {'n_estimators': 1196, 'learning_rate': 0.012187880730519152, 'max_depth': 8, 'min_child_weight': 6, 'gamma': 3.3765340097216785, 'reg_alpha': 0.07572485228974501, 'reg_lambda': 0.17778031450562745, 'subsample': 0.8210270214032576, 'colsample_bytree': 0.9124744211201992}. Best is trial 10 with value: 0.05185364764818315.\n",
      "[I 2025-03-14 18:30:18,241] Trial 41 finished with value: 0.0520831557057369 and parameters: {'n_estimators': 1057, 'learning_rate': 0.010351831888266168, 'max_depth': 10, 'min_child_weight': 10, 'gamma': 0.03375767588401331, 'reg_alpha': 0.007616813278457205, 'reg_lambda': 0.005184228014483487, 'subsample': 0.6002294205871446, 'colsample_bytree': 0.9819067441238549}. Best is trial 10 with value: 0.05185364764818315.\n",
      "[I 2025-03-14 18:30:50,560] Trial 42 finished with value: 0.05917368928043817 and parameters: {'n_estimators': 1053, 'learning_rate': 0.011868822419497858, 'max_depth': 13, 'min_child_weight': 9, 'gamma': 4.984814213930122, 'reg_alpha': 0.015211029286576111, 'reg_lambda': 0.005665749779120278, 'subsample': 0.6234723906961057, 'colsample_bytree': 0.979075123775984}. Best is trial 10 with value: 0.05185364764818315.\n",
      "[I 2025-03-14 18:31:53,769] Trial 43 finished with value: 0.05309445891476616 and parameters: {'n_estimators': 936, 'learning_rate': 0.015171623959915309, 'max_depth': 12, 'min_child_weight': 10, 'gamma': 0.02457636732474376, 'reg_alpha': 0.006517932629816995, 'reg_lambda': 0.01020047688312379, 'subsample': 0.6559882104291109, 'colsample_bytree': 0.9784564472072204}. Best is trial 10 with value: 0.05185364764818315.\n",
      "[I 2025-03-14 18:32:30,251] Trial 44 finished with value: 0.05334643136290742 and parameters: {'n_estimators': 1108, 'learning_rate': 0.01922689452863617, 'max_depth': 9, 'min_child_weight': 10, 'gamma': 0.30811549935825483, 'reg_alpha': 0.002524393497174561, 'reg_lambda': 0.001991600762112229, 'subsample': 0.6111034037359416, 'colsample_bytree': 0.9998175328224411}. Best is trial 10 with value: 0.05185364764818315.\n",
      "[I 2025-03-14 18:33:21,496] Trial 45 finished with value: 0.0555583981170814 and parameters: {'n_estimators': 1312, 'learning_rate': 0.010058508337787526, 'max_depth': 14, 'min_child_weight': 9, 'gamma': 0.8312646793527085, 'reg_alpha': 0.027367661890972124, 'reg_lambda': 0.004628039348874363, 'subsample': 0.639047284864227, 'colsample_bytree': 0.9443737826947479}. Best is trial 10 with value: 0.05185364764818315.\n",
      "[I 2025-03-14 18:34:05,541] Trial 46 finished with value: 0.054312899593915547 and parameters: {'n_estimators': 819, 'learning_rate': 0.011581059539280406, 'max_depth': 10, 'min_child_weight': 8, 'gamma': 0.6477491441739858, 'reg_alpha': 0.0039299714318049616, 'reg_lambda': 0.029273614554575375, 'subsample': 0.664866751074437, 'colsample_bytree': 0.9362165768275479}. Best is trial 10 with value: 0.05185364764818315.\n",
      "[I 2025-03-14 18:34:41,812] Trial 47 finished with value: 0.053498704727902684 and parameters: {'n_estimators': 896, 'learning_rate': 0.01333341216184663, 'max_depth': 7, 'min_child_weight': 10, 'gamma': 0.4037122057117053, 'reg_alpha': 0.13911883949905715, 'reg_lambda': 0.31951406900907564, 'subsample': 0.6916220071353257, 'colsample_bytree': 0.9785289405842846}. Best is trial 10 with value: 0.05185364764818315.\n",
      "[I 2025-03-14 18:35:12,491] Trial 48 finished with value: 0.05551866293669499 and parameters: {'n_estimators': 716, 'learning_rate': 0.016662670125749596, 'max_depth': 11, 'min_child_weight': 9, 'gamma': 1.0794986037569736, 'reg_alpha': 0.014414624479209543, 'reg_lambda': 0.012781584798303715, 'subsample': 0.6151490419122636, 'colsample_bytree': 0.7672950104340844}. Best is trial 10 with value: 0.05185364764818315.\n",
      "[I 2025-03-14 18:35:26,267] Trial 49 finished with value: 0.05754916126201977 and parameters: {'n_estimators': 983, 'learning_rate': 0.10451559501117924, 'max_depth': 9, 'min_child_weight': 8, 'gamma': 0.1783672064657077, 'reg_alpha': 0.0016383184076528491, 'reg_lambda': 0.05667383728001287, 'subsample': 0.6467197756387417, 'colsample_bytree': 0.6747732161001665}. Best is trial 10 with value: 0.05185364764818315.\n"
     ]
    },
    {
     "name": "stdout",
     "output_type": "stream",
     "text": [
      "Best Parameters saved to: /home/sid/coding/mass_recon/results/trained_models/positron_ip_scat_params_dict.json\n",
      "Best Parameters: {'n_estimators': 1060, 'learning_rate': 0.010049293178018186, 'max_depth': 9, 'min_child_weight': 10, 'gamma': 0.02318558829352202, 'reg_alpha': 0.018389461914403424, 'reg_lambda': 0.01151748622595998, 'subsample': 0.6006707594626928, 'colsample_bytree': 0.9847448296581085}\n",
      "Best RMSE: 0.05185364764818315\n",
      "Model optimized in : 1522.35 seconds\n"
     ]
    },
    {
     "name": "stderr",
     "output_type": "stream",
     "text": [
      "[I 2025-03-14 18:35:27,331] A new study created in memory with name: no-name-48913905-9284-418b-aed8-1237ea35d4c1\n"
     ]
    },
    {
     "name": "stdout",
     "output_type": "stream",
     "text": [
      "Starting hyperparameter tuning...\n"
     ]
    },
    {
     "name": "stderr",
     "output_type": "stream",
     "text": [
      "[I 2025-03-14 18:35:39,910] Trial 0 finished with value: 1.0080014723580424 and parameters: {'n_estimators': 714, 'learning_rate': 0.07800000818404419, 'max_depth': 6, 'min_child_weight': 7, 'gamma': 2.765016269509135, 'reg_alpha': 1.5830206698839762, 'reg_lambda': 0.5655672580531138, 'subsample': 0.7190285386037314, 'colsample_bytree': 0.7525259930933635}. Best is trial 0 with value: 1.0080014723580424.\n",
      "[I 2025-03-14 18:35:43,591] Trial 1 finished with value: 1.0111861922087366 and parameters: {'n_estimators': 597, 'learning_rate': 0.16392654507489815, 'max_depth': 8, 'min_child_weight': 9, 'gamma': 4.714168019920716, 'reg_alpha': 0.0035520956069690405, 'reg_lambda': 1.1638610955502842, 'subsample': 0.9069507792871542, 'colsample_bytree': 0.9354020292506785}. Best is trial 0 with value: 1.0080014723580424.\n",
      "[I 2025-03-14 18:35:50,952] Trial 2 finished with value: 1.0136145435728792 and parameters: {'n_estimators': 970, 'learning_rate': 0.09899701310580802, 'max_depth': 11, 'min_child_weight': 1, 'gamma': 2.4634937209320835, 'reg_alpha': 0.19061287072545052, 'reg_lambda': 0.49608716802668923, 'subsample': 0.9843536539809189, 'colsample_bytree': 0.8719805980315509}. Best is trial 0 with value: 1.0080014723580424.\n",
      "[I 2025-03-14 18:37:12,652] Trial 3 finished with value: 1.0217485733211635 and parameters: {'n_estimators': 1168, 'learning_rate': 0.010205672539199172, 'max_depth': 20, 'min_child_weight': 2, 'gamma': 4.118968348872753, 'reg_alpha': 0.25715978464557576, 'reg_lambda': 0.00178080470742995, 'subsample': 0.7968982969201487, 'colsample_bytree': 0.8012169410969749}. Best is trial 0 with value: 1.0080014723580424.\n",
      "[I 2025-03-14 18:37:57,399] Trial 4 finished with value: 1.035943337744565 and parameters: {'n_estimators': 1106, 'learning_rate': 0.017053113733630845, 'max_depth': 3, 'min_child_weight': 1, 'gamma': 0.3626627696562812, 'reg_alpha': 1.1794285934766298, 'reg_lambda': 1.2384023564254865, 'subsample': 0.9644062443781255, 'colsample_bytree': 0.7350351090340553}. Best is trial 0 with value: 1.0080014723580424.\n",
      "[I 2025-03-14 18:38:23,969] Trial 5 finished with value: 1.0173541379645057 and parameters: {'n_estimators': 1328, 'learning_rate': 0.05561351522397312, 'max_depth': 15, 'min_child_weight': 10, 'gamma': 3.605886732077046, 'reg_alpha': 0.26488281391892277, 'reg_lambda': 0.003004930523585166, 'subsample': 0.880532452953127, 'colsample_bytree': 0.6698950971737689}. Best is trial 0 with value: 1.0080014723580424.\n",
      "[I 2025-03-14 18:38:42,654] Trial 6 finished with value: 1.0250832450894565 and parameters: {'n_estimators': 516, 'learning_rate': 0.023249347690390523, 'max_depth': 5, 'min_child_weight': 9, 'gamma': 2.596885597739342, 'reg_alpha': 0.0036959506339203116, 'reg_lambda': 0.0015368042221571227, 'subsample': 0.8321184692337984, 'colsample_bytree': 0.7316220286826949}. Best is trial 0 with value: 1.0080014723580424.\n",
      "[I 2025-03-14 18:38:50,930] Trial 7 finished with value: 1.0453908149719762 and parameters: {'n_estimators': 1159, 'learning_rate': 0.12771657204933964, 'max_depth': 19, 'min_child_weight': 9, 'gamma': 1.2089962511283703, 'reg_alpha': 0.86851800872629, 'reg_lambda': 0.007213742246173742, 'subsample': 0.7597018827608842, 'colsample_bytree': 0.8609297226902368}. Best is trial 0 with value: 1.0080014723580424.\n",
      "[I 2025-03-14 18:39:41,419] Trial 8 finished with value: 1.0173628917900466 and parameters: {'n_estimators': 824, 'learning_rate': 0.015816039344595807, 'max_depth': 15, 'min_child_weight': 6, 'gamma': 2.426606722580379, 'reg_alpha': 0.0026630613523271245, 'reg_lambda': 1.0685886272868614, 'subsample': 0.8781845213968085, 'colsample_bytree': 0.7703079706143061}. Best is trial 0 with value: 1.0080014723580424.\n",
      "[I 2025-03-14 18:39:51,850] Trial 9 finished with value: 1.0241397569184671 and parameters: {'n_estimators': 1198, 'learning_rate': 0.07595977050925716, 'max_depth': 18, 'min_child_weight': 7, 'gamma': 3.122865517884385, 'reg_alpha': 0.012042510002471267, 'reg_lambda': 0.007174658351660234, 'subsample': 0.9632722275861154, 'colsample_bytree': 0.7712329941618632}. Best is trial 0 with value: 1.0080014723580424.\n",
      "[I 2025-03-14 18:40:03,791] Trial 10 finished with value: 1.0526951468079262 and parameters: {'n_estimators': 218, 'learning_rate': 0.034917439669314175, 'max_depth': 8, 'min_child_weight': 4, 'gamma': 1.3900679160760372, 'reg_alpha': 6.698789990085109, 'reg_lambda': 9.485804414593789, 'subsample': 0.6342932000076547, 'colsample_bytree': 0.6710728242279809}. Best is trial 0 with value: 1.0080014723580424.\n",
      "[I 2025-03-14 18:40:07,692] Trial 11 finished with value: 1.0132010942898761 and parameters: {'n_estimators': 667, 'learning_rate': 0.1987417475483497, 'max_depth': 8, 'min_child_weight': 7, 'gamma': 4.846658505812378, 'reg_alpha': 0.02523171195922249, 'reg_lambda': 0.09475118779478006, 'subsample': 0.6924998305371407, 'colsample_bytree': 0.9912769891015403}. Best is trial 0 with value: 1.0080014723580424.\n",
      "[I 2025-03-14 18:40:12,040] Trial 12 finished with value: 1.0114599226436132 and parameters: {'n_estimators': 463, 'learning_rate': 0.19044142290548444, 'max_depth': 7, 'min_child_weight': 4, 'gamma': 4.231869246223376, 'reg_alpha': 8.380814212580688, 'reg_lambda': 0.13271935763815534, 'subsample': 0.7114060943133388, 'colsample_bytree': 0.9999183709683805}. Best is trial 0 with value: 1.0080014723580424.\n",
      "[I 2025-03-14 18:40:17,579] Trial 13 finished with value: 1.010930358178489 and parameters: {'n_estimators': 733, 'learning_rate': 0.11300448825928756, 'max_depth': 11, 'min_child_weight': 8, 'gamma': 4.979261065324541, 'reg_alpha': 0.036001168424280375, 'reg_lambda': 6.178770406052942, 'subsample': 0.6113778091457315, 'colsample_bytree': 0.8903174110973179}. Best is trial 0 with value: 1.0080014723580424.\n",
      "[I 2025-03-14 18:40:25,480] Trial 14 finished with value: 1.0107110209205887 and parameters: {'n_estimators': 815, 'learning_rate': 0.05967522183718622, 'max_depth': 11, 'min_child_weight': 7, 'gamma': 1.7605260733046681, 'reg_alpha': 0.03425186904750685, 'reg_lambda': 7.934446798680309, 'subsample': 0.6128612612876928, 'colsample_bytree': 0.8511982420607406}. Best is trial 0 with value: 1.0080014723580424.\n",
      "[I 2025-03-14 18:40:48,704] Trial 15 finished with value: 1.019765687940454 and parameters: {'n_estimators': 902, 'learning_rate': 0.048814880197053385, 'max_depth': 13, 'min_child_weight': 5, 'gamma': 1.7241876368267115, 'reg_alpha': 1.089164080890609, 'reg_lambda': 0.08350326944329681, 'subsample': 0.6846114149011209, 'colsample_bytree': 0.6020730487191384}. Best is trial 0 with value: 1.0080014723580424.\n",
      "[I 2025-03-14 18:40:57,814] Trial 16 finished with value: 1.0250301598202598 and parameters: {'n_estimators': 332, 'learning_rate': 0.07001692360415744, 'max_depth': 3, 'min_child_weight': 6, 'gamma': 0.15754995614384937, 'reg_alpha': 0.058121470049803524, 'reg_lambda': 3.359200258796039, 'subsample': 0.64976202781237, 'colsample_bytree': 0.8310262959282146}. Best is trial 0 with value: 1.0080014723580424.\n",
      "[I 2025-03-14 18:41:17,431] Trial 17 finished with value: 1.007518781644265 and parameters: {'n_estimators': 997, 'learning_rate': 0.033888585641282686, 'max_depth': 6, 'min_child_weight': 4, 'gamma': 1.9028600325299947, 'reg_alpha': 0.001117717105290979, 'reg_lambda': 0.22853880291433584, 'subsample': 0.739087863330784, 'colsample_bytree': 0.9252905981643722}. Best is trial 17 with value: 1.007518781644265.\n",
      "[I 2025-03-14 18:41:38,227] Trial 18 finished with value: 1.0090042623896165 and parameters: {'n_estimators': 1435, 'learning_rate': 0.03470867400632764, 'max_depth': 5, 'min_child_weight': 3, 'gamma': 3.212662696497321, 'reg_alpha': 0.0010257103817981617, 'reg_lambda': 0.2698894300031785, 'subsample': 0.7447855424074371, 'colsample_bytree': 0.9310915290048469}. Best is trial 17 with value: 1.007518781644265.\n",
      "[I 2025-03-14 18:42:19,503] Trial 19 finished with value: 1.0070579504564547 and parameters: {'n_estimators': 986, 'learning_rate': 0.025254148402036707, 'max_depth': 6, 'min_child_weight': 5, 'gamma': 0.7469046051511374, 'reg_alpha': 3.103560336213422, 'reg_lambda': 0.04412665978470143, 'subsample': 0.7913230925955044, 'colsample_bytree': 0.926165689430549}. Best is trial 19 with value: 1.0070579504564547.\n",
      "[I 2025-03-14 18:42:43,884] Trial 20 finished with value: 1.0097150395953907 and parameters: {'n_estimators': 1016, 'learning_rate': 0.030925656527880745, 'max_depth': 10, 'min_child_weight': 4, 'gamma': 0.7599242867203078, 'reg_alpha': 3.168174035543984, 'reg_lambda': 0.030445800931708226, 'subsample': 0.8051965552505495, 'colsample_bytree': 0.9364584764088706}. Best is trial 19 with value: 1.0070579504564547.\n",
      "[I 2025-03-14 18:43:35,450] Trial 21 finished with value: 1.0072068851461067 and parameters: {'n_estimators': 1017, 'learning_rate': 0.023008395792353118, 'max_depth': 6, 'min_child_weight': 5, 'gamma': 0.9101175389044467, 'reg_alpha': 2.696293307142836, 'reg_lambda': 0.027563497100710103, 'subsample': 0.7402822620275746, 'colsample_bytree': 0.9084476389432298}. Best is trial 19 with value: 1.0070579504564547.\n",
      "[I 2025-03-14 18:44:17,542] Trial 22 finished with value: 1.008323456070973 and parameters: {'n_estimators': 1031, 'learning_rate': 0.022955245171842803, 'max_depth': 5, 'min_child_weight': 5, 'gamma': 0.7660913713249073, 'reg_alpha': 2.4996207975958713, 'reg_lambda': 0.024291355786329766, 'subsample': 0.7709808263465355, 'colsample_bytree': 0.9096252539502051}. Best is trial 19 with value: 1.0070579504564547.\n",
      "[I 2025-03-14 18:44:43,284] Trial 23 finished with value: 1.0088532650940667 and parameters: {'n_estimators': 1271, 'learning_rate': 0.025078387536899917, 'max_depth': 9, 'min_child_weight': 3, 'gamma': 1.963036018126804, 'reg_alpha': 0.4974093671235417, 'reg_lambda': 0.029448669709465674, 'subsample': 0.825465203361576, 'colsample_bytree': 0.9657798861198215}. Best is trial 19 with value: 1.0070579504564547.\n",
      "[I 2025-03-14 18:45:10,112] Trial 24 finished with value: 1.015161563491007 and parameters: {'n_estimators': 905, 'learning_rate': 0.017193909208573586, 'max_depth': 4, 'min_child_weight': 5, 'gamma': 0.911024640379493, 'reg_alpha': 3.885934041556361, 'reg_lambda': 0.012130612275271565, 'subsample': 0.7449450154715104, 'colsample_bytree': 0.9634467842631351}. Best is trial 19 with value: 1.0070579504564547.\n",
      "[I 2025-03-14 18:45:31,344] Trial 25 finished with value: 1.0075687271767024 and parameters: {'n_estimators': 1062, 'learning_rate': 0.041536396008204655, 'max_depth': 6, 'min_child_weight': 3, 'gamma': 1.2552271113781501, 'reg_alpha': 0.11043499913476507, 'reg_lambda': 0.05206372827294958, 'subsample': 0.662031900337797, 'colsample_bytree': 0.9001498035500844}. Best is trial 19 with value: 1.0070579504564547.\n",
      "[I 2025-03-14 18:46:33,544] Trial 26 finished with value: 1.0196635174216768 and parameters: {'n_estimators': 965, 'learning_rate': 0.010043693434722615, 'max_depth': 13, 'min_child_weight': 4, 'gamma': 0.010754760057387847, 'reg_alpha': 0.009935625332285779, 'reg_lambda': 0.20560511302988987, 'subsample': 0.7839587413220392, 'colsample_bytree': 0.8233733709956557}. Best is trial 19 with value: 1.0070579504564547.\n",
      "[I 2025-03-14 18:47:12,499] Trial 27 finished with value: 1.0071294152900274 and parameters: {'n_estimators': 1335, 'learning_rate': 0.013319171005844276, 'max_depth': 7, 'min_child_weight': 6, 'gamma': 0.5631629986255478, 'reg_alpha': 0.48218347011855966, 'reg_lambda': 0.014159410197986952, 'subsample': 0.8438077654671671, 'colsample_bytree': 0.9504393355925325}. Best is trial 19 with value: 1.0070579504564547.\n",
      "[I 2025-03-14 18:47:48,475] Trial 28 finished with value: 1.0084153441041797 and parameters: {'n_estimators': 1474, 'learning_rate': 0.012600287586560212, 'max_depth': 9, 'min_child_weight': 6, 'gamma': 0.46351420654595876, 'reg_alpha': 0.5467212019260754, 'reg_lambda': 0.011889451413750826, 'subsample': 0.845856365039655, 'colsample_bytree': 0.9558442883460226}. Best is trial 19 with value: 1.0070579504564547.\n",
      "[I 2025-03-14 18:48:34,516] Trial 29 finished with value: 1.0072354400570622 and parameters: {'n_estimators': 1324, 'learning_rate': 0.013333471255277379, 'max_depth': 7, 'min_child_weight': 6, 'gamma': 0.614846278969611, 'reg_alpha': 1.9857163498553059, 'reg_lambda': 0.05368458688829679, 'subsample': 0.9144544812971744, 'colsample_bytree': 0.8838293779044989}. Best is trial 19 with value: 1.0070579504564547.\n",
      "[I 2025-03-14 18:49:30,624] Trial 30 finished with value: 1.0111338038507194 and parameters: {'n_estimators': 1388, 'learning_rate': 0.019488425256113006, 'max_depth': 4, 'min_child_weight': 8, 'gamma': 1.0250902970448492, 'reg_alpha': 4.869012879921448, 'reg_lambda': 0.004592614144025294, 'subsample': 0.8480839184113942, 'colsample_bytree': 0.9754517847020618}. Best is trial 19 with value: 1.0070579504564547.\n",
      "[I 2025-03-14 18:50:11,973] Trial 31 finished with value: 1.0072079064143589 and parameters: {'n_estimators': 1304, 'learning_rate': 0.01336848296986966, 'max_depth': 7, 'min_child_weight': 6, 'gamma': 0.5425183541280229, 'reg_alpha': 1.8970366312854774, 'reg_lambda': 0.052534177630956476, 'subsample': 0.919468470983515, 'colsample_bytree': 0.8829119938560531}. Best is trial 19 with value: 1.0070579504564547.\n",
      "[I 2025-03-14 18:50:52,283] Trial 32 finished with value: 1.0072896893360377 and parameters: {'n_estimators': 1238, 'learning_rate': 0.013017270764122577, 'max_depth': 7, 'min_child_weight': 5, 'gamma': 0.3538465569440237, 'reg_alpha': 0.5843273337105582, 'reg_lambda': 0.01893134896333896, 'subsample': 0.9260643703617154, 'colsample_bytree': 0.9129664907120576}. Best is trial 19 with value: 1.0070579504564547.\n",
      "[I 2025-03-14 18:51:18,295] Trial 33 finished with value: 1.0078123568413173 and parameters: {'n_estimators': 1377, 'learning_rate': 0.026902572607919662, 'max_depth': 6, 'min_child_weight': 8, 'gamma': 1.5115190971454762, 'reg_alpha': 1.519579841818372, 'reg_lambda': 0.047371984126615155, 'subsample': 0.8755808758152006, 'colsample_bytree': 0.9439002989889916}. Best is trial 19 with value: 1.0070579504564547.\n",
      "[I 2025-03-14 18:51:48,625] Trial 34 finished with value: 1.008483384040778 and parameters: {'n_estimators': 1115, 'learning_rate': 0.01999541600470423, 'max_depth': 9, 'min_child_weight': 6, 'gamma': 1.02919797845365, 'reg_alpha': 2.2726460772064914, 'reg_lambda': 0.016917344322088374, 'subsample': 0.8117430538871859, 'colsample_bytree': 0.8545606914734278}. Best is trial 19 with value: 1.0070579504564547.\n",
      "[I 2025-03-14 18:52:20,408] Trial 35 finished with value: 1.0078061712983728 and parameters: {'n_estimators': 1271, 'learning_rate': 0.01467104848883274, 'max_depth': 8, 'min_child_weight': 5, 'gamma': 0.35512421178812426, 'reg_alpha': 0.32452462731228154, 'reg_lambda': 0.009221042601219902, 'subsample': 0.9434312391136511, 'colsample_bytree': 0.8777260794975632}. Best is trial 19 with value: 1.0070579504564547.\n",
      "[I 2025-03-14 18:53:14,131] Trial 36 finished with value: 1.0112587224625558 and parameters: {'n_estimators': 1489, 'learning_rate': 0.019880986700523674, 'max_depth': 4, 'min_child_weight': 7, 'gamma': 2.2321888785135107, 'reg_alpha': 0.14213778912261282, 'reg_lambda': 0.004330338302889641, 'subsample': 0.8912769834307745, 'colsample_bytree': 0.8287852284810316}. Best is trial 19 with value: 1.0070579504564547.\n",
      "[I 2025-03-14 18:53:55,176] Trial 37 finished with value: 1.0073056439651549 and parameters: {'n_estimators': 1123, 'learning_rate': 0.011564603656995976, 'max_depth': 7, 'min_child_weight': 6, 'gamma': 0.6244855875389359, 'reg_alpha': 5.091458930982965, 'reg_lambda': 0.0385778010608581, 'subsample': 0.8552770072074891, 'colsample_bytree': 0.9139842643906542}. Best is trial 19 with value: 1.0070579504564547.\n",
      "[I 2025-03-14 18:54:20,671] Trial 38 finished with value: 1.0089264959555835 and parameters: {'n_estimators': 910, 'learning_rate': 0.01733314723789468, 'max_depth': 10, 'min_child_weight': 2, 'gamma': 0.02809788432668514, 'reg_alpha': 9.378897719411162, 'reg_lambda': 0.13151739103220814, 'subsample': 0.7956981279836572, 'colsample_bytree': 0.9791862619725721}. Best is trial 19 with value: 1.0070579504564547.\n",
      "[I 2025-03-14 18:54:57,261] Trial 39 finished with value: 1.0268665761513545 and parameters: {'n_estimators': 1205, 'learning_rate': 0.014623943963064753, 'max_depth': 3, 'min_child_weight': 5, 'gamma': 1.4856521702125227, 'reg_alpha': 0.7650364096571212, 'reg_lambda': 0.5851655222922384, 'subsample': 0.7801065750554612, 'colsample_bytree': 0.954179418382339}. Best is trial 19 with value: 1.0070579504564547.\n",
      "[I 2025-03-14 18:55:20,212] Trial 40 finished with value: 1.0166551150540672 and parameters: {'n_estimators': 771, 'learning_rate': 0.011109353172296296, 'max_depth': 5, 'min_child_weight': 7, 'gamma': 1.1121803599337614, 'reg_alpha': 0.3432462247371759, 'reg_lambda': 0.0022448963832148957, 'subsample': 0.9864020817234784, 'colsample_bytree': 0.8942468459886341}. Best is trial 19 with value: 1.0070579504564547.\n",
      "[I 2025-03-14 18:56:01,652] Trial 41 finished with value: 1.0071275287251025 and parameters: {'n_estimators': 1315, 'learning_rate': 0.013420529814916952, 'max_depth': 7, 'min_child_weight': 6, 'gamma': 0.6225714125695332, 'reg_alpha': 1.8856735752615499, 'reg_lambda': 0.0645090796199447, 'subsample': 0.9147076891990665, 'colsample_bytree': 0.8783754351776306}. Best is trial 19 with value: 1.0070579504564547.\n",
      "[I 2025-03-14 18:56:40,179] Trial 42 finished with value: 1.0073258147899886 and parameters: {'n_estimators': 1328, 'learning_rate': 0.021309862305577038, 'max_depth': 6, 'min_child_weight': 6, 'gamma': 0.4948596120908798, 'reg_alpha': 1.4865838482478981, 'reg_lambda': 0.07231846055684114, 'subsample': 0.9069003006628445, 'colsample_bytree': 0.8630099127311642}. Best is trial 19 with value: 1.0070579504564547.\n",
      "[I 2025-03-14 18:57:18,276] Trial 43 finished with value: 1.0072480412954965 and parameters: {'n_estimators': 1410, 'learning_rate': 0.016477812890486433, 'max_depth': 7, 'min_child_weight': 7, 'gamma': 0.22923846275585658, 'reg_alpha': 0.9259509068764409, 'reg_lambda': 0.016813432734399114, 'subsample': 0.9488172192288089, 'colsample_bytree': 0.8069777322527556}. Best is trial 19 with value: 1.0070579504564547.\n",
      "[I 2025-03-14 18:58:12,276] Trial 44 finished with value: 1.0072273523673707 and parameters: {'n_estimators': 1292, 'learning_rate': 0.027155160847264787, 'max_depth': 5, 'min_child_weight': 5, 'gamma': 0.8956216297015387, 'reg_alpha': 3.347751926379113, 'reg_lambda': 0.0010023479287074586, 'subsample': 0.725352854190695, 'colsample_bytree': 0.9241012756298622}. Best is trial 19 with value: 1.0070579504564547.\n",
      "[I 2025-03-14 18:59:31,902] Trial 45 finished with value: 1.0077027601664323 and parameters: {'n_estimators': 1168, 'learning_rate': 0.011699080170286145, 'max_depth': 8, 'min_child_weight': 8, 'gamma': 0.8236690184545316, 'reg_alpha': 1.5434331609517622, 'reg_lambda': 0.06680496023302206, 'subsample': 0.9970767923159943, 'colsample_bytree': 0.8412687321626606}. Best is trial 19 with value: 1.0070579504564547.\n",
      "[I 2025-03-14 18:59:55,372] Trial 46 finished with value: 1.009608630965878 and parameters: {'n_estimators': 1106, 'learning_rate': 0.014733314471987497, 'max_depth': 10, 'min_child_weight': 10, 'gamma': 1.2511411087995945, 'reg_alpha': 0.19545542922802603, 'reg_lambda': 0.14852450913067222, 'subsample': 0.8258451460589026, 'colsample_bytree': 0.8761986953860383}. Best is trial 19 with value: 1.0070579504564547.\n",
      "[I 2025-03-14 19:00:24,403] Trial 47 finished with value: 1.0076648786622566 and parameters: {'n_estimators': 1217, 'learning_rate': 0.018689579616949305, 'max_depth': 8, 'min_child_weight': 6, 'gamma': 0.6308685084645391, 'reg_alpha': 5.606823982408606, 'reg_lambda': 0.38297080526906335, 'subsample': 0.9317936860488288, 'colsample_bytree': 0.9451468884418825}. Best is trial 19 with value: 1.0070579504564547.\n",
      "[I 2025-03-14 19:00:42,530] Trial 48 finished with value: 1.0183710013767242 and parameters: {'n_estimators': 655, 'learning_rate': 0.0419275706463916, 'max_depth': 13, 'min_child_weight': 4, 'gamma': 0.32072993357517743, 'reg_alpha': 2.1893440949185883, 'reg_lambda': 0.03751516304305322, 'subsample': 0.9008811481213475, 'colsample_bytree': 0.7784650787991658}. Best is trial 19 with value: 1.0070579504564547.\n",
      "[I 2025-03-14 19:02:18,737] Trial 49 finished with value: 1.0255463728561098 and parameters: {'n_estimators': 1354, 'learning_rate': 0.013575162850670425, 'max_depth': 17, 'min_child_weight': 9, 'gamma': 1.4513368161032707, 'reg_alpha': 1.2447053100045307, 'reg_lambda': 0.10098262425727411, 'subsample': 0.8652639686222949, 'colsample_bytree': 0.7086816324484877}. Best is trial 19 with value: 1.0070579504564547.\n"
     ]
    },
    {
     "name": "stdout",
     "output_type": "stream",
     "text": [
      "Best Parameters saved to: /home/sid/coding/mass_recon/results/trained_models/positron_oop_scat_params_dict.json\n",
      "Best Parameters: {'n_estimators': 986, 'learning_rate': 0.025254148402036707, 'max_depth': 6, 'min_child_weight': 5, 'gamma': 0.7469046051511374, 'reg_alpha': 3.103560336213422, 'reg_lambda': 0.04412665978470143, 'subsample': 0.7913230925955044, 'colsample_bytree': 0.926165689430549}\n",
      "Best RMSE: 1.0070579504564547\n",
      "Model optimized in : 1611.41 seconds\n"
     ]
    }
   ],
   "source": [
    "for target in ['P', 'ip', 'oop']:\n",
    "    electron = Analysis(side=side, \n",
    "                        scat='y',\n",
    "                        train_path = path_train_n,\n",
    "                        test_path = path_test_n,\n",
    "                        target = target,\n",
    "                        n_jobs = 12)\n",
    "    electron.run_optimization(n_trials=50, \n",
    "                              base_path=saved_models_path)"
   ]
  }
 ],
 "metadata": {
  "kernelspec": {
   "display_name": "Python 3 (ipykernel)",
   "language": "python",
   "name": "python3"
  },
  "language_info": {
   "codemirror_mode": {
    "name": "ipython",
    "version": 3
   },
   "file_extension": ".py",
   "mimetype": "text/x-python",
   "name": "python",
   "nbconvert_exporter": "python",
   "pygments_lexer": "ipython3",
   "version": "3.13.2"
  }
 },
 "nbformat": 4,
 "nbformat_minor": 5
}

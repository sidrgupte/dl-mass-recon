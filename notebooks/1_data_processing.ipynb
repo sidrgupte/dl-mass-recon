{
 "cells": [
  {
   "cell_type": "code",
   "execution_count": 1,
   "id": "4a19db7a-ee0b-434d-a240-a5204dae2733",
   "metadata": {},
   "outputs": [
    {
     "name": "stdout",
     "output_type": "stream",
     "text": [
      "parent path: /home/sid/coding/mass_recon\n",
      "base path: /home/sid/coding/mass_recon/notebooks\n",
      "raw data path: /home/sid/coding/mass_recon/data/raw\n"
     ]
    }
   ],
   "source": [
    "import os\n",
    "import time\n",
    "import matplotlib.pyplot as plt\n",
    "import numpy as np\n",
    "import pandas as pd\n",
    "import sys\n",
    "import json\n",
    "import importlib\n",
    "import ipynbname\n",
    "%matplotlib inline\n",
    "\n",
    "base_path = os.path.dirname(ipynbname.path())\n",
    "parent_path = os.path.dirname(base_path)  \n",
    "raw_data_path = parent_path + '/data/raw'\n",
    "\n",
    "print(f\"parent path: {parent_path}\")\n",
    "print(f\"base path: {base_path}\")\n",
    "print(f\"raw data path: {raw_data_path}\")"
   ]
  },
  {
   "cell_type": "code",
   "execution_count": 4,
   "id": "96949ef0-4068-4ab3-8390-18356daeaf68",
   "metadata": {},
   "outputs": [
    {
     "data": {
      "text/plain": [
       "['/home/sid/software/install/root_install/lib',\n",
       " '/usr/lib64/python313.zip',\n",
       " '/usr/lib64/python3.13',\n",
       " '/usr/lib64/python3.13/lib-dynload',\n",
       " '',\n",
       " '/home/sid/.local/lib/python3.13/site-packages',\n",
       " '/usr/lib64/python3.13/site-packages',\n",
       " '/usr/lib/python3.13/site-packages',\n",
       " '/home/sid/coding/mass_recon/utils',\n",
       " '/home/sid/coding/mass_recon/utils']"
      ]
     },
     "execution_count": 4,
     "metadata": {},
     "output_type": "execute_result"
    }
   ],
   "source": [
    "sys.path"
   ]
  },
  {
   "cell_type": "code",
   "execution_count": 5,
   "id": "30f5853e-5aba-4b93-a0fe-47e847d00651",
   "metadata": {},
   "outputs": [],
   "source": [
    "# import utils file\n",
    "scripts_path = scripts_path = os.path.join(parent_path, \"utils\")\n",
    "sys.path.append(scripts_path)\n",
    "import data_utils\n",
    "importlib.reload(data_utils)\n",
    "from data_utils import *"
   ]
  },
  {
   "cell_type": "markdown",
   "id": "ad7e0f9b-0195-4a0b-8cb3-5561c3314cd0",
   "metadata": {},
   "source": [
    "## 1. Load the Data"
   ]
  },
  {
   "cell_type": "markdown",
   "id": "053c9982-13d3-42e3-8933-35a04cb431e0",
   "metadata": {},
   "source": [
    "To load the data, we need to specify:\n",
    "- `side`: Takes values `electron` and `positron`\n",
    "- `scat`: Choose `n` for using the data with physics effects turned off and `y` otherwise "
   ]
  },
  {
   "cell_type": "markdown",
   "id": "4580f40f-5711-4b42-aa40-da781bbb3160",
   "metadata": {},
   "source": [
    "`get_data_path` gets the path of the raw data file based on the `side` and `scat`"
   ]
  },
  {
   "cell_type": "code",
   "execution_count": 6,
   "id": "a46c6c71-69bf-4e18-a7c3-17d939120477",
   "metadata": {},
   "outputs": [
    {
     "name": "stdout",
     "output_type": "stream",
     "text": [
      "Train:\t/home/sid/coding/mass_recon/data/raw/ElectronCoords_no_scat.dat,\n",
      "Test:\t/home/sid/coding/mass_recon/data/raw/ElectronSort_no_scat.dat\n"
     ]
    }
   ],
   "source": [
    "path_train_e, path_test_e = get_data_path(side = 'electron', \n",
    "                                          scat = 'n', \n",
    "                                          data_path = raw_data_path)\n",
    "\n",
    "print(f\"Train:\\t{path_train_e},\\nTest:\\t{path_test_e}\")"
   ]
  },
  {
   "cell_type": "markdown",
   "id": "556e4260-611b-4a22-9a19-af016cac2130",
   "metadata": {},
   "source": [
    "`get_data()` returns the data in the form of a Pandas DataFrame"
   ]
  },
  {
   "cell_type": "code",
   "execution_count": 7,
   "id": "68667e18-a1db-45e6-a975-297c77361c73",
   "metadata": {},
   "outputs": [],
   "source": [
    "e_train = get_data(file_path = path_train_e)\n",
    "e_test = get_data(file_path = path_test_e)"
   ]
  },
  {
   "cell_type": "code",
   "execution_count": 8,
   "id": "d2402537-8e03-4235-801b-608c19e22f6d",
   "metadata": {},
   "outputs": [
    {
     "name": "stdout",
     "output_type": "stream",
     "text": [
      "Train Path:\t/home/sid/coding/mass_recon/data/raw/PositronCoords_no_scat.dat,\n",
      "Test Path:\t/home/sid/coding/mass_recon/data/raw/PositronSort_no_scat.dat\n"
     ]
    }
   ],
   "source": [
    "path_train_p, path_test_p = get_data_path(side = 'positron', \n",
    "                                          scat = 'n', \n",
    "                                          data_path = raw_data_path)\n",
    "\n",
    "print(f\"Train Path:\\t{path_train_p},\\nTest Path:\\t{path_test_p}\")"
   ]
  },
  {
   "cell_type": "code",
   "execution_count": 9,
   "id": "bfdd8b47-0fde-48cd-95f6-0a7ee2026092",
   "metadata": {},
   "outputs": [],
   "source": [
    "p_train = get_data(file_path = path_train_p)\n",
    "p_test = get_data(file_path = path_test_p)"
   ]
  },
  {
   "cell_type": "code",
   "execution_count": 10,
   "id": "d200e433-9d01-405b-a9a0-d3da3091ea47",
   "metadata": {},
   "outputs": [
    {
     "name": "stdout",
     "output_type": "stream",
     "text": [
      "Electron Training Data Length:\t1000013\n",
      "Positron Training Data Length:\t997376\n"
     ]
    }
   ],
   "source": [
    "print(f\"Electron Training Data Length:\\t{len(e_train)}\")\n",
    "print(f\"Positron Training Data Length:\\t{len(p_train)}\")"
   ]
  },
  {
   "cell_type": "code",
   "execution_count": 11,
   "id": "f0669457-d761-43bd-82bf-8e4562e32ba7",
   "metadata": {},
   "outputs": [
    {
     "name": "stdout",
     "output_type": "stream",
     "text": [
      "E Test Data Length:\t20000\n",
      "P Test Data Length:\t19946\n"
     ]
    }
   ],
   "source": [
    "print(f\"E Test Data Length:\\t{len(e_test)}\")\n",
    "print(f\"P Test Data Length:\\t{len(p_test)}\")"
   ]
  },
  {
   "cell_type": "markdown",
   "id": "d2acfc80-8326-4b30-8ce7-4f829de2b291",
   "metadata": {},
   "source": [
    "## 2. Analyze and Filter the Training Data"
   ]
  },
  {
   "cell_type": "markdown",
   "id": "58c7aeac-837c-490e-905b-27828f1d7c3c",
   "metadata": {},
   "source": [
    "The lengths of Electron and Positron data should ideally be equal. So, the data needs to be filtered. We will keep data with common EventIDs. All other data points such that their EventID does not match with any other datapoint in the other dataset will be removed."
   ]
  },
  {
   "cell_type": "markdown",
   "id": "f749b46b-0382-49f0-801e-ca87afecf63e",
   "metadata": {},
   "source": [
    "Electron dataset should have only those events whose `TrackID==1`. Rest all other datapoints should be removed"
   ]
  },
  {
   "cell_type": "code",
   "execution_count": 12,
   "id": "63e9d47d-1056-48aa-bdff-2c45224d86fa",
   "metadata": {},
   "outputs": [
    {
     "name": "stdout",
     "output_type": "stream",
     "text": [
      "num: 13\n"
     ]
    }
   ],
   "source": [
    "print(f\"num: {len(e_train[e_train['TrackID']!=1])}\")\n",
    "e_eventid = e_train[e_train['TrackID']!=1]['EventID'].to_numpy()"
   ]
  },
  {
   "cell_type": "markdown",
   "id": "6fb0f659-b607-4683-9d53-93c740be71f4",
   "metadata": {},
   "source": [
    "Positron dataset should have only those events whose `TrackID==2`. Rest all other datapoints should be removed"
   ]
  },
  {
   "cell_type": "code",
   "execution_count": 13,
   "id": "e81b82ef-2ea6-4553-b3d6-1e788c06c0da",
   "metadata": {},
   "outputs": [
    {
     "name": "stdout",
     "output_type": "stream",
     "text": [
      "num: 622\n"
     ]
    }
   ],
   "source": [
    "print(f\"num: {len(p_train[p_train['TrackID']!=2])}\")\n",
    "p_eventid = p_train[p_train['TrackID']!=2]['EventID'].to_numpy()"
   ]
  },
  {
   "cell_type": "code",
   "execution_count": 14,
   "id": "4f043e8b-4658-41f4-b634-3d76c9a1c170",
   "metadata": {},
   "outputs": [
    {
     "name": "stdout",
     "output_type": "stream",
     "text": [
      "Number of bad events: 635\n"
     ]
    }
   ],
   "source": [
    "bad_eventid = np.concatenate((e_eventid, p_eventid))\n",
    "print(f\"Number of bad events: {len(bad_eventid)}\")"
   ]
  },
  {
   "cell_type": "code",
   "execution_count": 15,
   "id": "7e5e5086-d005-4107-9cc5-b3d1fd0c2d92",
   "metadata": {},
   "outputs": [],
   "source": [
    "# filter these rows from both the dataframes:\n",
    "e_train_filtered = e_train[~e_train['EventID'].isin(bad_eventid)]\n",
    "p_train_filtered = p_train[~p_train['EventID'].isin(bad_eventid)]"
   ]
  },
  {
   "cell_type": "code",
   "execution_count": 16,
   "id": "fee67195-ad5f-4636-9ffa-722134cfd947",
   "metadata": {},
   "outputs": [
    {
     "name": "stdout",
     "output_type": "stream",
     "text": [
      "(Before) num: 13\n",
      "(After) num: 0\n"
     ]
    }
   ],
   "source": [
    "print(f\"(Before) num: {len(e_train[e_train['TrackID']!=1])}\")\n",
    "print(f\"(After) num: {len(e_train_filtered[e_train_filtered['TrackID']!=1])}\")"
   ]
  },
  {
   "cell_type": "code",
   "execution_count": 17,
   "id": "b995130c-13a1-4543-af4b-cdbe7846e08e",
   "metadata": {},
   "outputs": [
    {
     "name": "stdout",
     "output_type": "stream",
     "text": [
      "(Before) num: 622\n",
      "(After) num: 0\n"
     ]
    }
   ],
   "source": [
    "print(f\"(Before) num: {len(p_train[p_train['TrackID']!=2])}\")\n",
    "print(f\"(After) num: {len(p_train_filtered[p_train_filtered['TrackID']!=2])}\")"
   ]
  },
  {
   "cell_type": "code",
   "execution_count": 18,
   "id": "f88cfedd-dc45-431e-b561-bda71ab511d6",
   "metadata": {},
   "outputs": [
    {
     "name": "stdout",
     "output_type": "stream",
     "text": [
      "len of Electron Dataset: 999458\n",
      "len of Positron Dataset: 996665\n"
     ]
    }
   ],
   "source": [
    "# length of filtered data:\n",
    "print(f\"len of Electron Dataset: {len(e_train_filtered)}\")\n",
    "print(f\"len of Positron Dataset: {len(p_train_filtered)}\")"
   ]
  },
  {
   "cell_type": "markdown",
   "id": "f0baa240-f58b-4d47-80dd-77051c9aaa8d",
   "metadata": {},
   "source": [
    "Length mismatch means there are some `EventID` in electron side which are not present in positron side and vice versa. Let us check"
   ]
  },
  {
   "cell_type": "code",
   "execution_count": 19,
   "id": "95afb240-219f-4c7f-8a93-ba9a969efce5",
   "metadata": {},
   "outputs": [],
   "source": [
    "e_eventid = e_train_filtered['EventID'].to_numpy()\n",
    "p_eventid = p_train_filtered['EventID'].to_numpy()"
   ]
  },
  {
   "cell_type": "code",
   "execution_count": 20,
   "id": "c41c8fd4-100d-4320-8725-8c6aed88508f",
   "metadata": {},
   "outputs": [
    {
     "name": "stdout",
     "output_type": "stream",
     "text": [
      "Number of EventID in E Side which are not in P Side: 2793\n",
      "Number of EventID in P Side which are not in E Side: 0\n"
     ]
    }
   ],
   "source": [
    "print(f\"Number of EventID in E Side which are not in P Side: {len(np.setdiff1d(e_eventid, p_eventid))}\")\n",
    "print(f\"Number of EventID in P Side which are not in E Side: {len(np.setdiff1d(p_eventid, e_eventid))}\")"
   ]
  },
  {
   "cell_type": "code",
   "execution_count": 21,
   "id": "78ecf511-402d-423b-8c3e-b1bb7157c5d4",
   "metadata": {},
   "outputs": [],
   "source": [
    "# we wish to keep only the common_eventid (which are present on both the sides):\n",
    "common_eventid = np.intersect1d(e_eventid, p_eventid)\n",
    "e_train_filtered2 = e_train_filtered[e_train_filtered['EventID'].isin(common_eventid)]\n",
    "p_train_filtered2 = p_train_filtered[p_train_filtered['EventID'].isin(common_eventid)]"
   ]
  },
  {
   "cell_type": "code",
   "execution_count": 22,
   "id": "40bb7290-b403-4188-a35a-53fd96d8e9a9",
   "metadata": {},
   "outputs": [
    {
     "name": "stdout",
     "output_type": "stream",
     "text": [
      "len of e: 996665\n",
      "len of p: 996665\n"
     ]
    }
   ],
   "source": [
    "# let us compare the lengths of the two again:\n",
    "print(f\"len of e: {len(e_train_filtered2)}\")\n",
    "print(f\"len of p: {len(p_train_filtered2)}\")"
   ]
  },
  {
   "cell_type": "markdown",
   "id": "822832a7-2fb9-4ae2-912a-dc7ac9dcc427",
   "metadata": {},
   "source": [
    "We can now do the same with the function `filter_data`"
   ]
  },
  {
   "cell_type": "code",
   "execution_count": 24,
   "id": "5d07d7c6-5144-411e-8b5e-9f34ef1e44bb",
   "metadata": {},
   "outputs": [
    {
     "name": "stdout",
     "output_type": "stream",
     "text": [
      "Initial Electron rows: 1000013, Initial Positron rows: 997376\n",
      "TrackID Outliers - Electron: 13, Positron: 622\n",
      "After TrackID Filtering - Electron: 999458, Positron: 996665\n",
      "Common EventIDs found: 996665\n",
      "Unmatched EventIDs after filtering: 2793\n",
      "After Common EventID Filtering - Electron: 996665, Positron: 996665\n",
      "Final Electron: 996665, Final Positron: 996665\n",
      "Removed 3348 outliers from dataset: /home/sid/coding/mass_recon/data/raw/ElectronCoords_no_scat.dat\n",
      "Removed 711 outliers from dataset: /home/sid/coding/mass_recon/data/raw/PositronCoords_no_scat.dat\n",
      "Filtered Electron data saved at: /home/sid/coding/mass_recon/data/filtered/ElectronCoords_no_scat.dat\n",
      "Filtered Positron data saved at: /home/sid/coding/mass_recon/data/filtered/PositronCoords_no_scat.dat\n",
      "Saved 3428 removed EventIDs to: /home/sid/coding/mass_recon/data/filtered/train_n_removed_eventids.txt\n"
     ]
    }
   ],
   "source": [
    "df_e, df_p, ids = filter_data(electron_path=path_train_e, \n",
    "                              positron_path=path_train_p, \n",
    "                              side='train',\n",
    "                              scat='n')"
   ]
  },
  {
   "cell_type": "code",
   "execution_count": 25,
   "id": "b32d74e3-72da-401d-9a11-b4fe82c0e473",
   "metadata": {},
   "outputs": [
    {
     "name": "stdout",
     "output_type": "stream",
     "text": [
      "len of e: 996665\n",
      "len of p: 996665\n"
     ]
    }
   ],
   "source": [
    "# let us compare the lengths of the two again:\n",
    "print(f\"len of e: {len(df_e)}\")\n",
    "print(f\"len of p: {len(df_p)}\")"
   ]
  },
  {
   "cell_type": "markdown",
   "id": "cd669783-d94d-43d1-bcf1-5cd4cd8ce08a",
   "metadata": {},
   "source": [
    "We do the same for the test data"
   ]
  },
  {
   "cell_type": "code",
   "execution_count": 27,
   "id": "00b18354-0ca7-49c6-be0d-054db7cebd8c",
   "metadata": {},
   "outputs": [
    {
     "name": "stdout",
     "output_type": "stream",
     "text": [
      "Initial Electron rows: 20000, Initial Positron rows: 19946\n",
      "TrackID Outliers - Electron: 0, Positron: 10\n",
      "After TrackID Filtering - Electron: 19991, Positron: 19935\n",
      "Common EventIDs found: 19935\n",
      "Unmatched EventIDs after filtering: 56\n",
      "After Common EventID Filtering - Electron: 19935, Positron: 19935\n",
      "Final Electron: 19935, Final Positron: 19935\n",
      "Removed 65 outliers from dataset: /home/sid/coding/mass_recon/data/raw/ElectronSort_no_scat.dat\n",
      "Removed 11 outliers from dataset: /home/sid/coding/mass_recon/data/raw/PositronSort_no_scat.dat\n",
      "Filtered Electron data saved at: /home/sid/coding/mass_recon/data/filtered/ElectronSort_no_scat.dat\n",
      "Filtered Positron data saved at: /home/sid/coding/mass_recon/data/filtered/PositronSort_no_scat.dat\n",
      "Saved 66 removed EventIDs to: /home/sid/coding/mass_recon/data/filtered/test_n_removed_eventids.txt\n"
     ]
    }
   ],
   "source": [
    "e_test, p_test, bad_ids = filter_data(electron_path=path_test_e, \n",
    "                                      positron_path=path_test_p, \n",
    "                                      side='test',\n",
    "                                      scat='n')"
   ]
  },
  {
   "cell_type": "code",
   "execution_count": 28,
   "id": "af4d5f5c-6712-4101-b740-65009679c912",
   "metadata": {},
   "outputs": [
    {
     "data": {
      "text/plain": [
       "(19935, 19935)"
      ]
     },
     "execution_count": 28,
     "metadata": {},
     "output_type": "execute_result"
    }
   ],
   "source": [
    "len(e_test), len(p_test)"
   ]
  },
  {
   "cell_type": "markdown",
   "id": "e395befa-0dec-4570-87f3-d4ac8b36d807",
   "metadata": {},
   "source": [
    "# 3. Filter All the Data using `filter_data()`"
   ]
  },
  {
   "cell_type": "code",
   "execution_count": 39,
   "id": "b95686ec-4961-4da9-a0b3-9d473359928f",
   "metadata": {},
   "outputs": [
    {
     "name": "stdout",
     "output_type": "stream",
     "text": [
      "Initial Electron rows: 1000013, Initial Positron rows: 997376\n",
      "TrackID Outliers - Electron: 13, Positron: 622\n",
      "After TrackID Filtering - Electron: 999458, Positron: 996665\n",
      "Common EventIDs found: 996665\n",
      "Unmatched EventIDs after filtering: 2793\n",
      "After Common EventID Filtering - Electron: 996665, Positron: 996665\n",
      "Final Electron: 996665, Final Positron: 996665\n",
      "Removed 3348 outliers from dataset: /home/sid/coding/mass_recon/data/raw/ElectronCoords_no_scat.dat\n",
      "Removed 711 outliers from dataset: /home/sid/coding/mass_recon/data/raw/PositronCoords_no_scat.dat\n",
      "Filtered Electron data saved at: /home/sid/coding/mass_recon/data/filtered/ElectronCoords_no_scat.dat\n",
      "Filtered Positron data saved at: /home/sid/coding/mass_recon/data/filtered/PositronCoords_no_scat.dat\n",
      "Saved 3428 removed EventIDs to: /home/sid/coding/mass_recon/data/filtered/train_n_removed_eventids.txt\n",
      "Initial Electron rows: 20000, Initial Positron rows: 19946\n",
      "TrackID Outliers - Electron: 0, Positron: 10\n",
      "After TrackID Filtering - Electron: 19991, Positron: 19935\n",
      "Common EventIDs found: 19935\n",
      "Unmatched EventIDs after filtering: 56\n",
      "After Common EventID Filtering - Electron: 19935, Positron: 19935\n",
      "Final Electron: 19935, Final Positron: 19935\n",
      "Removed 65 outliers from dataset: /home/sid/coding/mass_recon/data/raw/ElectronSort_no_scat.dat\n",
      "Removed 11 outliers from dataset: /home/sid/coding/mass_recon/data/raw/PositronSort_no_scat.dat\n",
      "Filtered Electron data saved at: /home/sid/coding/mass_recon/data/filtered/ElectronSort_no_scat.dat\n",
      "Filtered Positron data saved at: /home/sid/coding/mass_recon/data/filtered/PositronSort_no_scat.dat\n",
      "Saved 66 removed EventIDs to: /home/sid/coding/mass_recon/data/filtered/test_n_removed_eventids.txt\n"
     ]
    }
   ],
   "source": [
    "# NO SCATTERING DATA (PHYSICS SWITCHED OFF)\n",
    "scat = 'n'\n",
    "path_train_e_n, path_test_e_n = get_data_path(side = 'electron', scat = scat, data_path = raw_data_path)\n",
    "path_train_p_n, path_test_p_n = get_data_path(side = 'positron', scat = scat, data_path = raw_data_path)\n",
    "\n",
    "_, _,_ = filter_data(electron_path = path_train_e_n, positron_path = path_train_p_n, side = 'train', scat = scat)\n",
    "_, _,_ = filter_data(electron_path = path_test_e_n,  positron_path = path_test_p_n,  side = 'test',  scat = scat)"
   ]
  },
  {
   "cell_type": "code",
   "execution_count": 40,
   "id": "41fa44fe-eab7-49a5-85f4-c53a48aa1514",
   "metadata": {},
   "outputs": [
    {
     "name": "stdout",
     "output_type": "stream",
     "text": [
      "Initial Electron rows: 999151, Initial Positron rows: 998844\n",
      "TrackID Outliers - Electron: 830, Positron: 541\n",
      "After TrackID Filtering - Electron: 996953, Positron: 996936\n",
      "Common EventIDs found: 995268\n",
      "Unmatched EventIDs after filtering: 3353\n",
      "After Common EventID Filtering - Electron: 995268, Positron: 995268\n",
      "Final Electron: 995268, Final Positron: 995268\n",
      "Removed 3883 outliers from dataset: /home/sid/coding/mass_recon/data/raw/ElectronCoords_wide_acp.dat\n",
      "Removed 3576 outliers from dataset: /home/sid/coding/mass_recon/data/raw/PositronCoords_wide_acp.dat\n",
      "Filtered Electron data saved at: /home/sid/coding/mass_recon/data/filtered/ElectronCoords_wide_acp.dat\n",
      "Filtered Positron data saved at: /home/sid/coding/mass_recon/data/filtered/PositronCoords_wide_acp.dat\n",
      "Saved 4724 removed EventIDs to: /home/sid/coding/mass_recon/data/filtered/train_y_removed_eventids.txt\n",
      "Initial Electron rows: 19812, Initial Positron rows: 19790\n",
      "TrackID Outliers - Electron: 27, Positron: 17\n",
      "After TrackID Filtering - Electron: 19741, Positron: 19729\n",
      "Common EventIDs found: 19519\n",
      "Unmatched EventIDs after filtering: 432\n",
      "After Common EventID Filtering - Electron: 19519, Positron: 19519\n",
      "Final Electron: 19519, Final Positron: 19519\n",
      "Removed 293 outliers from dataset: /home/sid/coding/mass_recon/data/raw/ElectronSort_signal.dat\n",
      "Removed 271 outliers from dataset: /home/sid/coding/mass_recon/data/raw/PositronSort_signal.dat\n",
      "Filtered Electron data saved at: /home/sid/coding/mass_recon/data/filtered/ElectronSort_signal.dat\n",
      "Filtered Positron data saved at: /home/sid/coding/mass_recon/data/filtered/PositronSort_signal.dat\n",
      "Saved 476 removed EventIDs to: /home/sid/coding/mass_recon/data/filtered/test_y_removed_eventids.txt\n"
     ]
    }
   ],
   "source": [
    "# SCATTERING DATA (NO PHYSICS SWITCHED OFF)\n",
    "scat = 'y'\n",
    "path_train_e_y, path_test_e_y = get_data_path(side = 'electron', scat = scat, data_path = raw_data_path)\n",
    "path_train_p_y, path_test_p_y = get_data_path(side = 'positron', scat = scat, data_path = raw_data_path)\n",
    "\n",
    "_, _,_ = filter_data(electron_path = path_train_e_y, positron_path = path_train_p_y, side = 'train', scat = scat)\n",
    "_, _,_ = filter_data(electron_path = path_test_e_y,  positron_path = path_test_p_y,  side = 'test',  scat = scat)"
   ]
  },
  {
   "cell_type": "markdown",
   "id": "cd117407-694e-4838-9acf-1765e19804c1",
   "metadata": {},
   "source": [
    "# 4. Filter the Signal too"
   ]
  },
  {
   "cell_type": "markdown",
   "id": "b3c13130-ef09-40c7-9d37-aee756e4b752",
   "metadata": {},
   "source": [
    "We remove the bad EventIDs from the Signal file too."
   ]
  },
  {
   "cell_type": "code",
   "execution_count": 29,
   "id": "ee1ce60d-026b-4994-b142-ab8a1e0ad86d",
   "metadata": {},
   "outputs": [
    {
     "name": "stdout",
     "output_type": "stream",
     "text": [
      "Train:\t/home/sid/coding/mass_recon/data/raw/ElectronCoords_wide_acp.dat,\n",
      "Test:\t/home/sid/coding/mass_recon/data/raw/ElectronSort_signal.dat\n",
      "E Train Length:\t999151\n",
      "E Test Length:\t19812\n"
     ]
    }
   ],
   "source": [
    "path_train_e, path_test_e = get_data_path(side = 'electron', \n",
    "                                          scat = 'y', \n",
    "                                          data_path = raw_data_path)\n",
    "\n",
    "print(f\"Train:\\t{path_train_e},\\nTest:\\t{path_test_e}\")\n",
    "\n",
    "e_train, e_test = get_data(file_path = path_train_e), get_data(file_path = path_test_e)\n",
    "print(f\"E Train Length:\\t{len(e_train)}\\nE Test Length:\\t{len(e_test)}\")"
   ]
  },
  {
   "cell_type": "code",
   "execution_count": 33,
   "id": "0a8ff548-9307-442d-8f6c-8524167f6b69",
   "metadata": {},
   "outputs": [
    {
     "name": "stdout",
     "output_type": "stream",
     "text": [
      "Train Path:\t/home/sid/coding/mass_recon/data/raw/PositronCoords_wide_acp.dat,\n",
      "Test Path:\t/home/sid/coding/mass_recon/data/raw/PositronSort_signal.dat\n",
      "P Train Length:\t998844\n",
      "P Test Length:\t19790\n"
     ]
    }
   ],
   "source": [
    "path_train_p, path_test_p = get_data_path(side = 'positron', \n",
    "                                          scat = 'y', \n",
    "                                          data_path = raw_data_path)\n",
    "\n",
    "print(f\"Train Path:\\t{path_train_p},\\nTest Path:\\t{path_test_p}\")\n",
    "\n",
    "p_train, p_test = get_data(file_path = path_train_p), get_data(file_path = path_test_p)\n",
    "print(f\"P Train Length:\\t{len(p_train)}\\nP Test Length:\\t{len(p_test)}\")"
   ]
  },
  {
   "cell_type": "code",
   "execution_count": 34,
   "id": "dfccc684-9344-4c8c-8a08-dce0221fb99f",
   "metadata": {},
   "outputs": [
    {
     "name": "stdout",
     "output_type": "stream",
     "text": [
      "Initial Electron rows: 999151, Initial Positron rows: 998844\n",
      "TrackID Outliers - Electron: 830, Positron: 541\n",
      "After TrackID Filtering - Electron: 996953, Positron: 996936\n",
      "Common EventIDs found: 995268\n",
      "Unmatched EventIDs after filtering: 3353\n",
      "After Common EventID Filtering - Electron: 995268, Positron: 995268\n",
      "Final Electron: 995268, Final Positron: 995268\n",
      "Removed 3883 outliers from dataset: /home/sid/coding/mass_recon/data/raw/ElectronCoords_wide_acp.dat\n",
      "Removed 3576 outliers from dataset: /home/sid/coding/mass_recon/data/raw/PositronCoords_wide_acp.dat\n",
      "Filtered Electron data saved at: /home/sid/coding/mass_recon/data/filtered/ElectronCoords_wide_acp.dat\n",
      "Filtered Positron data saved at: /home/sid/coding/mass_recon/data/filtered/PositronCoords_wide_acp.dat\n",
      "Saved 4724 removed EventIDs to: /home/sid/coding/mass_recon/data/filtered/train_y_removed_eventids.txt\n"
     ]
    }
   ],
   "source": [
    "e_test, p_test, bad_ids = filter_data(electron_path = path_train_e, \n",
    "                                      positron_path = path_train_p, \n",
    "                                      side = 'train',\n",
    "                                      scat = 'y')"
   ]
  },
  {
   "cell_type": "code",
   "execution_count": 35,
   "id": "fe9ff550-1838-498e-b602-2921552579b6",
   "metadata": {},
   "outputs": [
    {
     "name": "stdout",
     "output_type": "stream",
     "text": [
      "Length Signal: 20749\n"
     ]
    }
   ],
   "source": [
    "signal_file_path = raw_data_path + \"/Signal_DL_SIG_13_30_elec36_pos20.dat\"\n",
    "df_signal = get_data(signal_file_path)\n",
    "print(f\"Length Signal: {len(df_signal)}\")"
   ]
  },
  {
   "cell_type": "code",
   "execution_count": 36,
   "id": "2f51fb28-203a-472d-bce8-5095de1c2e6e",
   "metadata": {},
   "outputs": [
    {
     "name": "stdout",
     "output_type": "stream",
     "text": [
      "Length Filtered Signal: 20658\n"
     ]
    }
   ],
   "source": [
    "df_signal_filtered = df_signal[~df_signal['EventID'].isin(bad_ids)]\n",
    "print(f\"Length Filtered Signal: {len(df_signal_filtered)}\")"
   ]
  }
 ],
 "metadata": {
  "kernelspec": {
   "display_name": "Python 3 (ipykernel)",
   "language": "python",
   "name": "python3"
  },
  "language_info": {
   "codemirror_mode": {
    "name": "ipython",
    "version": 3
   },
   "file_extension": ".py",
   "mimetype": "text/x-python",
   "name": "python",
   "nbconvert_exporter": "python",
   "pygments_lexer": "ipython3",
   "version": "3.13.2"
  }
 },
 "nbformat": 4,
 "nbformat_minor": 5
}

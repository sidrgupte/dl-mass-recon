{
 "cells": [
  {
   "cell_type": "code",
   "execution_count": 9,
   "id": "8f9e3c66-21ba-4575-ae0b-1b861622744e",
   "metadata": {},
   "outputs": [],
   "source": [
    "import os\n",
    "import time\n",
    "from sklearn.model_selection import train_test_split\n",
    "from sklearn.metrics import root_mean_squared_error, r2_score, mean_squared_error\n",
    "import matplotlib.pyplot as plt\n",
    "import numpy as np\n",
    "import pandas as pd\n",
    "from scipy import optimize\n",
    "from scipy.stats import randint\n",
    "import sys\n",
    "import json\n",
    "import funcs\n",
    "import importlib\n",
    "importlib.reload(funcs)\n",
    "from funcs import *\n",
    "\n",
    "sys.path.append(\"~/files/rough_work/path_recon_ml_models\")\n",
    "base_path = '/home/sid/files/rough_work/path_recon_ml_models/'\n",
    "data_path = base_path + 'mass_recon_data/'"
   ]
  },
  {
   "cell_type": "code",
   "execution_count": 10,
   "id": "9c1a1f82-3982-428d-9104-345f1b1472b3",
   "metadata": {},
   "outputs": [],
   "source": [
    "side = 'electron'"
   ]
  },
  {
   "cell_type": "markdown",
   "id": "93ab2195-e57f-4dfc-847d-1fc2b1953dbf",
   "metadata": {},
   "source": [
    "## 1.1 With Scattering"
   ]
  },
  {
   "cell_type": "code",
   "execution_count": 11,
   "id": "efd05e75-c367-4c56-be85-75b8587da86a",
   "metadata": {},
   "outputs": [],
   "source": [
    "scat = 'y'"
   ]
  },
  {
   "cell_type": "code",
   "execution_count": 12,
   "id": "d5f0e294-3af3-4cae-84f0-fc662d419f8a",
   "metadata": {},
   "outputs": [
    {
     "name": "stdout",
     "output_type": "stream",
     "text": [
      "Train:\t/home/sid/files/rough_work/path_recon_ml_models/mass_recon_data/ElectronCoords_wide_acp.dat,\n",
      "Test:\t/home/sid/files/rough_work/path_recon_ml_models/mass_recon_data/ElectronSort_signal.dat\n"
     ]
    }
   ],
   "source": [
    "data_train, data_test = get_data_path(side, scat, data_path)\n",
    "print(f\"Train:\\t{data_train},\\nTest:\\t{data_test}\")"
   ]
  },
  {
   "cell_type": "code",
   "execution_count": 15,
   "id": "27a48c0c-9e35-4a38-be80-563dcc684259",
   "metadata": {
    "scrolled": true
   },
   "outputs": [
    {
     "name": "stderr",
     "output_type": "stream",
     "text": [
      "[I 2025-02-21 05:23:16,019] A new study created in memory with name: no-name-37819224-d0c6-4f6e-b26a-0f31838ecde0\n"
     ]
    },
    {
     "name": "stdout",
     "output_type": "stream",
     "text": [
      "Removed 0 Outliers from dataset:\ttrain!\n",
      "Removed 0 Outliers from dataset:\ttest!\n",
      "Starting hyperparameter tuning...\n"
     ]
    },
    {
     "name": "stderr",
     "output_type": "stream",
     "text": [
      "[I 2025-02-21 05:23:53,849] Trial 0 finished with value: 0.03367902500841176 and parameters: {'n_estimators': 1333, 'learning_rate': 0.01784727508729673, 'max_depth': 13, 'min_child_weight': 7, 'gamma': 4.294817268437477, 'reg_alpha': 7.1213202981263155, 'reg_lambda': 0.004755462007921015, 'subsample': 0.6566791841419821, 'colsample_bytree': 0.8053776652081073}. Best is trial 0 with value: 0.03367902500841176.\n",
      "[I 2025-02-21 05:24:36,894] Trial 1 finished with value: 0.025322449488209386 and parameters: {'n_estimators': 1115, 'learning_rate': 0.015946573326284866, 'max_depth': 3, 'min_child_weight': 4, 'gamma': 2.6435749188077224, 'reg_alpha': 0.01918251848646778, 'reg_lambda': 0.15195176843901187, 'subsample': 0.826143073287909, 'colsample_bytree': 0.8069183230444281}. Best is trial 1 with value: 0.025322449488209386.\n",
      "[I 2025-02-21 05:25:40,887] Trial 2 finished with value: 0.025254064592238216 and parameters: {'n_estimators': 1167, 'learning_rate': 0.011384562284588546, 'max_depth': 9, 'min_child_weight': 2, 'gamma': 0.6701948548076575, 'reg_alpha': 0.5711742195505163, 'reg_lambda': 0.0016695506885733263, 'subsample': 0.6214243931095578, 'colsample_bytree': 0.9145182912013501}. Best is trial 2 with value: 0.025254064592238216.\n",
      "[I 2025-02-21 05:26:14,840] Trial 3 finished with value: 0.03783001429617581 and parameters: {'n_estimators': 466, 'learning_rate': 0.015197243954919249, 'max_depth': 16, 'min_child_weight': 8, 'gamma': 4.443029655580978, 'reg_alpha': 0.35783004410387054, 'reg_lambda': 0.0908974576260273, 'subsample': 0.7193192439411344, 'colsample_bytree': 0.8932426897926589}. Best is trial 2 with value: 0.025254064592238216.\n",
      "[I 2025-02-21 05:27:00,792] Trial 4 finished with value: 0.08019175736616871 and parameters: {'n_estimators': 565, 'learning_rate': 0.01472027070060635, 'max_depth': 18, 'min_child_weight': 8, 'gamma': 2.3297260966685336, 'reg_alpha': 0.4455895994101408, 'reg_lambda': 0.5795435778717003, 'subsample': 0.889139336014459, 'colsample_bytree': 0.6086226014445527}. Best is trial 2 with value: 0.025254064592238216.\n",
      "[I 2025-02-21 05:27:08,151] Trial 5 finished with value: 0.033618860806097606 and parameters: {'n_estimators': 1165, 'learning_rate': 0.1629015113388402, 'max_depth': 16, 'min_child_weight': 7, 'gamma': 1.1964007728974602, 'reg_alpha': 1.3813787910169255, 'reg_lambda': 0.06889562588549158, 'subsample': 0.9833828307807583, 'colsample_bytree': 0.624967090534431}. Best is trial 2 with value: 0.025254064592238216.\n",
      "[I 2025-02-21 05:27:57,293] Trial 6 finished with value: 0.04873713858512897 and parameters: {'n_estimators': 779, 'learning_rate': 0.014081993048645373, 'max_depth': 10, 'min_child_weight': 5, 'gamma': 1.7582321600144373, 'reg_alpha': 1.2959215461929035, 'reg_lambda': 0.0021211130178778125, 'subsample': 0.7825296562403867, 'colsample_bytree': 0.6080208935131749}. Best is trial 2 with value: 0.025254064592238216.\n",
      "[I 2025-02-21 05:28:09,162] Trial 7 finished with value: 0.02608976683645754 and parameters: {'n_estimators': 1043, 'learning_rate': 0.08543898729134874, 'max_depth': 19, 'min_child_weight': 8, 'gamma': 0.16625173251960557, 'reg_alpha': 6.7519296913658255, 'reg_lambda': 0.19236875364115136, 'subsample': 0.6258255541056913, 'colsample_bytree': 0.8703344781623417}. Best is trial 2 with value: 0.025254064592238216.\n",
      "[I 2025-02-21 05:29:20,153] Trial 8 finished with value: 0.034061116136205695 and parameters: {'n_estimators': 1343, 'learning_rate': 0.019117120949849818, 'max_depth': 11, 'min_child_weight': 10, 'gamma': 3.2843828535942916, 'reg_alpha': 1.9227845355793909, 'reg_lambda': 0.11456952430836104, 'subsample': 0.8996844656215561, 'colsample_bytree': 0.6355775484742224}. Best is trial 2 with value: 0.025254064592238216.\n",
      "[I 2025-02-21 05:29:47,586] Trial 9 finished with value: 0.02932420981757564 and parameters: {'n_estimators': 1012, 'learning_rate': 0.03920521756743716, 'max_depth': 17, 'min_child_weight': 1, 'gamma': 0.19346525858445707, 'reg_alpha': 1.4902233207628366, 'reg_lambda': 7.04907071833791, 'subsample': 0.8435136599784069, 'colsample_bytree': 0.9987795823383538}. Best is trial 2 with value: 0.025254064592238216.\n",
      "[I 2025-02-21 05:30:09,637] Trial 10 finished with value: 0.02459199216180832 and parameters: {'n_estimators': 732, 'learning_rate': 0.03571492869316805, 'max_depth': 6, 'min_child_weight': 1, 'gamma': 1.0415332050849897, 'reg_alpha': 0.001990050531075078, 'reg_lambda': 0.013562620363547608, 'subsample': 0.7302626914378907, 'colsample_bytree': 0.9813459630106732}. Best is trial 10 with value: 0.02459199216180832.\n",
      "[I 2025-02-21 05:30:28,245] Trial 11 finished with value: 0.026419103997789933 and parameters: {'n_estimators': 246, 'learning_rate': 0.035733050509643476, 'max_depth': 5, 'min_child_weight': 1, 'gamma': 1.1017568043157622, 'reg_alpha': 0.0026520223124359226, 'reg_lambda': 0.010263373315804288, 'subsample': 0.7053137062338055, 'colsample_bytree': 0.9887896463410992}. Best is trial 10 with value: 0.02459199216180832.\n",
      "[I 2025-02-21 05:30:42,056] Trial 12 finished with value: 0.024797988713466328 and parameters: {'n_estimators': 744, 'learning_rate': 0.06577246195274279, 'max_depth': 7, 'min_child_weight': 3, 'gamma': 0.9513463378644823, 'reg_alpha': 0.03642254977559105, 'reg_lambda': 0.014020439304495144, 'subsample': 0.6056056057563611, 'colsample_bytree': 0.9211369244195812}. Best is trial 10 with value: 0.02459199216180832.\n",
      "[I 2025-02-21 05:30:58,275] Trial 13 finished with value: 0.02549560077631591 and parameters: {'n_estimators': 762, 'learning_rate': 0.06336025961601124, 'max_depth': 7, 'min_child_weight': 3, 'gamma': 1.3831921331432016, 'reg_alpha': 0.002042931241618571, 'reg_lambda': 0.018291457587018237, 'subsample': 0.7432432892832433, 'colsample_bytree': 0.9386349710999063}. Best is trial 10 with value: 0.02459199216180832.\n",
      "[I 2025-02-21 05:31:17,171] Trial 14 finished with value: 0.03288645468919384 and parameters: {'n_estimators': 601, 'learning_rate': 0.09921444642245338, 'max_depth': 7, 'min_child_weight': 3, 'gamma': 2.1451382555918608, 'reg_alpha': 0.017982877386040843, 'reg_lambda': 0.014060261329136058, 'subsample': 0.6733769600677167, 'colsample_bytree': 0.7137959480956564}. Best is trial 10 with value: 0.02459199216180832.\n",
      "[I 2025-02-21 05:31:44,099] Trial 15 finished with value: 0.026945269618150258 and parameters: {'n_estimators': 888, 'learning_rate': 0.026865355925559074, 'max_depth': 4, 'min_child_weight': 3, 'gamma': 3.1641452879009133, 'reg_alpha': 0.022262633129547023, 'reg_lambda': 0.03177413933856426, 'subsample': 0.6060259532644481, 'colsample_bytree': 0.8502200076311004}. Best is trial 10 with value: 0.02459199216180832.\n",
      "[I 2025-02-21 05:31:57,935] Trial 16 finished with value: 0.023824909500460033 and parameters: {'n_estimators': 339, 'learning_rate': 0.062056525617328384, 'max_depth': 7, 'min_child_weight': 1, 'gamma': 0.7307612650621088, 'reg_alpha': 0.0749243458734427, 'reg_lambda': 0.5401102562479029, 'subsample': 0.7502685956017019, 'colsample_bytree': 0.9509639300945568}. Best is trial 16 with value: 0.023824909500460033.\n",
      "[I 2025-02-21 05:32:19,465] Trial 17 finished with value: 0.0284975693034725 and parameters: {'n_estimators': 247, 'learning_rate': 0.05086838198147043, 'max_depth': 13, 'min_child_weight': 1, 'gamma': 0.026731218161892834, 'reg_alpha': 0.006280057824021108, 'reg_lambda': 1.070331700602336, 'subsample': 0.7706410375239351, 'colsample_bytree': 0.9505819317862858}. Best is trial 16 with value: 0.023824909500460033.\n",
      "[I 2025-02-21 05:32:50,181] Trial 18 finished with value: 0.051312975404308674 and parameters: {'n_estimators': 409, 'learning_rate': 0.027061297672110147, 'max_depth': 6, 'min_child_weight': 5, 'gamma': 1.7518029001575166, 'reg_alpha': 0.09961030146606395, 'reg_lambda': 1.6463588890607406, 'subsample': 0.6877871804131594, 'colsample_bytree': 0.6969525040482724}. Best is trial 16 with value: 0.023824909500460033.\n",
      "[I 2025-02-21 05:32:59,480] Trial 19 finished with value: 0.02378944809598499 and parameters: {'n_estimators': 414, 'learning_rate': 0.14620680987892534, 'max_depth': 9, 'min_child_weight': 2, 'gamma': 0.6081995381143326, 'reg_alpha': 0.10608885035882223, 'reg_lambda': 8.890404925608447, 'subsample': 0.7466828700884413, 'colsample_bytree': 0.9674253124342046}. Best is trial 19 with value: 0.02378944809598499.\n",
      "[I 2025-02-21 05:33:06,934] Trial 20 finished with value: 0.02389179779565473 and parameters: {'n_estimators': 378, 'learning_rate': 0.13309287490747523, 'max_depth': 9, 'min_child_weight': 2, 'gamma': 0.6204808591704224, 'reg_alpha': 0.11377393556974183, 'reg_lambda': 6.392483840269024, 'subsample': 0.8098717030797143, 'colsample_bytree': 0.7561892808362951}. Best is trial 19 with value: 0.02378944809598499.\n",
      "[I 2025-02-21 05:33:17,061] Trial 21 finished with value: 0.027312077945309595 and parameters: {'n_estimators': 362, 'learning_rate': 0.1979170444772864, 'max_depth': 9, 'min_child_weight': 2, 'gamma': 0.5926024677938797, 'reg_alpha': 0.10849157069988694, 'reg_lambda': 9.854704701064255, 'subsample': 0.8216176223540306, 'colsample_bytree': 0.7338868681372352}. Best is trial 19 with value: 0.02378944809598499.\n",
      "[I 2025-02-21 05:33:24,571] Trial 22 finished with value: 0.025581788749591657 and parameters: {'n_estimators': 566, 'learning_rate': 0.1263626161027968, 'max_depth': 12, 'min_child_weight': 2, 'gamma': 0.537812966239366, 'reg_alpha': 0.11321232075492145, 'reg_lambda': 3.488304022635728, 'subsample': 0.7734895566325635, 'colsample_bytree': 0.754066205959504}. Best is trial 19 with value: 0.02378944809598499.\n",
      "[I 2025-02-21 05:33:31,074] Trial 23 finished with value: 0.02538972494020382 and parameters: {'n_estimators': 323, 'learning_rate': 0.12493999111909865, 'max_depth': 8, 'min_child_weight': 4, 'gamma': 1.6294934329710873, 'reg_alpha': 0.06873720195362114, 'reg_lambda': 3.327131913321296, 'subsample': 0.8617067422784443, 'colsample_bytree': 0.8341889610636262}. Best is trial 19 with value: 0.02378944809598499.\n",
      "[I 2025-02-21 05:33:39,853] Trial 24 finished with value: 0.024888302150986037 and parameters: {'n_estimators': 207, 'learning_rate': 0.09454926728986975, 'max_depth': 10, 'min_child_weight': 2, 'gamma': 0.5689385809047269, 'reg_alpha': 0.2630084380960967, 'reg_lambda': 0.47181724068486897, 'subsample': 0.7594893992172476, 'colsample_bytree': 0.7728120607040977}. Best is trial 19 with value: 0.02378944809598499.\n",
      "[I 2025-02-21 05:33:52,668] Trial 25 finished with value: 0.03539344225050201 and parameters: {'n_estimators': 489, 'learning_rate': 0.1409542006507015, 'max_depth': 13, 'min_child_weight': 4, 'gamma': 0.8102489969261084, 'reg_alpha': 0.2039743740064247, 'reg_lambda': 4.33322642905921, 'subsample': 0.8135835850409877, 'colsample_bytree': 0.6652517021507445}. Best is trial 19 with value: 0.02378944809598499.\n",
      "[I 2025-02-21 05:34:06,233] Trial 26 finished with value: 0.02590539815936528 and parameters: {'n_estimators': 645, 'learning_rate': 0.07513189641091902, 'max_depth': 9, 'min_child_weight': 2, 'gamma': 1.499516949806572, 'reg_alpha': 0.012003166453986318, 'reg_lambda': 1.90196945555147, 'subsample': 0.926847326185679, 'colsample_bytree': 0.8907311350149176}. Best is trial 19 with value: 0.02378944809598499.\n",
      "[I 2025-02-21 05:34:11,201] Trial 27 finished with value: 0.026416872835361045 and parameters: {'n_estimators': 348, 'learning_rate': 0.1992230157475891, 'max_depth': 11, 'min_child_weight': 1, 'gamma': 1.9968996249104904, 'reg_alpha': 0.06288771262146758, 'reg_lambda': 0.38554347809264006, 'subsample': 0.7908681939725398, 'colsample_bytree': 0.9617270205598515}. Best is trial 19 with value: 0.02378944809598499.\n",
      "[I 2025-02-21 05:34:19,400] Trial 28 finished with value: 0.028004124942837667 and parameters: {'n_estimators': 468, 'learning_rate': 0.11009795556801093, 'max_depth': 5, 'min_child_weight': 6, 'gamma': 4.840734884684243, 'reg_alpha': 0.04974645087074396, 'reg_lambda': 1.0453200683821062, 'subsample': 0.7448342805413296, 'colsample_bytree': 0.840624103933569}. Best is trial 19 with value: 0.02378944809598499.\n",
      "[I 2025-02-21 05:34:34,477] Trial 29 finished with value: 0.03124811949304206 and parameters: {'n_estimators': 317, 'learning_rate': 0.05233222743132754, 'max_depth': 14, 'min_child_weight': 4, 'gamma': 2.642733060597244, 'reg_alpha': 0.18742798564174484, 'reg_lambda': 5.9356893694476724, 'subsample': 0.6569767800584495, 'colsample_bytree': 0.7917338747131704}. Best is trial 19 with value: 0.02378944809598499.\n",
      "[I 2025-02-21 05:34:40,167] Trial 30 finished with value: 0.02861630336504138 and parameters: {'n_estimators': 875, 'learning_rate': 0.16073628231182077, 'max_depth': 8, 'min_child_weight': 3, 'gamma': 3.596509784196592, 'reg_alpha': 0.005450992084845605, 'reg_lambda': 2.152054270253265, 'subsample': 0.6949744843821327, 'colsample_bytree': 0.7996087804054204}. Best is trial 19 with value: 0.02378944809598499.\n",
      "[I 2025-02-21 05:35:05,620] Trial 31 finished with value: 0.02294300271610879 and parameters: {'n_estimators': 664, 'learning_rate': 0.027708680182593707, 'max_depth': 6, 'min_child_weight': 1, 'gamma': 0.39721070625160115, 'reg_alpha': 0.0071706558808327875, 'reg_lambda': 0.004585460035420125, 'subsample': 0.7267320988537954, 'colsample_bytree': 0.9799108991634325}. Best is trial 31 with value: 0.02294300271610879.\n",
      "[I 2025-02-21 05:35:45,010] Trial 32 finished with value: 0.021998751401582205 and parameters: {'n_estimators': 1434, 'learning_rate': 0.02593784240176161, 'max_depth': 4, 'min_child_weight': 2, 'gamma': 0.32354193399776515, 'reg_alpha': 0.005882142910805176, 'reg_lambda': 0.0046145068498943415, 'subsample': 0.7990906158511368, 'colsample_bytree': 0.9740179497390478}. Best is trial 32 with value: 0.021998751401582205.\n",
      "[I 2025-02-21 05:36:34,539] Trial 33 finished with value: 0.02257649728256893 and parameters: {'n_estimators': 1427, 'learning_rate': 0.023588841159706175, 'max_depth': 3, 'min_child_weight': 1, 'gamma': 0.29906086021743394, 'reg_alpha': 0.0011115322573254174, 'reg_lambda': 0.0044926477638018115, 'subsample': 0.7216092367455769, 'colsample_bytree': 0.9664886573792346}. Best is trial 32 with value: 0.021998751401582205.\n",
      "[I 2025-02-21 05:37:25,723] Trial 34 finished with value: 0.022612703360216608 and parameters: {'n_estimators': 1464, 'learning_rate': 0.024703113338010108, 'max_depth': 3, 'min_child_weight': 2, 'gamma': 0.3236480366818297, 'reg_alpha': 0.001251871945946285, 'reg_lambda': 0.004068329215561479, 'subsample': 0.7218474598749918, 'colsample_bytree': 0.9663209853272848}. Best is trial 32 with value: 0.021998751401582205.\n",
      "[I 2025-02-21 05:38:25,570] Trial 35 finished with value: 0.02258821738193311 and parameters: {'n_estimators': 1481, 'learning_rate': 0.0225370907510858, 'max_depth': 3, 'min_child_weight': 1, 'gamma': 0.2884910248447179, 'reg_alpha': 0.0014245984291943671, 'reg_lambda': 0.004004222468505241, 'subsample': 0.718978894802368, 'colsample_bytree': 0.9167193225673176}. Best is trial 32 with value: 0.021998751401582205.\n",
      "[I 2025-02-21 05:39:19,714] Trial 36 finished with value: 0.022747533725988596 and parameters: {'n_estimators': 1481, 'learning_rate': 0.02114750542202398, 'max_depth': 3, 'min_child_weight': 10, 'gamma': 0.31911657229360696, 'reg_alpha': 0.0011023924048699364, 'reg_lambda': 0.001217611049077837, 'subsample': 0.6454013167368475, 'colsample_bytree': 0.9089490514216932}. Best is trial 32 with value: 0.021998751401582205.\n",
      "[I 2025-02-21 05:40:54,414] Trial 37 finished with value: 0.022783157983871316 and parameters: {'n_estimators': 1499, 'learning_rate': 0.011093309944086648, 'max_depth': 3, 'min_child_weight': 3, 'gamma': 0.0363310252289018, 'reg_alpha': 0.0010210422413833092, 'reg_lambda': 0.0034966990984104905, 'subsample': 0.6582800348576724, 'colsample_bytree': 0.9317361877060714}. Best is trial 32 with value: 0.021998751401582205.\n",
      "[I 2025-02-21 05:41:28,469] Trial 38 finished with value: 0.023946255616685976 and parameters: {'n_estimators': 1327, 'learning_rate': 0.021366533189065038, 'max_depth': 4, 'min_child_weight': 2, 'gamma': 1.3033719017373242, 'reg_alpha': 0.0036450360604882758, 'reg_lambda': 0.0025504951203004075, 'subsample': 0.7011128358217984, 'colsample_bytree': 0.8974176204399769}. Best is trial 32 with value: 0.021998751401582205.\n",
      "[I 2025-02-21 05:42:46,472] Trial 39 finished with value: 0.02201697964156046 and parameters: {'n_estimators': 1384, 'learning_rate': 0.013181900803111586, 'max_depth': 4, 'min_child_weight': 6, 'gamma': 0.2980613440245445, 'reg_alpha': 0.0015385809664846548, 'reg_lambda': 0.007431977180033339, 'subsample': 0.7124918205966443, 'colsample_bytree': 0.8718075608727922}. Best is trial 32 with value: 0.021998751401582205.\n",
      "[I 2025-02-21 05:43:45,506] Trial 40 finished with value: 0.023452074141995963 and parameters: {'n_estimators': 1280, 'learning_rate': 0.01325200958883941, 'max_depth': 4, 'min_child_weight': 7, 'gamma': 0.9865786588506187, 'reg_alpha': 0.003484730673761631, 'reg_lambda': 0.0067551528050519595, 'subsample': 0.6764322137386121, 'colsample_bytree': 0.8744771136684547}. Best is trial 32 with value: 0.021998751401582205.\n",
      "[I 2025-02-21 05:44:43,514] Trial 41 finished with value: 0.022347983635651526 and parameters: {'n_estimators': 1400, 'learning_rate': 0.01763528434983042, 'max_depth': 3, 'min_child_weight': 6, 'gamma': 0.2274234616388865, 'reg_alpha': 0.0014979904595204825, 'reg_lambda': 0.0010204706661294726, 'subsample': 0.7204705022697779, 'colsample_bytree': 0.9288430833484395}. Best is trial 32 with value: 0.021998751401582205.\n",
      "[I 2025-02-21 05:45:32,779] Trial 42 finished with value: 0.022435527375084537 and parameters: {'n_estimators': 1405, 'learning_rate': 0.015982793821078773, 'max_depth': 5, 'min_child_weight': 6, 'gamma': 0.2197062263774312, 'reg_alpha': 0.0018339067158047787, 'reg_lambda': 0.001334617466405909, 'subsample': 0.7102383768612126, 'colsample_bytree': 0.9259458306688769}. Best is trial 32 with value: 0.021998751401582205.\n",
      "[I 2025-02-21 05:46:27,118] Trial 43 finished with value: 0.021786617913718498 and parameters: {'n_estimators': 1399, 'learning_rate': 0.01692173444612716, 'max_depth': 5, 'min_child_weight': 6, 'gamma': 0.11836468242550416, 'reg_alpha': 0.0019397197533953347, 'reg_lambda': 0.0014814038194209491, 'subsample': 0.8512934537507367, 'colsample_bytree': 0.8756589299175116}. Best is trial 43 with value: 0.021786617913718498.\n",
      "[I 2025-02-21 05:47:34,840] Trial 44 finished with value: 0.021025040436943816 and parameters: {'n_estimators': 1239, 'learning_rate': 0.01734916046452053, 'max_depth': 5, 'min_child_weight': 6, 'gamma': 0.012548915084387602, 'reg_alpha': 0.002065799422513789, 'reg_lambda': 0.001120799658210081, 'subsample': 0.8581187083070275, 'colsample_bytree': 0.8683577879288468}. Best is trial 44 with value: 0.021025040436943816.\n",
      "[I 2025-02-21 05:48:36,928] Trial 45 finished with value: 0.023540316218962885 and parameters: {'n_estimators': 1231, 'learning_rate': 0.010118872812347857, 'max_depth': 5, 'min_child_weight': 7, 'gamma': 0.823010440807098, 'reg_alpha': 0.0038754187000516666, 'reg_lambda': 0.0017877485043553438, 'subsample': 0.8539093080337459, 'colsample_bytree': 0.8226679749413205}. Best is trial 44 with value: 0.021025040436943816.\n",
      "[I 2025-02-21 05:49:36,510] Trial 46 finished with value: 0.021049607856823794 and parameters: {'n_estimators': 1132, 'learning_rate': 0.01790992168242029, 'max_depth': 4, 'min_child_weight': 6, 'gamma': 0.007741500255035588, 'reg_alpha': 0.010159908582566485, 'reg_lambda': 0.0010189316931267264, 'subsample': 0.8950164599904673, 'colsample_bytree': 0.8806579921975694}. Best is trial 44 with value: 0.021025040436943816.\n",
      "[I 2025-02-21 05:50:32,659] Trial 47 finished with value: 0.02225866597254427 and parameters: {'n_estimators': 1086, 'learning_rate': 0.013198305033681624, 'max_depth': 4, 'min_child_weight': 5, 'gamma': 0.4739032916574624, 'reg_alpha': 0.009379590497370258, 'reg_lambda': 0.0024336124192047785, 'subsample': 0.9041341859549086, 'colsample_bytree': 0.869843993756971}. Best is trial 44 with value: 0.021025040436943816.\n",
      "[I 2025-02-21 05:51:19,030] Trial 48 finished with value: 0.02124808564009963 and parameters: {'n_estimators': 1193, 'learning_rate': 0.01790438902495466, 'max_depth': 6, 'min_child_weight': 7, 'gamma': 0.07029512958869642, 'reg_alpha': 0.0026338261282709565, 'reg_lambda': 0.007761257434933143, 'subsample': 0.8815946296499763, 'colsample_bytree': 0.8566401585009632}. Best is trial 44 with value: 0.021025040436943816.\n",
      "[I 2025-02-21 05:51:38,540] Trial 49 finished with value: 0.02439419318660104 and parameters: {'n_estimators': 1197, 'learning_rate': 0.03140074417878718, 'max_depth': 6, 'min_child_weight': 9, 'gamma': 1.1294761477514486, 'reg_alpha': 0.01608457694820585, 'reg_lambda': 0.0374375132530764, 'subsample': 0.9449939309238948, 'colsample_bytree': 0.8140029488020373}. Best is trial 44 with value: 0.021025040436943816.\n"
     ]
    },
    {
     "name": "stdout",
     "output_type": "stream",
     "text": [
      "Best Parameters saved to: /home/sid/files/rough_work/path_recon_ml_models/models/electron/electron_P_scat_params_dict.json\n",
      "Best Parameters: {'n_estimators': 1239, 'learning_rate': 0.01734916046452053, 'max_depth': 5, 'min_child_weight': 6, 'gamma': 0.012548915084387602, 'reg_alpha': 0.002065799422513789, 'reg_lambda': 0.001120799658210081, 'subsample': 0.8581187083070275, 'colsample_bytree': 0.8683577879288468}\n",
      "Best RMSE: 0.021025040436943816\n",
      "Model optimized in : 1702.52 seconds\n"
     ]
    },
    {
     "name": "stderr",
     "output_type": "stream",
     "text": [
      "[I 2025-02-21 05:51:40,395] A new study created in memory with name: no-name-19dbc116-e06e-4f0b-8667-cea21993e46b\n"
     ]
    },
    {
     "name": "stdout",
     "output_type": "stream",
     "text": [
      "Removed 0 Outliers from dataset:\ttrain!\n",
      "Removed 0 Outliers from dataset:\ttest!\n",
      "Starting hyperparameter tuning...\n"
     ]
    },
    {
     "name": "stderr",
     "output_type": "stream",
     "text": [
      "[I 2025-02-21 05:52:04,161] Trial 0 finished with value: 0.07384981789756727 and parameters: {'n_estimators': 779, 'learning_rate': 0.025001477233226772, 'max_depth': 15, 'min_child_weight': 4, 'gamma': 4.177268419722928, 'reg_alpha': 0.059143197898095856, 'reg_lambda': 0.00573812873736506, 'subsample': 0.7375828302751049, 'colsample_bytree': 0.8902904323408334}. Best is trial 0 with value: 0.07384981789756727.\n",
      "[I 2025-02-21 05:52:50,326] Trial 1 finished with value: 0.07250215493609298 and parameters: {'n_estimators': 1020, 'learning_rate': 0.02160717285480639, 'max_depth': 13, 'min_child_weight': 1, 'gamma': 0.11633071976409004, 'reg_alpha': 0.05425917333133339, 'reg_lambda': 0.0050618335057133765, 'subsample': 0.6879094699284662, 'colsample_bytree': 0.7528655340558125}. Best is trial 1 with value: 0.07250215493609298.\n",
      "[I 2025-02-21 05:52:54,167] Trial 2 finished with value: 0.07301585098740744 and parameters: {'n_estimators': 436, 'learning_rate': 0.1937833567304638, 'max_depth': 7, 'min_child_weight': 6, 'gamma': 2.216281821612756, 'reg_alpha': 0.5338953771732433, 'reg_lambda': 0.002281437166181832, 'subsample': 0.789227378422745, 'colsample_bytree': 0.9000450227123282}. Best is trial 1 with value: 0.07250215493609298.\n",
      "[I 2025-02-21 05:53:08,915] Trial 3 finished with value: 0.07887083539080768 and parameters: {'n_estimators': 1248, 'learning_rate': 0.06258198428963115, 'max_depth': 4, 'min_child_weight': 2, 'gamma': 4.555263134172565, 'reg_alpha': 0.022273874844198748, 'reg_lambda': 5.758655584074789, 'subsample': 0.6981967599258507, 'colsample_bytree': 0.696812635362182}. Best is trial 1 with value: 0.07250215493609298.\n",
      "[I 2025-02-21 05:53:17,552] Trial 4 finished with value: 0.0746997616572377 and parameters: {'n_estimators': 1268, 'learning_rate': 0.14331726708865197, 'max_depth': 8, 'min_child_weight': 8, 'gamma': 0.3235428932191242, 'reg_alpha': 2.557341989505833, 'reg_lambda': 0.18018684798648704, 'subsample': 0.60437838954258, 'colsample_bytree': 0.7476996739706474}. Best is trial 1 with value: 0.07250215493609298.\n",
      "[I 2025-02-21 05:53:51,755] Trial 5 finished with value: 0.07100993296233897 and parameters: {'n_estimators': 1427, 'learning_rate': 0.020205736659037986, 'max_depth': 9, 'min_child_weight': 2, 'gamma': 0.5701797102563039, 'reg_alpha': 6.571304723161421, 'reg_lambda': 0.10066409578719486, 'subsample': 0.8736329421496849, 'colsample_bytree': 0.7948788297582324}. Best is trial 5 with value: 0.07100993296233897.\n",
      "[I 2025-02-21 05:54:03,933] Trial 6 finished with value: 0.07397104279919703 and parameters: {'n_estimators': 566, 'learning_rate': 0.04648296767252952, 'max_depth': 17, 'min_child_weight': 7, 'gamma': 4.127797374284745, 'reg_alpha': 1.264317575186255, 'reg_lambda': 0.013026531127265874, 'subsample': 0.7685947372258403, 'colsample_bytree': 0.9193538224755966}. Best is trial 5 with value: 0.07100993296233897.\n",
      "[I 2025-02-21 05:54:15,376] Trial 7 finished with value: 0.07409660004511907 and parameters: {'n_estimators': 885, 'learning_rate': 0.05801387173837883, 'max_depth': 9, 'min_child_weight': 9, 'gamma': 3.6056143001304646, 'reg_alpha': 2.0568278948214362, 'reg_lambda': 0.06579310441241923, 'subsample': 0.6420481383618656, 'colsample_bytree': 0.8123893821608389}. Best is trial 5 with value: 0.07100993296233897.\n",
      "[I 2025-02-21 05:54:19,188] Trial 8 finished with value: 0.07232410415066096 and parameters: {'n_estimators': 1452, 'learning_rate': 0.19581926600217195, 'max_depth': 9, 'min_child_weight': 10, 'gamma': 2.2762375279348457, 'reg_alpha': 0.0048336759107024604, 'reg_lambda': 1.1369289721566884, 'subsample': 0.9897083846478019, 'colsample_bytree': 0.8481288530359439}. Best is trial 5 with value: 0.07100993296233897.\n",
      "[I 2025-02-21 05:54:34,203] Trial 9 finished with value: 0.10892917240508572 and parameters: {'n_estimators': 243, 'learning_rate': 0.014607412884287763, 'max_depth': 15, 'min_child_weight': 2, 'gamma': 4.32511582018486, 'reg_alpha': 0.35774345246595984, 'reg_lambda': 0.21267724173036456, 'subsample': 0.9690860373613126, 'colsample_bytree': 0.8417920061999754}. Best is trial 5 with value: 0.07100993296233897.\n",
      "[I 2025-02-21 05:55:50,724] Trial 10 finished with value: 0.0754660516573754 and parameters: {'n_estimators': 1477, 'learning_rate': 0.013971928882136903, 'max_depth': 20, 'min_child_weight': 4, 'gamma': 1.1992096640093912, 'reg_alpha': 9.798763128715086, 'reg_lambda': 0.05590191364736816, 'subsample': 0.8789105258551246, 'colsample_bytree': 0.6050731969364316}. Best is trial 5 with value: 0.07100993296233897.\n",
      "[I 2025-02-21 05:55:58,051] Trial 11 finished with value: 0.07227638791015527 and parameters: {'n_estimators': 1437, 'learning_rate': 0.09734977189918415, 'max_depth': 11, 'min_child_weight': 10, 'gamma': 2.1988228124791296, 'reg_alpha': 0.0011906492162261694, 'reg_lambda': 1.8573874398557266, 'subsample': 0.9884976919836328, 'colsample_bytree': 0.9564050667642499}. Best is trial 5 with value: 0.07100993296233897.\n",
      "[I 2025-02-21 05:56:04,399] Trial 12 finished with value: 0.07181794516138285 and parameters: {'n_estimators': 1165, 'learning_rate': 0.0981193948377077, 'max_depth': 11, 'min_child_weight': 4, 'gamma': 1.2582884967881183, 'reg_alpha': 0.0010031982924084781, 'reg_lambda': 9.025593093560751, 'subsample': 0.8835369747640149, 'colsample_bytree': 0.998985414522993}. Best is trial 5 with value: 0.07100993296233897.\n",
      "[I 2025-02-21 05:56:31,683] Trial 13 finished with value: 0.07455726743358429 and parameters: {'n_estimators': 1129, 'learning_rate': 0.029379195079792867, 'max_depth': 4, 'min_child_weight': 4, 'gamma': 1.1520983198882637, 'reg_alpha': 0.009907684666172901, 'reg_lambda': 0.6698779938633459, 'subsample': 0.8575774956333477, 'colsample_bytree': 0.9699411035107149}. Best is trial 5 with value: 0.07100993296233897.\n",
      "[I 2025-02-21 05:57:35,242] Trial 14 finished with value: 0.07151364612353267 and parameters: {'n_estimators': 1231, 'learning_rate': 0.010058783720248002, 'max_depth': 12, 'min_child_weight': 3, 'gamma': 1.1856732271840373, 'reg_alpha': 0.0020621682923868084, 'reg_lambda': 8.920090970872701, 'subsample': 0.8890391070492416, 'colsample_bytree': 0.9945265728365548}. Best is trial 5 with value: 0.07100993296233897.\n",
      "[I 2025-02-21 05:58:28,854] Trial 15 finished with value: 0.08199189915381658 and parameters: {'n_estimators': 945, 'learning_rate': 0.010680342244146239, 'max_depth': 6, 'min_child_weight': 2, 'gamma': 0.6246427412326212, 'reg_alpha': 0.19541482244465355, 'reg_lambda': 0.018274302970169715, 'subsample': 0.927876136402716, 'colsample_bytree': 0.6740574001616244}. Best is trial 5 with value: 0.07100993296233897.\n",
      "[I 2025-02-21 05:59:29,430] Trial 16 finished with value: 0.07214107021571932 and parameters: {'n_estimators': 1320, 'learning_rate': 0.010102524112570649, 'max_depth': 13, 'min_child_weight': 3, 'gamma': 1.5722898083676684, 'reg_alpha': 0.004829039872625517, 'reg_lambda': 0.4023952410218373, 'subsample': 0.8419220199332511, 'colsample_bytree': 0.7707738149977041}. Best is trial 5 with value: 0.07100993296233897.\n",
      "[I 2025-02-21 06:00:02,648] Trial 17 finished with value: 0.07311645476080327 and parameters: {'n_estimators': 747, 'learning_rate': 0.017913071403826555, 'max_depth': 10, 'min_child_weight': 1, 'gamma': 2.852611222714358, 'reg_alpha': 9.638416783663029, 'reg_lambda': 3.0811584690050196, 'subsample': 0.9287985043422937, 'colsample_bytree': 0.8552786768348771}. Best is trial 5 with value: 0.07100993296233897.\n",
      "[I 2025-02-21 06:00:34,887] Trial 18 finished with value: 0.0748844725994596 and parameters: {'n_estimators': 1053, 'learning_rate': 0.034490157682695, 'max_depth': 6, 'min_child_weight': 5, 'gamma': 0.7674993156668681, 'reg_alpha': 0.14383687605756962, 'reg_lambda': 0.0381098333202358, 'subsample': 0.8267461864729614, 'colsample_bytree': 0.7020792096327234}. Best is trial 5 with value: 0.07100993296233897.\n",
      "[I 2025-02-21 06:01:11,753] Trial 19 finished with value: 0.07278314644108996 and parameters: {'n_estimators': 1351, 'learning_rate': 0.015566630201390286, 'max_depth': 14, 'min_child_weight': 3, 'gamma': 2.932374509544601, 'reg_alpha': 0.02850160964259696, 'reg_lambda': 0.27772488789558425, 'subsample': 0.9167042243699163, 'colsample_bytree': 0.805859319419416}. Best is trial 5 with value: 0.07100993296233897.\n",
      "[I 2025-02-21 06:02:03,306] Trial 20 finished with value: 0.07593654049644016 and parameters: {'n_estimators': 1180, 'learning_rate': 0.02080306036969431, 'max_depth': 17, 'min_child_weight': 6, 'gamma': 1.7536362197431783, 'reg_alpha': 0.0031872495170872576, 'reg_lambda': 3.0501496190183164, 'subsample': 0.8277993508988674, 'colsample_bytree': 0.6105964793493673}. Best is trial 5 with value: 0.07100993296233897.\n",
      "[I 2025-02-21 06:02:12,856] Trial 21 finished with value: 0.07173330280747109 and parameters: {'n_estimators': 1109, 'learning_rate': 0.08703927703873214, 'max_depth': 11, 'min_child_weight': 3, 'gamma': 1.0720256162093338, 'reg_alpha': 0.001023466470593281, 'reg_lambda': 6.153323936896607, 'subsample': 0.8890076600867969, 'colsample_bytree': 0.9986918286095504}. Best is trial 5 with value: 0.07100993296233897.\n",
      "[I 2025-02-21 06:02:23,581] Trial 22 finished with value: 0.07159770214324483 and parameters: {'n_estimators': 1352, 'learning_rate': 0.08513515754448, 'max_depth': 12, 'min_child_weight': 3, 'gamma': 0.6516001137516294, 'reg_alpha': 0.002377270686352793, 'reg_lambda': 9.064094252132447, 'subsample': 0.8963590379613855, 'colsample_bytree': 0.9518298543789753}. Best is trial 5 with value: 0.07100993296233897.\n",
      "[I 2025-02-21 06:02:55,611] Trial 23 finished with value: 0.07330225771720107 and parameters: {'n_estimators': 1367, 'learning_rate': 0.03914523857346067, 'max_depth': 13, 'min_child_weight': 1, 'gamma': 0.011697773762603503, 'reg_alpha': 0.011391975022083847, 'reg_lambda': 0.9772639445853545, 'subsample': 0.9077117206379445, 'colsample_bytree': 0.9406366517321239}. Best is trial 5 with value: 0.07100993296233897.\n",
      "[I 2025-02-21 06:03:53,294] Trial 24 finished with value: 0.07059000476059757 and parameters: {'n_estimators': 1260, 'learning_rate': 0.012563983760842364, 'max_depth': 9, 'min_child_weight': 5, 'gamma': 0.5962729842277511, 'reg_alpha': 0.0022106109497662873, 'reg_lambda': 0.001315816818939978, 'subsample': 0.9520682257953658, 'colsample_bytree': 0.8717986664976786}. Best is trial 24 with value: 0.07059000476059757.\n",
      "[I 2025-02-21 06:04:43,971] Trial 25 finished with value: 0.07177126845054878 and parameters: {'n_estimators': 989, 'learning_rate': 0.012285473928244237, 'max_depth': 9, 'min_child_weight': 5, 'gamma': 1.8173952484013145, 'reg_alpha': 0.011127369715857817, 'reg_lambda': 0.0017589622844591463, 'subsample': 0.9524671642426585, 'colsample_bytree': 0.8748046097071659}. Best is trial 24 with value: 0.07059000476059757.\n",
      "[I 2025-02-21 06:05:23,860] Trial 26 finished with value: 0.07052486391928324 and parameters: {'n_estimators': 1224, 'learning_rate': 0.01791288332879817, 'max_depth': 7, 'min_child_weight': 5, 'gamma': 0.5212667190743869, 'reg_alpha': 0.002309792441004571, 'reg_lambda': 0.019847499805263406, 'subsample': 0.948364018809271, 'colsample_bytree': 0.7814374170189401}. Best is trial 26 with value: 0.07052486391928324.\n",
      "[I 2025-02-21 06:06:04,559] Trial 27 finished with value: 0.07035038597191297 and parameters: {'n_estimators': 662, 'learning_rate': 0.01826412048473685, 'max_depth': 7, 'min_child_weight': 7, 'gamma': 0.4054273150694505, 'reg_alpha': 0.006853891231607661, 'reg_lambda': 0.025151965605823966, 'subsample': 0.9508024376847914, 'colsample_bytree': 0.7841669762907794}. Best is trial 27 with value: 0.07035038597191297.\n",
      "[I 2025-02-21 06:06:33,938] Trial 28 finished with value: 0.08893947973443776 and parameters: {'n_estimators': 638, 'learning_rate': 0.02803791934872011, 'max_depth': 3, 'min_child_weight': 8, 'gamma': 0.3387377218676776, 'reg_alpha': 0.005960227030199621, 'reg_lambda': 0.0010616161469523132, 'subsample': 0.9468324161470395, 'colsample_bytree': 0.7278460049163333}. Best is trial 27 with value: 0.07035038597191297.\n",
      "[I 2025-02-21 06:06:57,037] Trial 29 finished with value: 0.07415535708603126 and parameters: {'n_estimators': 773, 'learning_rate': 0.024975547581981745, 'max_depth': 6, 'min_child_weight': 7, 'gamma': 4.960067488867159, 'reg_alpha': 0.05761172038772176, 'reg_lambda': 0.006700596393619793, 'subsample': 0.9683766778348382, 'colsample_bytree': 0.8245455131986034}. Best is trial 27 with value: 0.07035038597191297.\n",
      "[I 2025-02-21 06:07:33,804] Trial 30 finished with value: 0.07097821055468687 and parameters: {'n_estimators': 645, 'learning_rate': 0.015642595725003455, 'max_depth': 7, 'min_child_weight': 7, 'gamma': 0.8886905231197398, 'reg_alpha': 0.01834741261001712, 'reg_lambda': 0.021668834803833182, 'subsample': 0.9542007997859716, 'colsample_bytree': 0.7817180651781237}. Best is trial 27 with value: 0.07035038597191297.\n",
      "[I 2025-02-21 06:08:07,099] Trial 31 finished with value: 0.07101508683402787 and parameters: {'n_estimators': 602, 'learning_rate': 0.016095077803850288, 'max_depth': 7, 'min_child_weight': 7, 'gamma': 0.8660875408559947, 'reg_alpha': 0.02013013808553931, 'reg_lambda': 0.024038068250799537, 'subsample': 0.9966751231665024, 'colsample_bytree': 0.7803539957439471}. Best is trial 27 with value: 0.07035038597191297.\n",
      "[I 2025-02-21 06:08:34,627] Trial 32 finished with value: 0.0789384555766194 and parameters: {'n_estimators': 502, 'learning_rate': 0.01294412433147439, 'max_depth': 5, 'min_child_weight': 6, 'gamma': 0.3422223073181435, 'reg_alpha': 0.0022629365935547844, 'reg_lambda': 0.00813231660075963, 'subsample': 0.9448562879592207, 'colsample_bytree': 0.7520457392276279}. Best is trial 27 with value: 0.07035038597191297.\n",
      "[I 2025-02-21 06:09:21,794] Trial 33 finished with value: 0.0696891291464607 and parameters: {'n_estimators': 712, 'learning_rate': 0.018246399128344668, 'max_depth': 7, 'min_child_weight': 5, 'gamma': 0.08428877679539104, 'reg_alpha': 0.038733608664801786, 'reg_lambda': 0.0030967076509431303, 'subsample': 0.9626091338677589, 'colsample_bytree': 0.8867926074577078}. Best is trial 33 with value: 0.0696891291464607.\n",
      "[I 2025-02-21 06:09:52,509] Trial 34 finished with value: 0.0696845066519322 and parameters: {'n_estimators': 844, 'learning_rate': 0.02360529922454997, 'max_depth': 8, 'min_child_weight': 5, 'gamma': 0.08879056671032909, 'reg_alpha': 0.04000275440587125, 'reg_lambda': 0.003260274343504531, 'subsample': 0.97532603488662, 'colsample_bytree': 0.8902073100171461}. Best is trial 34 with value: 0.0696845066519322.\n",
      "[I 2025-02-21 06:10:33,924] Trial 35 finished with value: 0.07108370391219297 and parameters: {'n_estimators': 847, 'learning_rate': 0.02392050656887226, 'max_depth': 5, 'min_child_weight': 6, 'gamma': 0.05275340973997856, 'reg_alpha': 0.03907666671676715, 'reg_lambda': 0.0033064085683842054, 'subsample': 0.729193026731116, 'colsample_bytree': 0.8926935415154652}. Best is trial 34 with value: 0.0696845066519322.\n",
      "[I 2025-02-21 06:11:09,716] Trial 36 finished with value: 0.07011329101681742 and parameters: {'n_estimators': 718, 'learning_rate': 0.01817537634539747, 'max_depth': 8, 'min_child_weight': 5, 'gamma': 0.2947913722159126, 'reg_alpha': 0.09045824721449061, 'reg_lambda': 0.003307519653018962, 'subsample': 0.9779657057828539, 'colsample_bytree': 0.9122428830857836}. Best is trial 34 with value: 0.0696845066519322.\n",
      "[I 2025-02-21 06:11:33,872] Trial 37 finished with value: 0.07011987922223385 and parameters: {'n_estimators': 713, 'learning_rate': 0.03034714384651622, 'max_depth': 8, 'min_child_weight': 8, 'gamma': 0.23048143371008992, 'reg_alpha': 0.1130195188331109, 'reg_lambda': 0.0031379394253848863, 'subsample': 0.9739587345720744, 'colsample_bytree': 0.9162210027345158}. Best is trial 34 with value: 0.0696845066519322.\n",
      "[I 2025-02-21 06:12:20,759] Trial 38 finished with value: 0.06927208855339688 and parameters: {'n_estimators': 737, 'learning_rate': 0.03250606411153889, 'max_depth': 8, 'min_child_weight': 8, 'gamma': 0.0011586481039924518, 'reg_alpha': 0.09022592884762912, 'reg_lambda': 0.0030892072143665844, 'subsample': 0.9740773529880982, 'colsample_bytree': 0.9101259276969802}. Best is trial 38 with value: 0.06927208855339688.\n",
      "[I 2025-02-21 06:12:36,733] Trial 39 finished with value: 0.07023884790411343 and parameters: {'n_estimators': 845, 'learning_rate': 0.04316797284368173, 'max_depth': 8, 'min_child_weight': 6, 'gamma': 0.22217509933235396, 'reg_alpha': 0.06723842943889147, 'reg_lambda': 0.004021029498166078, 'subsample': 0.9974672143318444, 'colsample_bytree': 0.914447238919943}. Best is trial 38 with value: 0.06927208855339688.\n",
      "[I 2025-02-21 06:12:59,917] Trial 40 finished with value: 0.0734149235726268 and parameters: {'n_estimators': 399, 'learning_rate': 0.022969744828340848, 'max_depth': 10, 'min_child_weight': 5, 'gamma': 3.5548323096554992, 'reg_alpha': 0.28203044885153244, 'reg_lambda': 0.010430234905532666, 'subsample': 0.7868785853417603, 'colsample_bytree': 0.9356913765601287}. Best is trial 38 with value: 0.06927208855339688.\n",
      "[I 2025-02-21 06:13:37,748] Trial 41 finished with value: 0.06938744798399255 and parameters: {'n_estimators': 704, 'learning_rate': 0.02999588534821237, 'max_depth': 8, 'min_child_weight': 8, 'gamma': 0.010372422242727497, 'reg_alpha': 0.09454025379398824, 'reg_lambda': 0.002419864141070822, 'subsample': 0.9768973790047956, 'colsample_bytree': 0.9113386191561474}. Best is trial 38 with value: 0.06927208855339688.\n",
      "[I 2025-02-21 06:14:07,378] Trial 42 finished with value: 0.06988002313823329 and parameters: {'n_estimators': 531, 'learning_rate': 0.034529906649115975, 'max_depth': 10, 'min_child_weight': 9, 'gamma': 0.008983562999835992, 'reg_alpha': 0.09258480689318123, 'reg_lambda': 0.0020930573608436984, 'subsample': 0.9794096399082085, 'colsample_bytree': 0.8835760042271302}. Best is trial 38 with value: 0.06927208855339688.\n",
      "[I 2025-02-21 06:14:35,329] Trial 43 finished with value: 0.0693296626580051 and parameters: {'n_estimators': 528, 'learning_rate': 0.04862603858868783, 'max_depth': 8, 'min_child_weight': 8, 'gamma': 0.0021542986509403175, 'reg_alpha': 0.7490715985327794, 'reg_lambda': 0.0023219761630311215, 'subsample': 0.9223971917536206, 'colsample_bytree': 0.8747846063390313}. Best is trial 38 with value: 0.06927208855339688.\n",
      "[I 2025-02-21 06:15:21,392] Trial 44 finished with value: 0.06958948495059701 and parameters: {'n_estimators': 898, 'learning_rate': 0.051327497074639565, 'max_depth': 5, 'min_child_weight': 9, 'gamma': 0.0005682992127146251, 'reg_alpha': 0.5817658047230514, 'reg_lambda': 0.006038193904642697, 'subsample': 0.9250113734222521, 'colsample_bytree': 0.8314954070176964}. Best is trial 38 with value: 0.06927208855339688.\n",
      "[I 2025-02-21 06:15:36,559] Trial 45 finished with value: 0.07511792818765604 and parameters: {'n_estimators': 391, 'learning_rate': 0.05245272505890393, 'max_depth': 4, 'min_child_weight': 9, 'gamma': 0.9236575822422555, 'reg_alpha': 0.7356798684891612, 'reg_lambda': 0.005398914661962233, 'subsample': 0.9272137582686126, 'colsample_bytree': 0.8308100386011463}. Best is trial 38 with value: 0.06927208855339688.\n",
      "[I 2025-02-21 06:15:50,121] Trial 46 finished with value: 0.0823602154508112 and parameters: {'n_estimators': 920, 'learning_rate': 0.06764636311308697, 'max_depth': 3, 'min_child_weight': 9, 'gamma': 1.4799081331788073, 'reg_alpha': 0.7398621559564599, 'reg_lambda': 0.001627492700549433, 'subsample': 0.9100032616828855, 'colsample_bytree': 0.8544254576948932}. Best is trial 38 with value: 0.06927208855339688.\n",
      "[I 2025-02-21 06:16:06,141] Trial 47 finished with value: 0.07252315103077152 and parameters: {'n_estimators': 810, 'learning_rate': 0.04984593052582544, 'max_depth': 5, 'min_child_weight': 8, 'gamma': 0.4635716993415784, 'reg_alpha': 3.4904142704166476, 'reg_lambda': 0.009939283200811718, 'subsample': 0.8666923313156084, 'colsample_bytree': 0.9023842192309841}. Best is trial 38 with value: 0.06927208855339688.\n",
      "[I 2025-02-21 06:16:17,788] Trial 48 finished with value: 0.07045493304433102 and parameters: {'n_estimators': 330, 'learning_rate': 0.06414412709969185, 'max_depth': 8, 'min_child_weight': 10, 'gamma': 0.27416347512782574, 'reg_alpha': 1.4518914089135044, 'reg_lambda': 0.0048971975775474, 'subsample': 0.9310881696024851, 'colsample_bytree': 0.8664412477132423}. Best is trial 38 with value: 0.06927208855339688.\n",
      "[I 2025-02-21 06:16:35,633] Trial 49 finished with value: 0.07184203987897697 and parameters: {'n_estimators': 469, 'learning_rate': 0.038795206946425236, 'max_depth': 6, 'min_child_weight': 8, 'gamma': 0.6826033663681927, 'reg_alpha': 0.3989267741868753, 'reg_lambda': 0.0024152183401175186, 'subsample': 0.6561455438670576, 'colsample_bytree': 0.9346897121678186}. Best is trial 38 with value: 0.06927208855339688.\n"
     ]
    },
    {
     "name": "stdout",
     "output_type": "stream",
     "text": [
      "Best Parameters saved to: /home/sid/files/rough_work/path_recon_ml_models/models/electron/electron_ip_scat_params_dict.json\n",
      "Best Parameters: {'n_estimators': 737, 'learning_rate': 0.03250606411153889, 'max_depth': 8, 'min_child_weight': 8, 'gamma': 0.0011586481039924518, 'reg_alpha': 0.09022592884762912, 'reg_lambda': 0.0030892072143665844, 'subsample': 0.9740773529880982, 'colsample_bytree': 0.9101259276969802}\n",
      "Best RMSE: 0.06927208855339688\n",
      "Model optimized in : 1495.24 seconds\n"
     ]
    },
    {
     "name": "stderr",
     "output_type": "stream",
     "text": [
      "[I 2025-02-21 06:16:37,409] A new study created in memory with name: no-name-1e8067cb-1e94-47aa-a007-553bc62b8551\n"
     ]
    },
    {
     "name": "stdout",
     "output_type": "stream",
     "text": [
      "Removed 0 Outliers from dataset:\ttrain!\n",
      "Removed 0 Outliers from dataset:\ttest!\n",
      "Starting hyperparameter tuning...\n"
     ]
    },
    {
     "name": "stderr",
     "output_type": "stream",
     "text": [
      "[I 2025-02-21 06:16:48,543] Trial 0 finished with value: 1.413144463615287 and parameters: {'n_estimators': 465, 'learning_rate': 0.13255096829152863, 'max_depth': 10, 'min_child_weight': 5, 'gamma': 1.8944467424757723, 'reg_alpha': 0.003447424799405647, 'reg_lambda': 0.5100876415950993, 'subsample': 0.9858637885635833, 'colsample_bytree': 0.7458588175909545}. Best is trial 0 with value: 1.413144463615287.\n",
      "[I 2025-02-21 06:16:58,321] Trial 1 finished with value: 1.4031067930490735 and parameters: {'n_estimators': 1067, 'learning_rate': 0.09131033040947224, 'max_depth': 7, 'min_child_weight': 6, 'gamma': 4.313103470563483, 'reg_alpha': 0.02539054103557209, 'reg_lambda': 0.8244360969878249, 'subsample': 0.793561467902109, 'colsample_bytree': 0.9562342551600411}. Best is trial 1 with value: 1.4031067930490735.\n",
      "[I 2025-02-21 06:17:10,506] Trial 2 finished with value: 1.4055966753524358 and parameters: {'n_estimators': 1414, 'learning_rate': 0.049732890318442115, 'max_depth': 10, 'min_child_weight': 6, 'gamma': 4.10327859920091, 'reg_alpha': 0.032400564611580876, 'reg_lambda': 0.0042139653066939585, 'subsample': 0.7061016815447878, 'colsample_bytree': 0.9248763407143465}. Best is trial 1 with value: 1.4031067930490735.\n",
      "[I 2025-02-21 06:18:17,978] Trial 3 finished with value: 1.4047298554416725 and parameters: {'n_estimators': 1435, 'learning_rate': 0.07643572958908292, 'max_depth': 3, 'min_child_weight': 2, 'gamma': 2.1538691937300007, 'reg_alpha': 8.782829367411637, 'reg_lambda': 3.355405011025036, 'subsample': 0.8187054281466051, 'colsample_bytree': 0.935458396787187}. Best is trial 1 with value: 1.4031067930490735.\n",
      "[I 2025-02-21 06:18:49,287] Trial 4 finished with value: 1.402927108238439 and parameters: {'n_estimators': 1372, 'learning_rate': 0.017834936803092657, 'max_depth': 8, 'min_child_weight': 1, 'gamma': 3.529862062074721, 'reg_alpha': 0.003808492937144418, 'reg_lambda': 0.022639005111736457, 'subsample': 0.9169799636289926, 'colsample_bytree': 0.8155688683227321}. Best is trial 4 with value: 1.402927108238439.\n",
      "[I 2025-02-21 06:19:06,723] Trial 5 finished with value: 1.4026184980091017 and parameters: {'n_estimators': 1221, 'learning_rate': 0.04617863121903309, 'max_depth': 7, 'min_child_weight': 8, 'gamma': 4.795502891349548, 'reg_alpha': 0.7370262881907481, 'reg_lambda': 0.0022915654441273596, 'subsample': 0.7218695957828414, 'colsample_bytree': 0.758890502083199}. Best is trial 5 with value: 1.4026184980091017.\n",
      "[I 2025-02-21 06:19:32,160] Trial 6 finished with value: 1.4117609005882086 and parameters: {'n_estimators': 1253, 'learning_rate': 0.10179081765071347, 'max_depth': 3, 'min_child_weight': 4, 'gamma': 3.610317389053656, 'reg_alpha': 7.1098187848874534, 'reg_lambda': 0.28191018973231535, 'subsample': 0.9327523042673758, 'colsample_bytree': 0.863009821870462}. Best is trial 5 with value: 1.4026184980091017.\n",
      "[I 2025-02-21 06:20:21,262] Trial 7 finished with value: 1.4077410688816339 and parameters: {'n_estimators': 1154, 'learning_rate': 0.025826156234655877, 'max_depth': 8, 'min_child_weight': 2, 'gamma': 1.703943558279481, 'reg_alpha': 0.049649656337413715, 'reg_lambda': 0.0812765708828051, 'subsample': 0.9052131950187547, 'colsample_bytree': 0.6196914064481988}. Best is trial 5 with value: 1.4026184980091017.\n",
      "[I 2025-02-21 06:20:35,716] Trial 8 finished with value: 1.4063777806367088 and parameters: {'n_estimators': 768, 'learning_rate': 0.043983788658818364, 'max_depth': 11, 'min_child_weight': 5, 'gamma': 2.684791026145321, 'reg_alpha': 4.38894624638806, 'reg_lambda': 0.03788374823503943, 'subsample': 0.7027185438097372, 'colsample_bytree': 0.9293871579688452}. Best is trial 5 with value: 1.4026184980091017.\n",
      "[I 2025-02-21 06:20:44,243] Trial 9 finished with value: 1.4573315399591815 and parameters: {'n_estimators': 1109, 'learning_rate': 0.11912128667768727, 'max_depth': 16, 'min_child_weight': 1, 'gamma': 1.5682599827720034, 'reg_alpha': 0.028735170495480158, 'reg_lambda': 0.10874797716608363, 'subsample': 0.6159202613401099, 'colsample_bytree': 0.789873750886281}. Best is trial 5 with value: 1.4026184980091017.\n",
      "[I 2025-02-21 06:22:41,508] Trial 10 finished with value: 1.4942185425427328 and parameters: {'n_estimators': 784, 'learning_rate': 0.011306577666393338, 'max_depth': 20, 'min_child_weight': 10, 'gamma': 0.28904278938681793, 'reg_alpha': 0.7515042355369909, 'reg_lambda': 0.0011154775650871031, 'subsample': 0.6318393105518803, 'colsample_bytree': 0.6798836594848141}. Best is trial 5 with value: 1.4026184980091017.\n",
      "[I 2025-02-21 06:22:56,800] Trial 11 finished with value: 1.432826075791904 and parameters: {'n_estimators': 241, 'learning_rate': 0.017565499409593663, 'max_depth': 6, 'min_child_weight': 9, 'gamma': 4.895942064618852, 'reg_alpha': 0.001274431893451006, 'reg_lambda': 0.009432133297034581, 'subsample': 0.8159071492682934, 'colsample_bytree': 0.8062150276735833}. Best is trial 5 with value: 1.4026184980091017.\n",
      "[I 2025-02-21 06:23:39,040] Trial 12 finished with value: 1.4166807595580517 and parameters: {'n_estimators': 1487, 'learning_rate': 0.03386849516497392, 'max_depth': 14, 'min_child_weight': 8, 'gamma': 3.1837370880130687, 'reg_alpha': 0.36886482104085366, 'reg_lambda': 0.011874600595987606, 'subsample': 0.737946032469761, 'colsample_bytree': 0.7257728374316362}. Best is trial 5 with value: 1.4026184980091017.\n",
      "[I 2025-02-21 06:23:48,096] Trial 13 finished with value: 1.4081519471166752 and parameters: {'n_estimators': 955, 'learning_rate': 0.19927890969479692, 'max_depth': 5, 'min_child_weight': 8, 'gamma': 4.927298176056259, 'reg_alpha': 0.3105087543520456, 'reg_lambda': 0.0010419193576067327, 'subsample': 0.8810116099766555, 'colsample_bytree': 0.8496285668968506}. Best is trial 5 with value: 1.4026184980091017.\n",
      "[I 2025-02-21 06:25:10,012] Trial 14 finished with value: 1.414007857036571 and parameters: {'n_estimators': 1298, 'learning_rate': 0.01988375760189932, 'max_depth': 14, 'min_child_weight': 7, 'gamma': 3.888938872100581, 'reg_alpha': 0.006514078836295336, 'reg_lambda': 0.006578753722146421, 'subsample': 0.7536368371842318, 'colsample_bytree': 0.6970199090251966}. Best is trial 5 with value: 1.4026184980091017.\n",
      "[I 2025-02-21 06:26:15,871] Trial 15 finished with value: 1.4029587701592772 and parameters: {'n_estimators': 917, 'learning_rate': 0.010159921801531609, 'max_depth': 8, 'min_child_weight': 3, 'gamma': 2.8244729275224922, 'reg_alpha': 1.6221500157499844, 'reg_lambda': 0.024829295990625052, 'subsample': 0.8635560026729716, 'colsample_bytree': 0.8012775971294429}. Best is trial 5 with value: 1.4026184980091017.\n",
      "[I 2025-02-21 06:26:32,278] Trial 16 finished with value: 1.4106208761650982 and parameters: {'n_estimators': 649, 'learning_rate': 0.05575464507698428, 'max_depth': 13, 'min_child_weight': 10, 'gamma': 4.433159143871017, 'reg_alpha': 0.14137442740808076, 'reg_lambda': 0.0028179857967117086, 'subsample': 0.9915192495463899, 'colsample_bytree': 0.8748286366316582}. Best is trial 5 with value: 1.4026184980091017.\n",
      "[I 2025-02-21 06:27:45,650] Trial 17 finished with value: 1.4081809701113306 and parameters: {'n_estimators': 1332, 'learning_rate': 0.016388121707304977, 'max_depth': 5, 'min_child_weight': 7, 'gamma': 3.307255467344357, 'reg_alpha': 0.008129803429437468, 'reg_lambda': 0.01930755886311256, 'subsample': 0.6707788210095955, 'colsample_bytree': 0.6254773495441105}. Best is trial 5 with value: 1.4026184980091017.\n",
      "[I 2025-02-21 06:28:08,706] Trial 18 finished with value: 1.4036352618492531 and parameters: {'n_estimators': 1220, 'learning_rate': 0.031041984265338034, 'max_depth': 9, 'min_child_weight': 1, 'gamma': 0.6251639694357154, 'reg_alpha': 1.6016152265145223, 'reg_lambda': 9.542026639104396, 'subsample': 0.9373054543023689, 'colsample_bytree': 0.7606112880945254}. Best is trial 5 with value: 1.4026184980091017.\n",
      "[I 2025-02-21 06:28:34,323] Trial 19 finished with value: 1.417734675359066 and parameters: {'n_estimators': 1027, 'learning_rate': 0.06693713051422316, 'max_depth': 17, 'min_child_weight': 4, 'gamma': 4.565815344287421, 'reg_alpha': 0.10121296996447912, 'reg_lambda': 0.0023368388674800135, 'subsample': 0.7685406944127728, 'colsample_bytree': 0.6683589978490653}. Best is trial 5 with value: 1.4026184980091017.\n",
      "[I 2025-02-21 06:28:49,054] Trial 20 finished with value: 1.4095223931428533 and parameters: {'n_estimators': 542, 'learning_rate': 0.04026513570775874, 'max_depth': 12, 'min_child_weight': 8, 'gamma': 3.6951992983506345, 'reg_alpha': 0.0013844561921655828, 'reg_lambda': 0.03936608419280079, 'subsample': 0.8544226943961644, 'colsample_bytree': 0.8369013647643487}. Best is trial 5 with value: 1.4026184980091017.\n",
      "[I 2025-02-21 06:29:56,262] Trial 21 finished with value: 1.402766705725655 and parameters: {'n_estimators': 925, 'learning_rate': 0.0109098384274817, 'max_depth': 8, 'min_child_weight': 3, 'gamma': 2.7975057121281086, 'reg_alpha': 2.0492632290102577, 'reg_lambda': 0.025077488352657305, 'subsample': 0.8580775333318434, 'colsample_bytree': 0.7989965700842245}. Best is trial 5 with value: 1.4026184980091017.\n",
      "[I 2025-02-21 06:31:20,931] Trial 22 finished with value: 1.4024765911049097 and parameters: {'n_estimators': 1352, 'learning_rate': 0.013471719530137585, 'max_depth': 6, 'min_child_weight': 2, 'gamma': 1.1875911103083285, 'reg_alpha': 2.3193638485461308, 'reg_lambda': 0.12061460019214279, 'subsample': 0.9390667829022117, 'colsample_bytree': 0.7695132759401734}. Best is trial 22 with value: 1.4024765911049097.\n",
      "[I 2025-02-21 06:32:27,628] Trial 23 finished with value: 1.4050013603482772 and parameters: {'n_estimators': 1176, 'learning_rate': 0.013252843227813987, 'max_depth': 5, 'min_child_weight': 3, 'gamma': 1.105770662550166, 'reg_alpha': 2.3755938088094726, 'reg_lambda': 0.17265265138446279, 'subsample': 0.9599973050276415, 'colsample_bytree': 0.7628582242808267}. Best is trial 22 with value: 1.4024765911049097.\n",
      "[I 2025-02-21 06:33:28,337] Trial 24 finished with value: 1.406722682256306 and parameters: {'n_estimators': 875, 'learning_rate': 0.023284200220451926, 'max_depth': 6, 'min_child_weight': 3, 'gamma': 1.183608750824486, 'reg_alpha': 0.5752138138933953, 'reg_lambda': 1.5593449489915452, 'subsample': 0.8432807737149578, 'colsample_bytree': 0.716512790817141}. Best is trial 22 with value: 1.4024765911049097.\n",
      "[I 2025-02-21 06:34:25,562] Trial 25 finished with value: 1.4118767389780646 and parameters: {'n_estimators': 1022, 'learning_rate': 0.013375000180280138, 'max_depth': 4, 'min_child_weight': 2, 'gamma': 2.3535912670991146, 'reg_alpha': 2.733573844585102, 'reg_lambda': 0.06086411436464938, 'subsample': 0.8851284417847223, 'colsample_bytree': 0.880636675198452}. Best is trial 22 with value: 1.4024765911049097.\n",
      "[I 2025-02-21 06:35:33,384] Trial 26 finished with value: 1.4022659427103006 and parameters: {'n_estimators': 1270, 'learning_rate': 0.013053341534301183, 'max_depth': 7, 'min_child_weight': 4, 'gamma': 0.8920536675406159, 'reg_alpha': 0.8004533284258334, 'reg_lambda': 0.1999756372935013, 'subsample': 0.9572923588252253, 'colsample_bytree': 0.7758049638725624}. Best is trial 26 with value: 1.4022659427103006.\n",
      "[I 2025-02-21 06:36:20,237] Trial 27 finished with value: 1.4022370165472873 and parameters: {'n_estimators': 1493, 'learning_rate': 0.02734632921386723, 'max_depth': 6, 'min_child_weight': 4, 'gamma': 0.7360504289383689, 'reg_alpha': 0.7754025020457445, 'reg_lambda': 0.2964584142930126, 'subsample': 0.9532381027128551, 'colsample_bytree': 0.7707003948043729}. Best is trial 27 with value: 1.4022370165472873.\n",
      "[I 2025-02-21 06:37:32,671] Trial 28 finished with value: 1.4059675498085717 and parameters: {'n_estimators': 1494, 'learning_rate': 0.02419026004251271, 'max_depth': 6, 'min_child_weight': 4, 'gamma': 0.03292959889112179, 'reg_alpha': 0.16659989760886793, 'reg_lambda': 0.24303655987710063, 'subsample': 0.9595185681046497, 'colsample_bytree': 0.64937184453883}. Best is trial 27 with value: 1.4022370165472873.\n",
      "[I 2025-02-21 06:39:01,974] Trial 29 finished with value: 1.412483819068387 and parameters: {'n_estimators': 1338, 'learning_rate': 0.014564407012075994, 'max_depth': 10, 'min_child_weight': 5, 'gamma': 0.8100888627042928, 'reg_alpha': 0.9143569295374353, 'reg_lambda': 0.5329481518842561, 'subsample': 0.9673974582578854, 'colsample_bytree': 0.7291944997389066}. Best is trial 27 with value: 1.4022370165472873.\n",
      "[I 2025-02-21 06:39:16,998] Trial 30 finished with value: 1.4212575795990066 and parameters: {'n_estimators': 257, 'learning_rate': 0.031011514362241324, 'max_depth': 4, 'min_child_weight': 5, 'gamma': 1.3136670588473787, 'reg_alpha': 0.28999466262877677, 'reg_lambda': 1.2208323259576435, 'subsample': 0.9818594793231612, 'colsample_bytree': 0.9948218919059454}. Best is trial 27 with value: 1.4022370165472873.\n",
      "[I 2025-02-21 06:39:52,790] Trial 31 finished with value: 1.4023975395034827 and parameters: {'n_estimators': 1270, 'learning_rate': 0.021183354706290264, 'max_depth': 7, 'min_child_weight': 4, 'gamma': 0.6643637844430086, 'reg_alpha': 1.0286381077560156, 'reg_lambda': 0.15746944161137005, 'subsample': 0.9414608083060312, 'colsample_bytree': 0.7522649458493551}. Best is trial 27 with value: 1.4022370165472873.\n",
      "[I 2025-02-21 06:40:32,248] Trial 32 finished with value: 1.4022803094365095 and parameters: {'n_estimators': 1408, 'learning_rate': 0.02156773769541461, 'max_depth': 7, 'min_child_weight': 4, 'gamma': 0.6214825822021068, 'reg_alpha': 4.257522401901486, 'reg_lambda': 0.33632080781896595, 'subsample': 0.9405353823026589, 'colsample_bytree': 0.781019040868461}. Best is trial 27 with value: 1.4022370165472873.\n",
      "[I 2025-02-21 06:41:32,148] Trial 33 finished with value: 1.4090391055508222 and parameters: {'n_estimators': 1398, 'learning_rate': 0.02059614647018838, 'max_depth': 9, 'min_child_weight': 4, 'gamma': 0.5836780098937963, 'reg_alpha': 4.1092564177067, 'reg_lambda': 0.4314116789792753, 'subsample': 0.9050818127481652, 'colsample_bytree': 0.7394516644280623}. Best is trial 27 with value: 1.4022370165472873.\n",
      "[I 2025-02-21 06:42:05,684] Trial 34 finished with value: 1.402640045667797 and parameters: {'n_estimators': 1497, 'learning_rate': 0.026969102383455887, 'max_depth': 7, 'min_child_weight': 6, 'gamma': 0.30466178701831426, 'reg_alpha': 1.32624500347665, 'reg_lambda': 0.3574139507866002, 'subsample': 0.9965716632359257, 'colsample_bytree': 0.8285525533194337}. Best is trial 27 with value: 1.4022370165472873.\n",
      "[I 2025-02-21 06:42:28,723] Trial 35 finished with value: 1.4047612371603522 and parameters: {'n_estimators': 1270, 'learning_rate': 0.020382837307760263, 'max_depth': 10, 'min_child_weight': 4, 'gamma': 0.8686507768605962, 'reg_alpha': 9.512712469386752, 'reg_lambda': 0.7642942871651442, 'subsample': 0.9487825063969014, 'colsample_bytree': 0.7822051847853293}. Best is trial 27 with value: 1.4022370165472873.\n",
      "[I 2025-02-21 06:43:13,598] Trial 36 finished with value: 1.4079157300106941 and parameters: {'n_estimators': 1413, 'learning_rate': 0.03674962946145019, 'max_depth': 9, 'min_child_weight': 5, 'gamma': 1.9773801433050995, 'reg_alpha': 5.094219573278837, 'reg_lambda': 2.122658927197751, 'subsample': 0.9181682296932021, 'colsample_bytree': 0.7047474470852948}. Best is trial 27 with value: 1.4022370165472873.\n",
      "[I 2025-02-21 06:44:05,476] Trial 37 finished with value: 1.4209794171912171 and parameters: {'n_estimators': 1112, 'learning_rate': 0.01599127771325517, 'max_depth': 3, 'min_child_weight': 6, 'gamma': 0.025975225191179008, 'reg_alpha': 0.4475968654640205, 'reg_lambda': 0.21770505984636876, 'subsample': 0.9742171896093813, 'colsample_bytree': 0.8997655745294679}. Best is trial 27 with value: 1.4022370165472873.\n",
      "[I 2025-02-21 06:44:33,906] Trial 38 finished with value: 1.4024166158238935 and parameters: {'n_estimators': 1423, 'learning_rate': 0.02899575865615707, 'max_depth': 7, 'min_child_weight': 3, 'gamma': 1.5641457408373864, 'reg_alpha': 0.9667112096099292, 'reg_lambda': 0.7596664017043852, 'subsample': 0.8919102992160335, 'colsample_bytree': 0.8247797944721059}. Best is trial 27 with value: 1.4022370165472873.\n",
      "[I 2025-02-21 06:45:40,119] Trial 39 finished with value: 1.4054433893308207 and parameters: {'n_estimators': 1261, 'learning_rate': 0.021535621584806403, 'max_depth': 4, 'min_child_weight': 4, 'gamma': 0.3987358059628471, 'reg_alpha': 0.17692170945954075, 'reg_lambda': 0.1412659789298761, 'subsample': 0.8332304633805588, 'colsample_bytree': 0.7527395445776915}. Best is trial 27 with value: 1.4022370165472873.\n",
      "[I 2025-02-21 06:46:33,218] Trial 40 finished with value: 1.4185444604834354 and parameters: {'n_estimators': 1186, 'learning_rate': 0.01806929243872171, 'max_depth': 11, 'min_child_weight': 6, 'gamma': 0.8289210523186095, 'reg_alpha': 0.06331586812303708, 'reg_lambda': 0.060980766528941126, 'subsample': 0.9166695987569978, 'colsample_bytree': 0.7438168455368311}. Best is trial 27 with value: 1.4022370165472873.\n",
      "[I 2025-02-21 06:47:07,367] Trial 41 finished with value: 1.402392078946322 and parameters: {'n_estimators': 1413, 'learning_rate': 0.02845977549214075, 'max_depth': 7, 'min_child_weight': 3, 'gamma': 1.528319434368287, 'reg_alpha': 0.8912072178920653, 'reg_lambda': 0.8491150837292314, 'subsample': 0.8951014372168823, 'colsample_bytree': 0.8192475274252755}. Best is trial 27 with value: 1.4022370165472873.\n",
      "[I 2025-02-21 06:47:29,723] Trial 42 finished with value: 1.4028061443923436 and parameters: {'n_estimators': 1374, 'learning_rate': 0.025897840774478875, 'max_depth': 8, 'min_child_weight': 4, 'gamma': 1.3839216229961346, 'reg_alpha': 3.552730130839637, 'reg_lambda': 3.913487441463137, 'subsample': 0.9273461392745778, 'colsample_bytree': 0.7794698592296243}. Best is trial 27 with value: 1.4022370165472873.\n",
      "[I 2025-02-21 06:47:46,641] Trial 43 finished with value: 1.4026993661496707 and parameters: {'n_estimators': 1453, 'learning_rate': 0.05450217245751531, 'max_depth': 7, 'min_child_weight': 5, 'gamma': 0.5871702307306554, 'reg_alpha': 6.378637037500695, 'reg_lambda': 0.3164365067075706, 'subsample': 0.9558640911546591, 'colsample_bytree': 0.8144825693040684}. Best is trial 27 with value: 1.4022370165472873.\n",
      "[I 2025-02-21 06:48:22,788] Trial 44 finished with value: 1.402241756459317 and parameters: {'n_estimators': 1309, 'learning_rate': 0.035485005226201016, 'max_depth': 6, 'min_child_weight': 3, 'gamma': 0.9807031348118047, 'reg_alpha': 1.2056988622893878, 'reg_lambda': 0.5166664941987279, 'subsample': 0.9068798802954348, 'colsample_bytree': 0.8525521674884308}. Best is trial 27 with value: 1.4022370165472873.\n",
      "[I 2025-02-21 06:49:14,899] Trial 45 finished with value: 1.402461885677241 and parameters: {'n_estimators': 1440, 'learning_rate': 0.03516344713162665, 'max_depth': 5, 'min_child_weight': 3, 'gamma': 0.9624350375268234, 'reg_alpha': 0.5603742886286189, 'reg_lambda': 0.5418581584341323, 'subsample': 0.8978390827069301, 'colsample_bytree': 0.8529211760685402}. Best is trial 27 with value: 1.4022370165472873.\n",
      "[I 2025-02-21 06:49:42,229] Trial 46 finished with value: 1.4024972555492752 and parameters: {'n_estimators': 1383, 'learning_rate': 0.04301368318937559, 'max_depth': 6, 'min_child_weight': 3, 'gamma': 1.7732380215591776, 'reg_alpha': 0.24108984037851514, 'reg_lambda': 1.1095984807820505, 'subsample': 0.8763903500854078, 'colsample_bytree': 0.8968666846126054}. Best is trial 27 with value: 1.4022370165472873.\n",
      "[I 2025-02-21 06:50:43,901] Trial 47 finished with value: 1.4120848991253387 and parameters: {'n_estimators': 1314, 'learning_rate': 0.02837060199608588, 'max_depth': 3, 'min_child_weight': 2, 'gamma': 1.460454741856943, 'reg_alpha': 0.6191782265600061, 'reg_lambda': 2.9030005979561766, 'subsample': 0.9762795325587217, 'colsample_bytree': 0.8362269875861327}. Best is trial 27 with value: 1.4022370165472873.\n",
      "[I 2025-02-21 06:51:02,284] Trial 48 finished with value: 1.4029966345880336 and parameters: {'n_estimators': 1131, 'learning_rate': 0.049430548720315874, 'max_depth': 8, 'min_child_weight': 2, 'gamma': 1.0439617915239687, 'reg_alpha': 1.2280678497603883, 'reg_lambda': 0.6430463375290305, 'subsample': 0.79635523098025, 'colsample_bytree': 0.7915843839644874}. Best is trial 27 with value: 1.4022370165472873.\n",
      "[I 2025-02-21 06:51:21,376] Trial 49 finished with value: 1.403926199153684 and parameters: {'n_estimators': 1198, 'learning_rate': 0.03986686287864938, 'max_depth': 9, 'min_child_weight': 1, 'gamma': 1.9831139296174827, 'reg_alpha': 3.2430703687958475, 'reg_lambda': 0.08821686317714202, 'subsample': 0.9151415102894315, 'colsample_bytree': 0.8164079361943419}. Best is trial 27 with value: 1.4022370165472873.\n"
     ]
    },
    {
     "name": "stdout",
     "output_type": "stream",
     "text": [
      "Best Parameters saved to: /home/sid/files/rough_work/path_recon_ml_models/models/electron/electron_oop_scat_params_dict.json\n",
      "Best Parameters: {'n_estimators': 1493, 'learning_rate': 0.02734632921386723, 'max_depth': 6, 'min_child_weight': 4, 'gamma': 0.7360504289383689, 'reg_alpha': 0.7754025020457445, 'reg_lambda': 0.2964584142930126, 'subsample': 0.9532381027128551, 'colsample_bytree': 0.7707003948043729}\n",
      "Best RMSE: 1.4022370165472873\n",
      "Model optimized in : 2083.97 seconds\n"
     ]
    }
   ],
   "source": [
    "for target in ['P', 'ip', 'oop']:\n",
    "    electron = Analysis(side=side, \n",
    "                        scat=scat,\n",
    "                        data_train = data_train,\n",
    "                        data_test = data_test,\n",
    "                        target = target,\n",
    "                        n_jobs = 6)\n",
    "    electron.run_optimization(n_trials=50, base_path=base_path)"
   ]
  },
  {
   "cell_type": "markdown",
   "id": "18922c3d-3edd-47e0-bd27-5fcaa4c127b4",
   "metadata": {
    "jp-MarkdownHeadingCollapsed": true
   },
   "source": [
    "## 1.2 Without Scattering"
   ]
  },
  {
   "cell_type": "code",
   "execution_count": 7,
   "id": "5080b5ad-6d3b-4683-a195-86b61e27414c",
   "metadata": {},
   "outputs": [],
   "source": [
    "scat = 'n'"
   ]
  },
  {
   "cell_type": "code",
   "execution_count": 8,
   "id": "e03f2c9a-ebd5-4ae6-9d38-fc0cec8e82fa",
   "metadata": {},
   "outputs": [
    {
     "name": "stdout",
     "output_type": "stream",
     "text": [
      "Train:\t/home/sid/files/rough_work/path_recon_ml_models/mass_recon_data/ElectronCoords_no_scat.dat,\n",
      "Test:\t/home/sid/files/rough_work/path_recon_ml_models/mass_recon_data/ElectronSort_no_scat.dat\n"
     ]
    }
   ],
   "source": [
    "data_train, data_test = get_data_path(side, scat, data_path)\n",
    "print(f\"Train:\\t{data_train},\\nTest:\\t{data_test}\")"
   ]
  },
  {
   "cell_type": "code",
   "execution_count": null,
   "id": "70c459e6-06e3-4016-a46b-44e999958c52",
   "metadata": {},
   "outputs": [],
   "source": [
    "for target in ['P', 'ip', 'oop']:\n",
    "    electron = Analysis(side=side, \n",
    "                        scat=scat,\n",
    "                        data_train = data_train,\n",
    "                        data_test = data_test,\n",
    "                        target = target,\n",
    "                        n_jobs = 12)\n",
    "    electron.run_optimization(n_trials=50, base_path=base_path)"
   ]
  }
 ],
 "metadata": {
  "kernelspec": {
   "display_name": "Python (myenv)",
   "language": "python",
   "name": "myenv"
  },
  "language_info": {
   "codemirror_mode": {
    "name": "ipython",
    "version": 3
   },
   "file_extension": ".py",
   "mimetype": "text/x-python",
   "name": "python",
   "nbconvert_exporter": "python",
   "pygments_lexer": "ipython3",
   "version": "3.10.12"
  }
 },
 "nbformat": 4,
 "nbformat_minor": 5
}

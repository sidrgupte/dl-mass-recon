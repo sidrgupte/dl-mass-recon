{
 "cells": [
  {
   "cell_type": "code",
   "execution_count": 20,
   "id": "4a19db7a-ee0b-434d-a240-a5204dae2733",
   "metadata": {},
   "outputs": [
    {
     "name": "stdout",
     "output_type": "stream",
     "text": [
      "base path: /home/sid/coding/rough_work/path_recon_ml_models\n",
      "data path: /home/sid/coding/rough_work/path_recon_ml_models/mass_recon_data\n"
     ]
    }
   ],
   "source": [
    "import os\n",
    "import time\n",
    "import matplotlib.pyplot as plt\n",
    "import numpy as np\n",
    "import pandas as pd\n",
    "import sys\n",
    "import json\n",
    "import funcs\n",
    "import importlib\n",
    "importlib.reload(funcs)\n",
    "from funcs import *\n",
    "import ipynbname\n",
    "\n",
    "%matplotlib inline\n",
    "\n",
    "# sys.path.append(\"~/files/rough_work/path_recon_ml_models\")\n",
    "base_path = os.path.dirname(ipynbname.path())\n",
    "data_path = base_path + '/mass_recon_data'\n",
    "print(f\"base path: {base_path}\")\n",
    "print(f\"data path: {data_path}\")"
   ]
  },
  {
   "cell_type": "markdown",
   "id": "ad7e0f9b-0195-4a0b-8cb3-5561c3314cd0",
   "metadata": {},
   "source": [
    "## 1. Load the Data"
   ]
  },
  {
   "cell_type": "code",
   "execution_count": 120,
   "id": "b68bc95c-b808-4bad-ae3c-ece1a85c6520",
   "metadata": {},
   "outputs": [],
   "source": [
    "side = 'electron'\n",
    "scat = 'y'"
   ]
  },
  {
   "cell_type": "code",
   "execution_count": 121,
   "id": "a46c6c71-69bf-4e18-a7c3-17d939120477",
   "metadata": {},
   "outputs": [
    {
     "name": "stdout",
     "output_type": "stream",
     "text": [
      "Train:\t/home/sid/files/rough_work/path_recon_ml_models/mass_recon_data/ElectronCoords_wide_acp.dat,\n",
      "Test:\t/home/sid/files/rough_work/path_recon_ml_models/mass_recon_data/ElectronSort_signal.dat\n"
     ]
    }
   ],
   "source": [
    "data_train_e, data_test_e = get_data_path(side, scat, data_path)\n",
    "print(f\"Train:\\t{data_train_e},\\nTest:\\t{data_test_e}\")"
   ]
  },
  {
   "cell_type": "code",
   "execution_count": 122,
   "id": "68667e18-a1db-45e6-a975-297c77361c73",
   "metadata": {},
   "outputs": [],
   "source": [
    "e_train = pd.read_csv(data_train_e, sep='\\s+', header=None, names=[\n",
    "        'OUT', 'EventID', 'TrackID', 'ParticleCount1', 'ParticleCount2', 'X', 'Y', \n",
    "        'dX', 'dY', 'E', 'P', 'ip', 'oop', 'vert_x', 'vert_y', 'vert_z'\n",
    "    ])\n",
    "e_test = pd.read_csv(data_test_e, sep='\\s+', header=None, names=[\n",
    "        'OUT', 'EventID', 'TrackID', 'ParticleCount1', 'ParticleCount2', 'X', 'Y', \n",
    "        'dX', 'dY', 'E', 'P', 'ip', 'oop', 'vert_x', 'vert_y', 'vert_z'\n",
    "    ])"
   ]
  },
  {
   "cell_type": "code",
   "execution_count": 125,
   "id": "6b88e9f2-7ed6-45e3-a401-c8eb7b466a5e",
   "metadata": {},
   "outputs": [],
   "source": [
    "side = 'positron'\n",
    "scat = 'y'"
   ]
  },
  {
   "cell_type": "code",
   "execution_count": 127,
   "id": "d2402537-8e03-4235-801b-608c19e22f6d",
   "metadata": {},
   "outputs": [
    {
     "name": "stdout",
     "output_type": "stream",
     "text": [
      "Train:\t/home/sid/files/rough_work/path_recon_ml_models/mass_recon_data/PositronCoords_wide_acp.dat,\n",
      "Test:\t/home/sid/files/rough_work/path_recon_ml_models/mass_recon_data/PositronSort_signal.dat\n"
     ]
    }
   ],
   "source": [
    "data_train_p, data_test_p = get_data_path(side, scat, data_path)\n",
    "print(f\"Train:\\t{data_train_p},\\nTest:\\t{data_test_p}\")"
   ]
  },
  {
   "cell_type": "code",
   "execution_count": 128,
   "id": "bfdd8b47-0fde-48cd-95f6-0a7ee2026092",
   "metadata": {},
   "outputs": [],
   "source": [
    "p_train = pd.read_csv(data_train_p, sep='\\s+', header=None, names=[\n",
    "        'OUT', 'EventID', 'TrackID', 'ParticleCount1', 'ParticleCount2', 'X', 'Y', \n",
    "        'dX', 'dY', 'E', 'P', 'ip', 'oop', 'vert_x', 'vert_y', 'vert_z'\n",
    "    ])\n",
    "p_test = pd.read_csv(data_test_p, sep='\\s+', header=None, names=[\n",
    "        'OUT', 'EventID', 'TrackID', 'ParticleCount1', 'ParticleCount2', 'X', 'Y', \n",
    "        'dX', 'dY', 'E', 'P', 'ip', 'oop', 'vert_x', 'vert_y', 'vert_z'\n",
    "    ])"
   ]
  },
  {
   "cell_type": "code",
   "execution_count": 129,
   "id": "d200e433-9d01-405b-a9a0-d3da3091ea47",
   "metadata": {},
   "outputs": [
    {
     "name": "stdout",
     "output_type": "stream",
     "text": [
      "E Training Data (/home/sid/files/rough_work/path_recon_ml_models/mass_recon_data/ElectronCoords_wide_acp.dat):\t995268\n",
      "P Training Data (/home/sid/files/rough_work/path_recon_ml_models/mass_recon_data/PositronCoords_wide_acp.dat):\t995268\n"
     ]
    }
   ],
   "source": [
    "print(f\"E Training Data ({data_train_e}):\\t{len(e_train)}\")\n",
    "print(f\"P Training Data ({data_train_p}):\\t{len(p_train)}\")"
   ]
  },
  {
   "cell_type": "code",
   "execution_count": 130,
   "id": "f0669457-d761-43bd-82bf-8e4562e32ba7",
   "metadata": {},
   "outputs": [
    {
     "name": "stdout",
     "output_type": "stream",
     "text": [
      "E Test Data (/home/sid/files/rough_work/path_recon_ml_models/mass_recon_data/ElectronSort_signal.dat):\t19812\n",
      "P Test Data (/home/sid/files/rough_work/path_recon_ml_models/mass_recon_data/PositronSort_signal.dat):\t19790\n"
     ]
    }
   ],
   "source": [
    "print(f\"E Test Data ({data_test_e}):\\t{len(e_test)}\")\n",
    "print(f\"P Test Data ({data_test_p}):\\t{len(p_test)}\")"
   ]
  },
  {
   "cell_type": "markdown",
   "id": "d2acfc80-8326-4b30-8ce7-4f829de2b291",
   "metadata": {},
   "source": [
    "## 2. Analyze and Filter the Training Data"
   ]
  },
  {
   "cell_type": "code",
   "execution_count": 131,
   "id": "63e9d47d-1056-48aa-bdff-2c45224d86fa",
   "metadata": {},
   "outputs": [
    {
     "name": "stdout",
     "output_type": "stream",
     "text": [
      "num: 0\n"
     ]
    }
   ],
   "source": [
    "print(f\"num: {len(e_train[e_train['TrackID']!=1])}\")\n",
    "e_eventid = e_train[e_train['TrackID']!=1]['EventID'].to_numpy()"
   ]
  },
  {
   "cell_type": "code",
   "execution_count": 132,
   "id": "e81b82ef-2ea6-4553-b3d6-1e788c06c0da",
   "metadata": {},
   "outputs": [
    {
     "name": "stdout",
     "output_type": "stream",
     "text": [
      "num: 0\n"
     ]
    }
   ],
   "source": [
    "print(f\"num: {len(p_train[p_train['TrackID']!=2])}\")\n",
    "p_eventid = p_train[p_train['TrackID']!=2]['EventID'].to_numpy()"
   ]
  },
  {
   "cell_type": "code",
   "execution_count": 133,
   "id": "4f043e8b-4658-41f4-b634-3d76c9a1c170",
   "metadata": {},
   "outputs": [],
   "source": [
    "bad_eventid = np.concatenate((e_eventid, p_eventid))"
   ]
  },
  {
   "cell_type": "code",
   "execution_count": 134,
   "id": "7e5e5086-d005-4107-9cc5-b3d1fd0c2d92",
   "metadata": {},
   "outputs": [],
   "source": [
    "# filter these rows from both the dataframes:\n",
    "e_train_filtered = e_train[~e_train['EventID'].isin(bad_eventid)]\n",
    "p_train_filtered = p_train[~p_train['EventID'].isin(bad_eventid)]"
   ]
  },
  {
   "cell_type": "code",
   "execution_count": 135,
   "id": "fee67195-ad5f-4636-9ffa-722134cfd947",
   "metadata": {},
   "outputs": [
    {
     "name": "stdout",
     "output_type": "stream",
     "text": [
      "(Before) num: 0\n",
      "(After) num: 0\n"
     ]
    }
   ],
   "source": [
    "print(f\"(Before) num: {len(e_train[e_train['TrackID']!=1])}\")\n",
    "print(f\"(After) num: {len(e_train_filtered[e_train_filtered['TrackID']!=1])}\")"
   ]
  },
  {
   "cell_type": "code",
   "execution_count": 136,
   "id": "b995130c-13a1-4543-af4b-cdbe7846e08e",
   "metadata": {},
   "outputs": [
    {
     "name": "stdout",
     "output_type": "stream",
     "text": [
      "(Before) num: 0\n",
      "(After) num: 0\n"
     ]
    }
   ],
   "source": [
    "print(f\"(Before) num: {len(p_train[p_train['TrackID']!=2])}\")\n",
    "print(f\"(After) num: {len(p_train_filtered[p_train_filtered['TrackID']!=2])}\")"
   ]
  },
  {
   "cell_type": "code",
   "execution_count": 137,
   "id": "f88cfedd-dc45-431e-b561-bda71ab511d6",
   "metadata": {},
   "outputs": [
    {
     "name": "stdout",
     "output_type": "stream",
     "text": [
      "len of e: 995268\n",
      "len of p: 995268\n"
     ]
    }
   ],
   "source": [
    "# length of filtered data:\n",
    "print(f\"len of e: {len(e_train_filtered)}\")\n",
    "print(f\"len of p: {len(p_train_filtered)}\")"
   ]
  },
  {
   "cell_type": "markdown",
   "id": "f0baa240-f58b-4d47-80dd-77051c9aaa8d",
   "metadata": {},
   "source": [
    "Length mismatch means there are some `EventID` in electron side which are not present in positron side and vice versa. Let us check"
   ]
  },
  {
   "cell_type": "code",
   "execution_count": 138,
   "id": "95afb240-219f-4c7f-8a93-ba9a969efce5",
   "metadata": {},
   "outputs": [],
   "source": [
    "e_eventid = e_train_filtered['EventID'].to_numpy()\n",
    "p_eventid = p_train_filtered['EventID'].to_numpy()"
   ]
  },
  {
   "cell_type": "code",
   "execution_count": 139,
   "id": "c41c8fd4-100d-4320-8725-8c6aed88508f",
   "metadata": {},
   "outputs": [
    {
     "name": "stdout",
     "output_type": "stream",
     "text": [
      "Number of EventID in E Side which are not in P Side: 0\n",
      "Number of EventID in P Side which are not in E Side: 0\n"
     ]
    }
   ],
   "source": [
    "print(f\"Number of EventID in E Side which are not in P Side: {len(np.setdiff1d(e_eventid, p_eventid))}\")\n",
    "print(f\"Number of EventID in P Side which are not in E Side: {len(np.setdiff1d(p_eventid, e_eventid))}\")"
   ]
  },
  {
   "cell_type": "code",
   "execution_count": 140,
   "id": "78ecf511-402d-423b-8c3e-b1bb7157c5d4",
   "metadata": {},
   "outputs": [],
   "source": [
    "# we wish to keep only the common_eventid (which are present on both the sides):\n",
    "common_eventid = np.intersect1d(e_eventid, p_eventid)\n",
    "e_train_filtered2 = e_train_filtered[e_train_filtered['EventID'].isin(common_eventid)]\n",
    "p_train_filtered2 = p_train_filtered[p_train_filtered['EventID'].isin(common_eventid)]"
   ]
  },
  {
   "cell_type": "code",
   "execution_count": 141,
   "id": "40bb7290-b403-4188-a35a-53fd96d8e9a9",
   "metadata": {},
   "outputs": [
    {
     "name": "stdout",
     "output_type": "stream",
     "text": [
      "len of e: 995268\n",
      "len of p: 995268\n"
     ]
    }
   ],
   "source": [
    "# let us compare the lengths of the two again:\n",
    "print(f\"len of e: {len(e_train_filtered2)}\")\n",
    "print(f\"len of p: {len(p_train_filtered2)}\")"
   ]
  },
  {
   "cell_type": "code",
   "execution_count": 142,
   "id": "70820d13-1ecf-46f4-bbab-9a19a199ff8c",
   "metadata": {},
   "outputs": [],
   "source": [
    "# save the filtered training data:\n",
    "e_train_filtered2.to_csv(data_train_e, sep=' ', header=False, index=False)\n",
    "p_train_filtered2.to_csv(data_train_p, sep=' ', header=False, index=False)"
   ]
  },
  {
   "cell_type": "code",
   "execution_count": 143,
   "id": "41bb6fb1-fe15-4fe9-ad26-0049e0ae2bfb",
   "metadata": {},
   "outputs": [],
   "source": [
    "# load the training data and check if size mismatch still exists:\n",
    "e_train = pd.read_csv(data_train_e, sep='\\s+', header=None, names=[\n",
    "        'OUT', 'EventID', 'TrackID', 'ParticleCount1', 'ParticleCount2', 'X', 'Y', \n",
    "        'dX', 'dY', 'E', 'P', 'ip', 'oop', 'vert_x', 'vert_y', 'vert_z'\n",
    "    ])\n",
    "p_train = pd.read_csv(data_train_p, sep='\\s+', header=None, names=[\n",
    "        'OUT', 'EventID', 'TrackID', 'ParticleCount1', 'ParticleCount2', 'X', 'Y', \n",
    "        'dX', 'dY', 'E', 'P', 'ip', 'oop', 'vert_x', 'vert_y', 'vert_z'\n",
    "    ])"
   ]
  },
  {
   "cell_type": "code",
   "execution_count": 144,
   "id": "967b8ea2-5b96-4749-ab79-19c62f4c9df3",
   "metadata": {},
   "outputs": [
    {
     "name": "stdout",
     "output_type": "stream",
     "text": [
      "Length of Training E: 995268\n",
      "Length of Training P: 995268\n"
     ]
    }
   ],
   "source": [
    "print(f\"Length of Training E: {len(e_train)}\")\n",
    "print(f\"Length of Training P: {len(p_train)}\")"
   ]
  },
  {
   "cell_type": "code",
   "execution_count": 66,
   "id": "879ba1fa-ef9a-42d8-b5d9-64fdf24878d7",
   "metadata": {},
   "outputs": [
    {
     "name": "stdout",
     "output_type": "stream",
     "text": [
      "# of Datapoints with TrackID !=1 in Training E: 0\n",
      "# of Datapoints with TrackID !=2 in Training P: 0\n"
     ]
    }
   ],
   "source": [
    "print(f\"# of Datapoints with TrackID !=1 in Training E: {len(e_train[e_train['TrackID']!=1])}\")\n",
    "print(f\"# of Datapoints with TrackID !=2 in Training P: {len(p_train[p_train['TrackID']!=2])}\")"
   ]
  },
  {
   "cell_type": "markdown",
   "id": "150ad7dd-5510-4695-87be-c9a9c97dbc4e",
   "metadata": {},
   "source": [
    "## 3. Analyze and Filter the Test Data"
   ]
  },
  {
   "cell_type": "code",
   "execution_count": 150,
   "id": "493faee9-8317-4a74-b8a1-86438116b1f1",
   "metadata": {},
   "outputs": [
    {
     "data": {
      "text/plain": [
       "[]"
      ]
     },
     "execution_count": 150,
     "metadata": {},
     "output_type": "execute_result"
    }
   ],
   "source": [
    "bad_events_to_be_removed = []\n",
    "bad_events_to_be_removed"
   ]
  },
  {
   "cell_type": "code",
   "execution_count": 145,
   "id": "eccc9798-dee0-4861-9eac-3ff4fcb93d76",
   "metadata": {},
   "outputs": [
    {
     "name": "stdout",
     "output_type": "stream",
     "text": [
      "# of bad EventID in Test E: 27\n",
      "# of bad EventID in Test P: 17\n",
      "Total # bad EventID: 44\n"
     ]
    }
   ],
   "source": [
    "bad_eventid_e = e_test[e_test['TrackID']!=1]['EventID'].to_numpy()\n",
    "bad_eventid_p = p_test[p_test['TrackID']!=2]['EventID'].to_numpy()\n",
    "bad_eventid_total = np.concatenate((bad_eventid_e, bad_eventid_p))\n",
    "print(f\"# of bad EventID in Test E: {len(bad_eventid_e)}\")\n",
    "print(f\"# of bad EventID in Test P: {len(bad_eventid_p)}\")\n",
    "print(f\"Total # bad EventID: {len(bad_eventid_total)}\")"
   ]
  },
  {
   "cell_type": "code",
   "execution_count": 151,
   "id": "5e97a122-26fc-48b8-b811-3b419dd2492b",
   "metadata": {},
   "outputs": [],
   "source": [
    "bad_events_to_be_removed.append(bad_eventid_total)"
   ]
  },
  {
   "cell_type": "code",
   "execution_count": 152,
   "id": "e24617be-004f-4dfa-94dc-a5ceae89aa19",
   "metadata": {},
   "outputs": [
    {
     "data": {
      "text/plain": [
       "[array([  501,  1408,  1874,  2032,  2062,  4243,  5040,  5704,  6477,\n",
       "         7884,  7964,  8330,  9080, 10010, 10019, 10723, 10743, 11146,\n",
       "        11420, 11703, 12574, 13867, 14628, 14905, 16156, 16400, 16833,\n",
       "         3871,  5467,  5744,  6218,  6632,  7048,  7474,  8750,  8854,\n",
       "        10957, 12168, 13197, 13904, 14917, 15026, 15139, 19724])]"
      ]
     },
     "execution_count": 152,
     "metadata": {},
     "output_type": "execute_result"
    }
   ],
   "source": [
    "bad_events_to_be_removed"
   ]
  },
  {
   "cell_type": "code",
   "execution_count": 153,
   "id": "433da026-a6c9-4fae-86e0-1b8ef8386fd8",
   "metadata": {},
   "outputs": [],
   "source": [
    "# filter these rows from both the dataframes:\n",
    "e_test_filtered = e_test[~e_test['EventID'].isin(bad_eventid_total)]\n",
    "p_test_filtered = p_test[~p_test['EventID'].isin(bad_eventid_total)]"
   ]
  },
  {
   "cell_type": "code",
   "execution_count": 154,
   "id": "e5a6af1e-95e4-4a92-9d9f-537d4bb1c7fd",
   "metadata": {},
   "outputs": [
    {
     "name": "stdout",
     "output_type": "stream",
     "text": [
      "# of bad EventID in Test E: 0\n",
      "# of bad EventID in Test P: 0\n",
      "Total # bad EventID: 0\n"
     ]
    }
   ],
   "source": [
    "bad_eventid_e = e_test_filtered[e_test_filtered['TrackID']!=1]['EventID'].to_numpy()\n",
    "bad_eventid_p = p_test_filtered[p_test_filtered['TrackID']!=2]['EventID'].to_numpy()\n",
    "bad_eventid_total = np.concatenate((bad_eventid_e, bad_eventid_p))\n",
    "print(f\"# of bad EventID in Test E: {len(bad_eventid_e)}\")\n",
    "print(f\"# of bad EventID in Test P: {len(bad_eventid_p)}\")\n",
    "print(f\"Total # bad EventID: {len(bad_eventid_total)}\")"
   ]
  },
  {
   "cell_type": "code",
   "execution_count": 155,
   "id": "310cffbf-f7bb-4da2-964e-6db7947b5ac4",
   "metadata": {},
   "outputs": [
    {
     "name": "stdout",
     "output_type": "stream",
     "text": [
      "length of Test E: 19741\n",
      "length of Test P: 19729\n"
     ]
    }
   ],
   "source": [
    "# now we need to look at the length of both the dataframes:\n",
    "print(f\"length of Test E: {len(e_test_filtered)}\")\n",
    "print(f\"length of Test P: {len(p_test_filtered)}\")"
   ]
  },
  {
   "cell_type": "code",
   "execution_count": 156,
   "id": "c6f98063-49b5-45fd-b1ad-18874c7031c5",
   "metadata": {},
   "outputs": [],
   "source": [
    "# there is a mismatch so, we need to keep only the common EventID datapoints:\n",
    "e_eventid = e_test_filtered['EventID'].to_numpy()\n",
    "p_eventid = p_test_filtered['EventID'].to_numpy()"
   ]
  },
  {
   "cell_type": "code",
   "execution_count": 157,
   "id": "71367c32-345d-45d1-9e32-38599860fcc8",
   "metadata": {},
   "outputs": [
    {
     "name": "stdout",
     "output_type": "stream",
     "text": [
      "# of EventID present in Test E but not in Test P: 222\n",
      "# of EventID present in Test P but not in Test N: 210\n"
     ]
    }
   ],
   "source": [
    "# we check the EventID mismatch now:\n",
    "print(f\"# of EventID present in Test E but not in Test P: {len(np.setdiff1d(e_eventid, p_eventid))}\")\n",
    "print(f\"# of EventID present in Test P but not in Test N: {len(np.setdiff1d(p_eventid, e_eventid))}\")"
   ]
  },
  {
   "cell_type": "code",
   "execution_count": 160,
   "id": "53b73df5-0045-4176-ae6e-a7dde695f596",
   "metadata": {},
   "outputs": [],
   "source": [
    "bad_events_to_be_removed.append(np.setdiff1d(e_eventid, p_eventid))\n",
    "bad_events_to_be_removed.append(np.setdiff1d(p_eventid, e_eventid))"
   ]
  },
  {
   "cell_type": "code",
   "execution_count": 164,
   "id": "d905a6ef-048f-415d-bd54-d97ee3e51024",
   "metadata": {},
   "outputs": [],
   "source": [
    "# we will keep only the common eventIDs:\n",
    "common_eventid = np.intersect1d(e_eventid, p_eventid)\n",
    "e_test_filtered2 = e_test_filtered[e_test_filtered['EventID'].isin(common_eventid)]\n",
    "p_test_filtered2 = p_test_filtered[p_test_filtered['EventID'].isin(common_eventid)]"
   ]
  },
  {
   "cell_type": "code",
   "execution_count": 165,
   "id": "b130d1e5-2955-432b-b2de-cfd56af6bd40",
   "metadata": {},
   "outputs": [
    {
     "name": "stdout",
     "output_type": "stream",
     "text": [
      "len of Test E: 19519\n",
      "len of Test P: 19519\n"
     ]
    }
   ],
   "source": [
    "# let us check the lengths once again:\n",
    "print(f\"len of Test E: {len(e_test_filtered2)}\")\n",
    "print(f\"len of Test P: {len(p_test_filtered2)}\")"
   ]
  },
  {
   "cell_type": "code",
   "execution_count": 166,
   "id": "c4893b45-ca65-4558-961d-213b08c060be",
   "metadata": {},
   "outputs": [],
   "source": [
    "# save the filtered test data:\n",
    "# save the filtered training data:\n",
    "e_test_filtered2.to_csv(data_test_e, sep=' ', header=False, index=False)\n",
    "p_test_filtered2.to_csv(data_test_p, sep=' ', header=False, index=False)"
   ]
  },
  {
   "cell_type": "code",
   "execution_count": 167,
   "id": "a9cd9d7c-9d01-461c-8a16-474d92a3dd3c",
   "metadata": {},
   "outputs": [],
   "source": [
    "# load the test data and check if size mismatch still exists:\n",
    "e_test = pd.read_csv(data_test_e, sep='\\s+', header=None, names=[\n",
    "        'OUT', 'EventID', 'TrackID', 'ParticleCount1', 'ParticleCount2', 'X', 'Y', \n",
    "        'dX', 'dY', 'E', 'P', 'ip', 'oop', 'vert_x', 'vert_y', 'vert_z'\n",
    "    ])\n",
    "p_test = pd.read_csv(data_test_p, sep='\\s+', header=None, names=[\n",
    "        'OUT', 'EventID', 'TrackID', 'ParticleCount1', 'ParticleCount2', 'X', 'Y', \n",
    "        'dX', 'dY', 'E', 'P', 'ip', 'oop', 'vert_x', 'vert_y', 'vert_z'\n",
    "    ])"
   ]
  },
  {
   "cell_type": "code",
   "execution_count": 168,
   "id": "741d514a-0bdc-4baa-83be-714889680a55",
   "metadata": {},
   "outputs": [
    {
     "name": "stdout",
     "output_type": "stream",
     "text": [
      "Length of Test E: 19519\n",
      "Length of Test P: 19519\n"
     ]
    }
   ],
   "source": [
    "print(f\"Length of Test E: {len(e_test)}\")\n",
    "print(f\"Length of Test P: {len(p_test)}\")"
   ]
  },
  {
   "cell_type": "code",
   "execution_count": 169,
   "id": "0276c2be-0904-44c5-b2b9-dac331bdc6a7",
   "metadata": {},
   "outputs": [
    {
     "name": "stdout",
     "output_type": "stream",
     "text": [
      "# of Datapoints with TrackID !=1 in Test E: 0\n",
      "# of Datapoints with TrackID !=2 in Test P: 0\n"
     ]
    }
   ],
   "source": [
    "print(f\"# of Datapoints with TrackID !=1 in Test E: {len(e_test[e_test['TrackID']!=1])}\")\n",
    "print(f\"# of Datapoints with TrackID !=2 in Test P: {len(p_test[p_test['TrackID']!=2])}\")"
   ]
  },
  {
   "cell_type": "markdown",
   "id": "cd117407-694e-4838-9acf-1765e19804c1",
   "metadata": {},
   "source": [
    "# 4. Filter the Signal too"
   ]
  },
  {
   "cell_type": "code",
   "execution_count": 183,
   "id": "fe9ff550-1838-498e-b602-2921552579b6",
   "metadata": {},
   "outputs": [],
   "source": [
    "signal_file = \"mass_recon_data/Signal_DL_SIG_13_30_elec36_pos20.dat\""
   ]
  },
  {
   "cell_type": "code",
   "execution_count": 184,
   "id": "2ede93d2-1493-47a8-83da-8beff0c24ff0",
   "metadata": {},
   "outputs": [],
   "source": [
    "df_signal = pd.read_csv(signal_file, sep='\\s+', header=None, names=[\n",
    "        'OUT', 'EventID', 'TrackID', 'ParticleCount1', 'ParticleCount2', 'X', 'Y', \n",
    "        'dX', 'dY', 'E', 'P', 'ip', 'oop', 'vert_x', 'vert_y', 'vert_z'\n",
    "    ])"
   ]
  },
  {
   "cell_type": "code",
   "execution_count": 179,
   "id": "1d6d7697-b1e3-4340-bea3-99f2c6c8481e",
   "metadata": {},
   "outputs": [],
   "source": [
    "bad_eventids = np.concatenate(bad_events_to_be_removed)"
   ]
  },
  {
   "cell_type": "code",
   "execution_count": 187,
   "id": "cbca1e2c-ec45-439e-ba1a-43f608ddc0cf",
   "metadata": {},
   "outputs": [],
   "source": [
    "data_train_p, data_test_p = get_data_path(side, scat, data_path)\n",
    "p_test = pd.read_csv(data_test_p, sep='\\s+', header=None, names=[\n",
    "        'OUT', 'EventID', 'TrackID', 'ParticleCount1', 'ParticleCount2', 'X', 'Y', \n",
    "        'dX', 'dY', 'E', 'P', 'ip', 'oop', 'vert_x', 'vert_y', 'vert_z'\n",
    "    ])"
   ]
  },
  {
   "cell_type": "code",
   "execution_count": 188,
   "id": "86605c56-3e7b-4478-a736-cc9a5ad8ff4a",
   "metadata": {},
   "outputs": [],
   "source": [
    "test_p_eventid = p_test['EventID']"
   ]
  },
  {
   "cell_type": "code",
   "execution_count": 190,
   "id": "b7f7c873-67b3-4327-b705-ba4c5cabab4a",
   "metadata": {},
   "outputs": [],
   "source": [
    "df_signal_filtered = df_signal[df_signal['EventID'].isin(test_p_eventid)]"
   ]
  },
  {
   "cell_type": "code",
   "execution_count": 192,
   "id": "d4f7e735-8905-4968-b184-4ed51dba651e",
   "metadata": {},
   "outputs": [],
   "source": [
    "df_signal_filtered.to_csv(signal_file, sep=' ', header=False, index=False)"
   ]
  },
  {
   "cell_type": "code",
   "execution_count": null,
   "id": "2f51fb28-203a-472d-bce8-5095de1c2e6e",
   "metadata": {},
   "outputs": [],
   "source": []
  }
 ],
 "metadata": {
  "kernelspec": {
   "display_name": "Python 3 (ipykernel)",
   "language": "python",
   "name": "python3"
  },
  "language_info": {
   "codemirror_mode": {
    "name": "ipython",
    "version": 3
   },
   "file_extension": ".py",
   "mimetype": "text/x-python",
   "name": "python",
   "nbconvert_exporter": "python",
   "pygments_lexer": "ipython3",
   "version": "3.13.2"
  }
 },
 "nbformat": 4,
 "nbformat_minor": 5
}

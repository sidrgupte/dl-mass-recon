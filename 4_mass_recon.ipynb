{
 "cells": [
  {
   "cell_type": "code",
   "execution_count": 1,
   "id": "9dcaf1a0-b561-4e72-8091-9d9974c2d49b",
   "metadata": {
    "editable": true,
    "slideshow": {
     "slide_type": ""
    },
    "tags": []
   },
   "outputs": [],
   "source": [
    "from numpy import array,sum,histogram,exp,subtract\n",
    "from math import tan,sin,cos,pi,sqrt,atan,atan2\n",
    "from scipy import optimize\n",
    "import sys\n",
    "import matplotlib.pyplot as plt\n",
    "from pathlib import Path\n",
    "import numpy as np\n",
    "import pandas as pd"
   ]
  },
  {
   "cell_type": "code",
   "execution_count": 2,
   "id": "755aa208-82f4-4fe8-a8ab-43e8091c71d6",
   "metadata": {
    "editable": true,
    "slideshow": {
     "slide_type": ""
    },
    "tags": []
   },
   "outputs": [],
   "source": [
    "beam_size = \"(0.,0.)mm\"\n",
    "electron_file = \"mass_recon_data/ElectronSort_signal.dat\"\n",
    "positron_file = \"mass_recon_data/PositronSort_no_scat.dat\"\n",
    "generator_file=\"mass_recon_data/Signal_DL_SIG_13_30_elec36_pos20.dat\""
   ]
  },
  {
   "cell_type": "code",
   "execution_count": 3,
   "id": "5d862568-9a31-497e-8196-c2562a8e56ea",
   "metadata": {
    "editable": true,
    "slideshow": {
     "slide_type": ""
    },
    "tags": []
   },
   "outputs": [],
   "source": [
    "def getcomb(tgt):\n",
    "    t_combs = list()\n",
    "    if (tgt == 0):\n",
    "        power_max = 2\n",
    "        for xp in range (0,power_max):\n",
    "            for yp in range (0,power_max):\n",
    "                for dxp in range (0,power_max):\n",
    "                    for dyp in range (0,power_max):\n",
    "                        t_combs.append([xp,yp,dxp,dyp])\n",
    "        # t_combs = [[0],[1,0],[2,0],[0,2],[1,1],[1,2],[2,1],[2,2],[0,0,1,0],[1,0,1,0],[0,1,0,1],[1,0,0,1],[1,0,1,1],[0,2,1,0],[2,0,1,0],[1,2,0,2],[2,2,0,2]]\n",
    "    elif (tgt == 1):\n",
    "        power_max = 2\n",
    "        for xp in range (0,power_max):\n",
    "            for yp in range (0,power_max):\n",
    "                for dxp in range (0,power_max):\n",
    "                    for dyp in range (0,power_max):\n",
    "                        t_combs.append([xp,yp,dxp,dyp])\n",
    "        # t_combs = [[0],[0,1],[0,1,1,0]]#,[1,1,1,0]]\n",
    "    elif (tgt == 2):\n",
    "        power_max = 4\n",
    "        for xp in range (0,power_max):\n",
    "            for yp in range (0,power_max):\n",
    "                for dxp in range (0,power_max):\n",
    "                    for dyp in range (0,power_max):\n",
    "                        t_combs.append([xp,yp,dxp,dyp])\n",
    "        # t_combs = [[0],[1],[0,0,1,0],[0,0,2,0],[0,0,3,0],[1,0,1,0],[1,0,2,0]]\n",
    "    else:\n",
    "        print(\"tgt must be 0, 1, or 2\")\n",
    "        exit(-1)\n",
    "    return t_combs;\n",
    "\n",
    "pcombs = getcomb(0)\n",
    "ipcombs = getcomb(1)\n",
    "oopcombs = getcomb(2)"
   ]
  },
  {
   "cell_type": "code",
   "execution_count": 4,
   "id": "c92c8bde-17e2-4d72-be27-58448ec776c1",
   "metadata": {},
   "outputs": [],
   "source": [
    "def loaddata(Efilename, Pfilename, WeightFile):\n",
    "    res = []\n",
    "    weights = []\n",
    "    eventCount = 0\n",
    "    gen_mass = []\n",
    "    gen_p = []\n",
    "    count = 0\n",
    "    with open(WeightFile, 'r') as Wfile:\n",
    "        for Wline in Wfile:\n",
    "          if count > 10000:\n",
    "              break;\n",
    "          [OUT, num, p1, px1, py1, pz1, p2, px2, py2, pz2, weight, posrand] = Wline.split()\n",
    "          #print(num, \" \", weight)\n",
    "          weights.append(float(weight))\n",
    "          me = 0.51099895000*0.001\n",
    "          e_p = sqrt(float(px1)**2 + float(py1)**2 + float(pz1)**2)\n",
    "          p_p = sqrt(float(px2)**2 + float(py2)**2 + float(pz2)**2)\n",
    "          ee = sqrt(e_p**2 + me**2)\n",
    "          pe = sqrt(p_p**2 + me**2)\n",
    "          # real_mass = sqrt((float(p1)+float(p2))**2 - ((float(px1)+float(px2))**2 + (float(py1)+float(py2))**2 +(float(pz1)+float(pz2))**2))\n",
    "          real_mass = sqrt((ee+pe)**2 - ((float(px1)+float(px2))**2 + (float(py1)+float(py2))**2 +(float(pz1)+float(pz2))**2))\n",
    "          \n",
    "          # e_mass = sqrt((float(p1)+float(p1))**2 - e_p*e_p)\n",
    "          # p_mass = sqrt((float(p2)+float(p2))**2 - p_p*p_p)\n",
    "          # print(p1, px1, py1, pz1, p2, px2, py2, pz2, real_mass)\n",
    "          # print(e_p, p_p, p1, p2, (float(p1)+float(p1))**2 - e_p*e_p, (float(p2)+float(p2))**2 - p_p*p_p)\n",
    "          gen_mass.append(real_mass)\n",
    "          gen_p.append([p1, px1, py1, pz1, p2, px2, py2, pz2])\n",
    "          count += 1\n",
    "  \n",
    "    with open(Efilename, 'r') as Efile, open(Pfilename, 'r') as Pfile:\n",
    "        try:\n",
    "          Eline = next(Efile)\n",
    "          Pline = next(Pfile)\n",
    "          [EOUT, EEventID, ETrackID, EParticleCount1, EParticleCount2, EX, EY, EdX, EdY, EE, EP, Eip, Eoop, vert_x, vert_y, vert_z] = Eline.split()\n",
    "          [POUT, PEventID, PTrackID, PParticleCount1, PParticleCount2, PX, PY, PdX, PdY, PE, PP, Pip, Poop, vert_x, vert_y, vert_z] = Pline.split()\n",
    "          while(True): #load event data and match events between electron and positron files\n",
    "            if int(EEventID) > 10000:\n",
    "                break;\n",
    "            if (int(EEventID) == int(PEventID)):\n",
    "              res.append([float(EX),float(EY),float(EdX),float(EdY),float(PX),float(PY),float(PdX),float(PdY),weights[int(EEventID)],gen_mass[int(EEventID)], \n",
    "                          float(vert_x), float(vert_y), float(vert_z), \n",
    "                          float(gen_p[int(EEventID)][0]), float(gen_p[int(EEventID)][1]), float(gen_p[int(EEventID)][2]), float(gen_p[int(EEventID)][3]), \n",
    "                          float(gen_p[int(EEventID)][4]), float(gen_p[int(EEventID)][5]), float(gen_p[int(EEventID)][6]), float(gen_p[int(EEventID)][7]),\n",
    "                          float(EE), float(EP), float(Eip), float(Eoop),float(PE), float(PP), float(Pip), float(Poop)])\n",
    "              # print(\"Event: \", EEventID, \" \", res[len(res)-1])\n",
    "              # print(\"Event: \", EEventID, \" \", gen_mass[int(EEventID)])\n",
    "              eventCount += 1\n",
    "              Eline = next(Efile)\n",
    "              Pline = next(Pfile)\n",
    "              [EOUT, EEventID, ETrackID, EParticleCount1, EParticleCount2, EX, EY, EdX, EdY, EE, EP, Eip, Eoop, vert_x, vert_y, vert_z] = Eline.split()\n",
    "              [POUT, PEventID, PTrackID, PParticleCount1, PParticleCount2, PX, PY, PdX, PdY, PE, PP, Pip, Poop, vert_x, vert_y, vert_z] = Pline.split()\n",
    "            elif (int(EEventID) > int(PEventID)):\n",
    "              Pline = next(Pfile)\n",
    "              [POUT, PEventID, PTrackID, PParticleCount1, PParticleCount2, PX, PY, PdX, PdY, PE, PP, Pip, Poop, vert_x, vert_y, vert_z] = Pline.split()\n",
    "            else:\n",
    "              Eline = next(Efile)\n",
    "              [EOUT, EEventID, ETrackID, EParticleCount1, EParticleCount2, EX, EY, EdX, EdY, EE, EP, Eip, Eoop, vert_x, vert_y, vert_z] = Eline.split()\n",
    "        except StopIteration:\n",
    "          print(\"End of file!\")\n",
    "\n",
    "    print(\"Event Count: \", eventCount)\n",
    "    return res"
   ]
  },
  {
   "cell_type": "code",
   "execution_count": 5,
   "id": "9b8e42a9-f676-41f0-9a3e-f51b0057393e",
   "metadata": {},
   "outputs": [],
   "source": [
    "signal_data = pd.read_csv(generator_file, sep='\\s+', header=None, names=['OUT', 'num', 'p1', 'px1', 'py1', 'pz1', 'p2', 'px2', 'py2', 'pz2', 'weight', 'posrand'])"
   ]
  },
  {
   "cell_type": "code",
   "execution_count": 6,
   "id": "a6db45ed-b339-4365-b678-bee964020233",
   "metadata": {},
   "outputs": [
    {
     "data": {
      "text/html": [
       "<div>\n",
       "<style scoped>\n",
       "    .dataframe tbody tr th:only-of-type {\n",
       "        vertical-align: middle;\n",
       "    }\n",
       "\n",
       "    .dataframe tbody tr th {\n",
       "        vertical-align: top;\n",
       "    }\n",
       "\n",
       "    .dataframe thead th {\n",
       "        text-align: right;\n",
       "    }\n",
       "</style>\n",
       "<table border=\"1\" class=\"dataframe\">\n",
       "  <thead>\n",
       "    <tr style=\"text-align: right;\">\n",
       "      <th></th>\n",
       "      <th>OUT</th>\n",
       "      <th>num</th>\n",
       "      <th>p1</th>\n",
       "      <th>px1</th>\n",
       "      <th>py1</th>\n",
       "      <th>pz1</th>\n",
       "      <th>p2</th>\n",
       "      <th>px2</th>\n",
       "      <th>py2</th>\n",
       "      <th>pz2</th>\n",
       "      <th>weight</th>\n",
       "      <th>posrand</th>\n",
       "    </tr>\n",
       "  </thead>\n",
       "  <tbody>\n",
       "    <tr>\n",
       "      <th>0</th>\n",
       "      <td>OUT</td>\n",
       "      <td>0</td>\n",
       "      <td>0.009597</td>\n",
       "      <td>0.005747</td>\n",
       "      <td>0.000028</td>\n",
       "      <td>0.007685</td>\n",
       "      <td>0.019519</td>\n",
       "      <td>-0.006579</td>\n",
       "      <td>-0.000385</td>\n",
       "      <td>0.018373</td>\n",
       "      <td>2.666250e-11</td>\n",
       "      <td>0.796460</td>\n",
       "    </tr>\n",
       "    <tr>\n",
       "      <th>1</th>\n",
       "      <td>OUT</td>\n",
       "      <td>1</td>\n",
       "      <td>0.010789</td>\n",
       "      <td>0.006195</td>\n",
       "      <td>0.000449</td>\n",
       "      <td>0.008822</td>\n",
       "      <td>0.018202</td>\n",
       "      <td>-0.006221</td>\n",
       "      <td>0.000313</td>\n",
       "      <td>0.017104</td>\n",
       "      <td>1.493080e-11</td>\n",
       "      <td>0.144926</td>\n",
       "    </tr>\n",
       "    <tr>\n",
       "      <th>2</th>\n",
       "      <td>OUT</td>\n",
       "      <td>2</td>\n",
       "      <td>0.011140</td>\n",
       "      <td>0.006739</td>\n",
       "      <td>0.000358</td>\n",
       "      <td>0.008863</td>\n",
       "      <td>0.016374</td>\n",
       "      <td>-0.005613</td>\n",
       "      <td>0.001324</td>\n",
       "      <td>0.015324</td>\n",
       "      <td>8.992660e-12</td>\n",
       "      <td>0.045927</td>\n",
       "    </tr>\n",
       "    <tr>\n",
       "      <th>3</th>\n",
       "      <td>OUT</td>\n",
       "      <td>3</td>\n",
       "      <td>0.011876</td>\n",
       "      <td>0.006833</td>\n",
       "      <td>-0.000200</td>\n",
       "      <td>0.009712</td>\n",
       "      <td>0.016864</td>\n",
       "      <td>-0.005566</td>\n",
       "      <td>0.000605</td>\n",
       "      <td>0.015908</td>\n",
       "      <td>2.066010e-11</td>\n",
       "      <td>0.055533</td>\n",
       "    </tr>\n",
       "    <tr>\n",
       "      <th>4</th>\n",
       "      <td>OUT</td>\n",
       "      <td>4</td>\n",
       "      <td>0.010261</td>\n",
       "      <td>0.006162</td>\n",
       "      <td>-0.000679</td>\n",
       "      <td>0.008176</td>\n",
       "      <td>0.017683</td>\n",
       "      <td>-0.005996</td>\n",
       "      <td>0.001479</td>\n",
       "      <td>0.016569</td>\n",
       "      <td>3.369300e-11</td>\n",
       "      <td>0.328976</td>\n",
       "    </tr>\n",
       "  </tbody>\n",
       "</table>\n",
       "</div>"
      ],
      "text/plain": [
       "   OUT  num        p1       px1       py1       pz1        p2       px2  \\\n",
       "0  OUT    0  0.009597  0.005747  0.000028  0.007685  0.019519 -0.006579   \n",
       "1  OUT    1  0.010789  0.006195  0.000449  0.008822  0.018202 -0.006221   \n",
       "2  OUT    2  0.011140  0.006739  0.000358  0.008863  0.016374 -0.005613   \n",
       "3  OUT    3  0.011876  0.006833 -0.000200  0.009712  0.016864 -0.005566   \n",
       "4  OUT    4  0.010261  0.006162 -0.000679  0.008176  0.017683 -0.005996   \n",
       "\n",
       "        py2       pz2        weight   posrand  \n",
       "0 -0.000385  0.018373  2.666250e-11  0.796460  \n",
       "1  0.000313  0.017104  1.493080e-11  0.144926  \n",
       "2  0.001324  0.015324  8.992660e-12  0.045927  \n",
       "3  0.000605  0.015908  2.066010e-11  0.055533  \n",
       "4  0.001479  0.016569  3.369300e-11  0.328976  "
      ]
     },
     "execution_count": 6,
     "metadata": {},
     "output_type": "execute_result"
    }
   ],
   "source": [
    "signal_data.head()"
   ]
  },
  {
   "cell_type": "code",
   "execution_count": 7,
   "id": "497a89f2-9041-4f02-aa63-fe578944402d",
   "metadata": {},
   "outputs": [
    {
     "data": {
      "text/plain": [
       "19519"
      ]
     },
     "execution_count": 7,
     "metadata": {},
     "output_type": "execute_result"
    }
   ],
   "source": [
    "len(signal_data['weight'])"
   ]
  },
  {
   "cell_type": "code",
   "execution_count": 8,
   "id": "53a50029-6133-4b7d-bfbe-56a5cd43709c",
   "metadata": {
    "editable": true,
    "slideshow": {
     "slide_type": ""
    },
    "tags": []
   },
   "outputs": [],
   "source": [
    "def gauss(x,*p):\n",
    "    A,mu,sigma=p\n",
    "    return A*exp(-0.5*((x-mu)/sigma)**2)\n",
    "    \n",
    "d2r=pi/180\n",
    "\n",
    "def calc(val,par,combs):#caculates p, ip, and oop by using transfer function parameters obtained through tmafit.py\n",
    "    res=0\n",
    "    # print(len(par), len(combs), len(combs[0]))\n",
    "    for i in range(len(combs)):\n",
    "        pv=par[i]\n",
    "        for  p in range(len(combs[i])):\n",
    "                pv*=val[p]**combs[i][p]\n",
    "        res+=pv            \n",
    "\n",
    "    return res\n",
    "    \n",
    "def get_reke(v):\n",
    "    oop1=calc(v[0:4],s1oop,oopcombs)  #v[0:4] should be x,y,dy,dx(not dx, dy). s1oop are parameters\n",
    "    ip1=calc(v[0:4],s1ip,ipcombs)    \n",
    "    p1=calc(v[0:4],s1p,pcombs)\n",
    "    oop2=calc(v[4:8],s2oop,oopcombs)   # v[4:8] should be x,y,dy,dx(not dx, dy). s2oop are parameters\n",
    "    ip2=calc(v[4:8],s2ip,ipcombs)    \n",
    "    p2=calc(v[4:8],s2p,pcombs)\n",
    "    \n",
    "    reke = [p1, p2, ip1, ip2, oop1, oop2]\n",
    "    return reke"
   ]
  },
  {
   "cell_type": "code",
   "execution_count": 9,
   "id": "5ad288b0-18dd-4b95-8789-e81cdba842c2",
   "metadata": {},
   "outputs": [
    {
     "name": "stdout",
     "output_type": "stream",
     "text": [
      "Event Count:  9748\n"
     ]
    }
   ],
   "source": [
    "data=loaddata(electron_file, positron_file, generator_file)"
   ]
  },
  {
   "cell_type": "code",
   "execution_count": 10,
   "id": "f3e736e6-1c13-4359-ab5f-bd898268251d",
   "metadata": {
    "editable": true,
    "slideshow": {
     "slide_type": ""
    },
    "tags": []
   },
   "outputs": [],
   "source": [
    "p1_file = np.load('p1.npy')\n",
    "ip1_file = np.load('ip1.npy')\n",
    "oop1_file = np.load('oop1.npy')\n",
    "\n",
    "p2_file = np.load('p2.npy')\n",
    "ip2_file = np.load('ip2.npy')\n",
    "oop2_file = np.load('oop2.npy')"
   ]
  },
  {
   "cell_type": "code",
   "execution_count": 11,
   "id": "18c3ede9-57d7-4b0c-92f3-33b0453779a3",
   "metadata": {},
   "outputs": [
    {
     "name": "stdout",
     "output_type": "stream",
     "text": [
      "Momentum:\t\tTrue\n",
      "In-Plane Angle:\t\tTrue\n",
      "Out-of-Plane Angle:\tTrue\n"
     ]
    }
   ],
   "source": [
    "# dimensions check:\n",
    "print(f\"Momentum:\\t\\t{len(p1_file)==len(p2_file)}\")\n",
    "print(f\"In-Plane Angle:\\t\\t{len(p1_file)==len(p2_file)}\")\n",
    "print(f\"Out-of-Plane Angle:\\t{len(p1_file)==len(p2_file)}\")"
   ]
  },
  {
   "cell_type": "code",
   "execution_count": 12,
   "id": "cff902db-9896-490b-bea7-a89cd07aff75",
   "metadata": {
    "editable": true,
    "slideshow": {
     "slide_type": ""
    },
    "tags": []
   },
   "outputs": [],
   "source": [
    "def calcm():\n",
    "    # Load the data\n",
    "    p1 = np.array(p1_file)\n",
    "    ip1 = np.array(ip1_file)  \n",
    "    oop1 = np.array(oop1_file)\n",
    "    \n",
    "    p2 = np.array(p2_file)\n",
    "    ip2 = np.array(ip2_file) \n",
    "    oop2 = np.array(oop2_file)  \n",
    "\n",
    "    d2r = np.pi / 180  \n",
    "\n",
    "    \n",
    "    so = np.tan(oop1 * d2r)\n",
    "    si = np.tan(ip1 * d2r)\n",
    "    l = np.sqrt(1 + si**2 + so**2)\n",
    "    s1 = np.array([si / l, so / l, 1 / l])\n",
    "\n",
    "    so = np.tan(oop2 * d2r)\n",
    "    si = np.tan(ip2 * d2r)\n",
    "    l = np.sqrt(1 + si**2 + so**2)\n",
    "    s2 = np.array([si / l, so / l, 1 / l])\n",
    "\n",
    "    \n",
    "    a1, a2 = 36, -20\n",
    "    a1_rad, a2_rad = a1 * d2r, a2 * d2r\n",
    "\n",
    "    \n",
    "    s1r = np.array([\n",
    "        s1[0] * np.cos(a1_rad) + s1[2] * np.sin(a1_rad),\n",
    "        s1[1],\n",
    "        -s1[0] * np.sin(a1_rad) + s1[2] * np.cos(a1_rad)\n",
    "    ])\n",
    "    \n",
    "    s2r = np.array([\n",
    "        s2[0] * np.cos(a2_rad) + s2[2] * np.sin(a2_rad),\n",
    "        s2[1],\n",
    "        -s2[0] * np.sin(a2_rad) + s2[2] * np.cos(a2_rad)\n",
    "    ])\n",
    "\n",
    "    # Calculate mass\n",
    "    m = np.sqrt(p1**2 + 0.511**2) + np.sqrt(p2**2 + 0.511**2) \n",
    "    p = p1 * s1r + p2 * s2r \n",
    "    m2 = np.sqrt(m**2 - np.sum(p**2, axis=0))  \n",
    "\n",
    "    return m2"
   ]
  },
  {
   "cell_type": "code",
   "execution_count": 13,
   "id": "e6bb243f-1660-4842-8655-724b7059ce21",
   "metadata": {},
   "outputs": [],
   "source": [
    "res=calcm()\n",
    "w=signal_data['weight']\n",
    "gen_m = [d[9]*1000 for d in data]"
   ]
  },
  {
   "cell_type": "code",
   "execution_count": 51,
   "id": "ed81d3d7-1937-4970-a02f-81e3f93633d1",
   "metadata": {},
   "outputs": [
    {
     "data": {
      "image/png": "[encoded data removed]",
      "text/plain": [
       "<Figure size 640x480 with 1 Axes>"
      ]
     },
     "metadata": {},
     "output_type": "display_data"
    }
   ],
   "source": [
    "# range_min, range_max = 12.90, 13.10\n",
    "range_min, range_max = min(res), max(res)\n",
    "\n",
    "mass_hist, bin_edges = np.histogram(res, weights=w, bins=500, range=[range_min, range_max])\n",
    "bin_centres = (bin_edges[:-1] + bin_edges[1:]) / 2\n",
    "\n",
    "initial_guess = [max(mass_hist), np.mean(res), np.std(res)] # initial guess\n",
    "coeff, var_matrix = optimize.curve_fit(gauss, bin_centres, mass_hist, p0=initial_guess) # fit the gaussian\n",
    "A_fit, mu_fit, sigma_fit = coeff # extract the params\n",
    "\n",
    "x_fit = np.linspace(range_min, range_max, 1000)\n",
    "y_fit = gauss(x_fit, A_fit, mu_fit, sigma_fit)\n",
    "\n",
    "plt.hist(res, weights=w, bins=bin_edges, range=[range_min, range_max], histtype='step', linewidth=1.5, density=False, label=\"Recon. Data\")\n",
    "# plt.plot(x_fit, y_fit, label=f\"Gaussian Fit:\\n$\\\\mu={mu_fit:.4f}$ MeV/c$^2$, \\n$\\\\sigma={sigma_fit*1000:.4f}$ keV/c$^2$\", color='orange', linewidth=2)\n",
    "plt.plot(x_fit, y_fit, label=f\"$\\\\mu={mu_fit:.1f}$ MeV/c$^2$\\n$\\\\sigma={sigma_fit*1000:.1f}$ keV/c$^2$\", color='orange', linewidth=2)\n",
    "\n",
    "plt.ylabel(\"Sum of Weights\")\n",
    "plt.title(\"Photon Mass Reconstruction\")\n",
    "plt.xlabel(\"Mass [MeV/c$^2$]\")\n",
    "plt.xlim(12.8, 13.2)\n",
    "plt.savefig(\"mass_recon\", dpi=300)\n",
    "plt.legend()\n",
    "plt.tight_layout()\n",
    "plt.savefig(\"mass_recon.pdf\", dpi=300)\n",
    "plt.show()"
   ]
  },
  {
   "cell_type": "code",
   "execution_count": 15,
   "id": "cb7b06ef-beed-4e28-9f9a-a78f6e6adef9",
   "metadata": {},
   "outputs": [
    {
     "name": "stdout",
     "output_type": "stream",
     "text": [
      "Lower Cutoff: 12.9,\n",
      "Upper Cutoff: 13.1\n",
      "\n",
      "Outside the cutoff: 207 => 1.0605051488293458% data points!\n"
     ]
    }
   ],
   "source": [
    "lower_cutoff = 12.90\n",
    "upper_cutoff = 13.10\n",
    "outside_cutoff = (len(res[res<lower_cutoff]) + len(res[res>upper_cutoff]))\n",
    "\n",
    "print(f\"Lower Cutoff: {lower_cutoff},\\nUpper Cutoff: {upper_cutoff}\\n\")\n",
    "print(f\"Outside the cutoff: {outside_cutoff} => {outside_cutoff/len(res)*100}% data points!\")"
   ]
  },
  {
   "cell_type": "code",
   "execution_count": null,
   "id": "082bc711-aa4b-4551-b9ca-fd007502c81e",
   "metadata": {},
   "outputs": [],
   "source": []
  }
 ],
 "metadata": {
  "kernelspec": {
   "display_name": "Python 3 (ipykernel)",
   "language": "python",
   "name": "python3"
  },
  "language_info": {
   "codemirror_mode": {
    "name": "ipython",
    "version": 3
   },
   "file_extension": ".py",
   "mimetype": "text/x-python",
   "name": "python",
   "nbconvert_exporter": "python",
   "pygments_lexer": "ipython3",
   "version": "3.13.2"
  }
 },
 "nbformat": 4,
 "nbformat_minor": 5
}
